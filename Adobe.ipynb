{
 "cells": [
  {
   "cell_type": "code",
   "execution_count": 1,
   "metadata": {},
   "outputs": [
    {
     "name": "stdout",
     "output_type": "stream",
     "text": [
      "Requirement already satisfied: pandas in /home/jupyterlab/conda/envs/python/lib/python3.6/site-packages (1.1.1)\n",
      "Requirement already satisfied: python-dateutil>=2.7.3 in /home/jupyterlab/conda/envs/python/lib/python3.6/site-packages (from pandas) (2.8.1)\n",
      "Requirement already satisfied: pytz>=2017.2 in /home/jupyterlab/conda/envs/python/lib/python3.6/site-packages (from pandas) (2020.1)\n",
      "Requirement already satisfied: numpy>=1.15.4 in /home/jupyterlab/conda/envs/python/lib/python3.6/site-packages (from pandas) (1.19.1)\n",
      "Requirement already satisfied: six>=1.5 in /home/jupyterlab/conda/envs/python/lib/python3.6/site-packages (from python-dateutil>=2.7.3->pandas) (1.15.0)\n"
     ]
    }
   ],
   "source": [
    "!pip install pandas\n",
    "import pandas as pd"
   ]
  },
  {
   "cell_type": "code",
   "execution_count": 2,
   "metadata": {},
   "outputs": [
    {
     "name": "stdout",
     "output_type": "stream",
     "text": [
      "Collecting package metadata (current_repodata.json): done\n",
      "Solving environment: done\n",
      "\n",
      "\n",
      "==> WARNING: A newer version of conda exists. <==\n",
      "  current version: 4.8.3\n",
      "  latest version: 4.8.4\n",
      "\n",
      "Please update conda by running\n",
      "\n",
      "    $ conda update -n base -c defaults conda\n",
      "\n",
      "\n",
      "\n",
      "# All requested packages already installed.\n",
      "\n"
     ]
    }
   ],
   "source": [
    "!conda install -c conda-forge fbprophet --yes"
   ]
  },
  {
   "cell_type": "code",
   "execution_count": 3,
   "metadata": {},
   "outputs": [
    {
     "name": "stderr",
     "output_type": "stream",
     "text": [
      "Importing plotly failed. Interactive plots will not work.\n"
     ]
    }
   ],
   "source": [
    "from fbprophet import Prophet"
   ]
  },
  {
   "cell_type": "code",
   "execution_count": 9,
   "metadata": {},
   "outputs": [],
   "source": [
    "data3 = pd.read_csv(\"ADBE (1).csv\")\n",
    "data4 = pd.read_csv(\"ADBE.csv\")\n",
    "\n",
    "from fbprophet.plot import plot_plotly, plot_components_plotly\n",
    "\n",
    "data3=data3.rename(columns={'Date':'ds', 'Close':'y'})\n",
    "data4=data4.rename(columns={'Date':'ds', 'Close':'y'})"
   ]
  },
  {
   "cell_type": "code",
   "execution_count": 10,
   "metadata": {},
   "outputs": [
    {
     "data": {
      "text/html": [
       "<div>\n",
       "<style scoped>\n",
       "    .dataframe tbody tr th:only-of-type {\n",
       "        vertical-align: middle;\n",
       "    }\n",
       "\n",
       "    .dataframe tbody tr th {\n",
       "        vertical-align: top;\n",
       "    }\n",
       "\n",
       "    .dataframe thead th {\n",
       "        text-align: right;\n",
       "    }\n",
       "</style>\n",
       "<table border=\"1\" class=\"dataframe\">\n",
       "  <thead>\n",
       "    <tr style=\"text-align: right;\">\n",
       "      <th></th>\n",
       "      <th>ds</th>\n",
       "      <th>Open</th>\n",
       "      <th>High</th>\n",
       "      <th>Low</th>\n",
       "      <th>y</th>\n",
       "      <th>Adj Close</th>\n",
       "      <th>Volume</th>\n",
       "    </tr>\n",
       "  </thead>\n",
       "  <tbody>\n",
       "    <tr>\n",
       "      <th>0</th>\n",
       "      <td>2016-01-18</td>\n",
       "      <td>90.290001</td>\n",
       "      <td>91.400002</td>\n",
       "      <td>84.669998</td>\n",
       "      <td>89.629997</td>\n",
       "      <td>89.629997</td>\n",
       "      <td>17036600</td>\n",
       "    </tr>\n",
       "    <tr>\n",
       "      <th>1</th>\n",
       "      <td>2016-01-25</td>\n",
       "      <td>88.389999</td>\n",
       "      <td>89.260002</td>\n",
       "      <td>82.699997</td>\n",
       "      <td>89.129997</td>\n",
       "      <td>89.129997</td>\n",
       "      <td>19756300</td>\n",
       "    </tr>\n",
       "    <tr>\n",
       "      <th>2</th>\n",
       "      <td>2016-02-01</td>\n",
       "      <td>88.160004</td>\n",
       "      <td>90.239998</td>\n",
       "      <td>77.830002</td>\n",
       "      <td>79.199997</td>\n",
       "      <td>79.199997</td>\n",
       "      <td>23211300</td>\n",
       "    </tr>\n",
       "    <tr>\n",
       "      <th>3</th>\n",
       "      <td>2016-02-08</td>\n",
       "      <td>77.400002</td>\n",
       "      <td>78.330002</td>\n",
       "      <td>71.269997</td>\n",
       "      <td>76.669998</td>\n",
       "      <td>76.669998</td>\n",
       "      <td>35426100</td>\n",
       "    </tr>\n",
       "    <tr>\n",
       "      <th>4</th>\n",
       "      <td>2016-02-15</td>\n",
       "      <td>77.129997</td>\n",
       "      <td>82.820000</td>\n",
       "      <td>77.129997</td>\n",
       "      <td>80.870003</td>\n",
       "      <td>80.870003</td>\n",
       "      <td>16699800</td>\n",
       "    </tr>\n",
       "  </tbody>\n",
       "</table>\n",
       "</div>"
      ],
      "text/plain": [
       "           ds       Open       High        Low          y  Adj Close    Volume\n",
       "0  2016-01-18  90.290001  91.400002  84.669998  89.629997  89.629997  17036600\n",
       "1  2016-01-25  88.389999  89.260002  82.699997  89.129997  89.129997  19756300\n",
       "2  2016-02-01  88.160004  90.239998  77.830002  79.199997  79.199997  23211300\n",
       "3  2016-02-08  77.400002  78.330002  71.269997  76.669998  76.669998  35426100\n",
       "4  2016-02-15  77.129997  82.820000  77.129997  80.870003  80.870003  16699800"
      ]
     },
     "execution_count": 10,
     "metadata": {},
     "output_type": "execute_result"
    }
   ],
   "source": [
    "data3.head()"
   ]
  },
  {
   "cell_type": "code",
   "execution_count": 11,
   "metadata": {},
   "outputs": [
    {
     "name": "stderr",
     "output_type": "stream",
     "text": [
      "INFO:fbprophet:Disabling weekly seasonality. Run prophet with weekly_seasonality=True to override this.\n",
      "INFO:fbprophet:Disabling daily seasonality. Run prophet with daily_seasonality=True to override this.\n"
     ]
    },
    {
     "data": {
      "text/plain": [
       "<fbprophet.forecaster.Prophet at 0x7f919c58d358>"
      ]
     },
     "execution_count": 11,
     "metadata": {},
     "output_type": "execute_result"
    }
   ],
   "source": [
    "m4 = Prophet(yearly_seasonality = True)\n",
    "\n",
    "m4.fit(data3)\n"
   ]
  },
  {
   "cell_type": "code",
   "execution_count": 12,
   "metadata": {},
   "outputs": [
    {
     "data": {
      "text/html": [
       "<div>\n",
       "<style scoped>\n",
       "    .dataframe tbody tr th:only-of-type {\n",
       "        vertical-align: middle;\n",
       "    }\n",
       "\n",
       "    .dataframe tbody tr th {\n",
       "        vertical-align: top;\n",
       "    }\n",
       "\n",
       "    .dataframe thead th {\n",
       "        text-align: right;\n",
       "    }\n",
       "</style>\n",
       "<table border=\"1\" class=\"dataframe\">\n",
       "  <thead>\n",
       "    <tr style=\"text-align: right;\">\n",
       "      <th></th>\n",
       "      <th>ds</th>\n",
       "      <th>yhat</th>\n",
       "      <th>yhat_lower</th>\n",
       "      <th>yhat_upper</th>\n",
       "    </tr>\n",
       "  </thead>\n",
       "  <tbody>\n",
       "    <tr>\n",
       "      <th>432</th>\n",
       "      <td>2020-08-24</td>\n",
       "      <td>365.205433</td>\n",
       "      <td>349.526151</td>\n",
       "      <td>381.420481</td>\n",
       "    </tr>\n",
       "    <tr>\n",
       "      <th>433</th>\n",
       "      <td>2020-08-25</td>\n",
       "      <td>365.389888</td>\n",
       "      <td>349.887788</td>\n",
       "      <td>381.188699</td>\n",
       "    </tr>\n",
       "    <tr>\n",
       "      <th>434</th>\n",
       "      <td>2020-08-26</td>\n",
       "      <td>365.550494</td>\n",
       "      <td>350.367164</td>\n",
       "      <td>381.193463</td>\n",
       "    </tr>\n",
       "    <tr>\n",
       "      <th>435</th>\n",
       "      <td>2020-08-27</td>\n",
       "      <td>365.687892</td>\n",
       "      <td>349.671707</td>\n",
       "      <td>381.168219</td>\n",
       "    </tr>\n",
       "    <tr>\n",
       "      <th>436</th>\n",
       "      <td>2020-08-28</td>\n",
       "      <td>365.803349</td>\n",
       "      <td>350.083666</td>\n",
       "      <td>381.652753</td>\n",
       "    </tr>\n",
       "  </tbody>\n",
       "</table>\n",
       "</div>"
      ],
      "text/plain": [
       "            ds        yhat  yhat_lower  yhat_upper\n",
       "432 2020-08-24  365.205433  349.526151  381.420481\n",
       "433 2020-08-25  365.389888  349.887788  381.188699\n",
       "434 2020-08-26  365.550494  350.367164  381.193463\n",
       "435 2020-08-27  365.687892  349.671707  381.168219\n",
       "436 2020-08-28  365.803349  350.083666  381.652753"
      ]
     },
     "execution_count": 12,
     "metadata": {},
     "output_type": "execute_result"
    }
   ],
   "source": [
    "future = m4.make_future_dataframe(periods = 228)\n",
    "forecast = m4.predict(future)\n",
    "forecast[['ds', 'yhat', 'yhat_lower', 'yhat_upper']].tail()\n",
    "\n"
   ]
  },
  {
   "cell_type": "code",
   "execution_count": 15,
   "metadata": {},
   "outputs": [
    {
     "name": "stderr",
     "output_type": "stream",
     "text": [
      "INFO:matplotlib.category:Using categorical units to plot a list of strings that are all parsable as floats or dates. If these strings should be plotted as numbers, cast to the appropriate data type before plotting.\n",
      "INFO:matplotlib.category:Using categorical units to plot a list of strings that are all parsable as floats or dates. If these strings should be plotted as numbers, cast to the appropriate data type before plotting.\n"
     ]
    },
    {
     "data": {
      "text/plain": [
       "Text(0, 0.5, 'Close of stock')"
      ]
     },
     "execution_count": 15,
     "metadata": {},
     "output_type": "execute_result"
    },
    {
     "data": {
      "image/png": "[encoded data removed]",
      "text/plain": [
       "<Figure size 432x288 with 1 Axes>"
      ]
     },
     "metadata": {
      "needs_background": "light"
     },
     "output_type": "display_data"
    }
   ],
   "source": [
    "\n",
    "import matplotlib.pyplot as plt\n",
    "\n",
    "plt.plot(data4.ds,data4.y)\n",
    "plt.xlabel('01/20/2020 - 09/05/2020')\n",
    "plt.ylabel('Close of stock')\n"
   ]
  },
  {
   "cell_type": "code",
   "execution_count": 18,
   "metadata": {},
   "outputs": [
    {
     "data": {
      "image/png": "[encoded data removed]",
      "text/plain": [
       "<Figure size 720x432 with 1 Axes>"
      ]
     },
     "metadata": {},
     "output_type": "display_data"
    }
   ],
   "source": [
    "fig1 = m4.plot(forecast)"
   ]
  },
  {
   "cell_type": "code",
   "execution_count": 21,
   "metadata": {},
   "outputs": [
    {
     "data": {
      "text/html": [
       "<div>\n",
       "<style scoped>\n",
       "    .dataframe tbody tr th:only-of-type {\n",
       "        vertical-align: middle;\n",
       "    }\n",
       "\n",
       "    .dataframe tbody tr th {\n",
       "        vertical-align: top;\n",
       "    }\n",
       "\n",
       "    .dataframe thead th {\n",
       "        text-align: right;\n",
       "    }\n",
       "</style>\n",
       "<table border=\"1\" class=\"dataframe\">\n",
       "  <thead>\n",
       "    <tr style=\"text-align: right;\">\n",
       "      <th></th>\n",
       "      <th>ds</th>\n",
       "      <th>Open</th>\n",
       "      <th>High</th>\n",
       "      <th>Low</th>\n",
       "      <th>y</th>\n",
       "      <th>Adj Close</th>\n",
       "      <th>Volume</th>\n",
       "    </tr>\n",
       "  </thead>\n",
       "  <tbody>\n",
       "    <tr>\n",
       "      <th>29</th>\n",
       "      <td>2020-08-10</td>\n",
       "      <td>450.369995</td>\n",
       "      <td>455.899994</td>\n",
       "      <td>431.589996</td>\n",
       "      <td>447.600006</td>\n",
       "      <td>447.600006</td>\n",
       "      <td>9100400</td>\n",
       "    </tr>\n",
       "    <tr>\n",
       "      <th>30</th>\n",
       "      <td>2020-08-17</td>\n",
       "      <td>450.000000</td>\n",
       "      <td>479.799988</td>\n",
       "      <td>449.200012</td>\n",
       "      <td>473.220001</td>\n",
       "      <td>473.220001</td>\n",
       "      <td>11223200</td>\n",
       "    </tr>\n",
       "    <tr>\n",
       "      <th>31</th>\n",
       "      <td>2020-08-24</td>\n",
       "      <td>478.140015</td>\n",
       "      <td>533.700012</td>\n",
       "      <td>469.519989</td>\n",
       "      <td>516.440002</td>\n",
       "      <td>516.440002</td>\n",
       "      <td>19146300</td>\n",
       "    </tr>\n",
       "    <tr>\n",
       "      <th>32</th>\n",
       "      <td>2020-08-31</td>\n",
       "      <td>513.859985</td>\n",
       "      <td>536.880005</td>\n",
       "      <td>493.420013</td>\n",
       "      <td>507.799988</td>\n",
       "      <td>507.799988</td>\n",
       "      <td>13380300</td>\n",
       "    </tr>\n",
       "    <tr>\n",
       "      <th>33</th>\n",
       "      <td>2020-09-04</td>\n",
       "      <td>504.649994</td>\n",
       "      <td>511.350006</td>\n",
       "      <td>471.709991</td>\n",
       "      <td>491.940002</td>\n",
       "      <td>491.940002</td>\n",
       "      <td>3900326</td>\n",
       "    </tr>\n",
       "  </tbody>\n",
       "</table>\n",
       "</div>"
      ],
      "text/plain": [
       "            ds        Open        High         Low           y   Adj Close  \\\n",
       "29  2020-08-10  450.369995  455.899994  431.589996  447.600006  447.600006   \n",
       "30  2020-08-17  450.000000  479.799988  449.200012  473.220001  473.220001   \n",
       "31  2020-08-24  478.140015  533.700012  469.519989  516.440002  516.440002   \n",
       "32  2020-08-31  513.859985  536.880005  493.420013  507.799988  507.799988   \n",
       "33  2020-09-04  504.649994  511.350006  471.709991  491.940002  491.940002   \n",
       "\n",
       "      Volume  \n",
       "29   9100400  \n",
       "30  11223200  \n",
       "31  19146300  \n",
       "32  13380300  \n",
       "33   3900326  "
      ]
     },
     "execution_count": 21,
     "metadata": {},
     "output_type": "execute_result"
    }
   ],
   "source": [
    "data4.tail()"
   ]
  },
  {
   "cell_type": "code",
   "execution_count": 22,
   "metadata": {},
   "outputs": [
    {
     "data": {
      "text/html": [
       "<div>\n",
       "<style scoped>\n",
       "    .dataframe tbody tr th:only-of-type {\n",
       "        vertical-align: middle;\n",
       "    }\n",
       "\n",
       "    .dataframe tbody tr th {\n",
       "        vertical-align: top;\n",
       "    }\n",
       "\n",
       "    .dataframe thead th {\n",
       "        text-align: right;\n",
       "    }\n",
       "</style>\n",
       "<table border=\"1\" class=\"dataframe\">\n",
       "  <thead>\n",
       "    <tr style=\"text-align: right;\">\n",
       "      <th></th>\n",
       "      <th>ds</th>\n",
       "      <th>trend</th>\n",
       "      <th>yhat_lower</th>\n",
       "      <th>yhat_upper</th>\n",
       "      <th>trend_lower</th>\n",
       "      <th>trend_upper</th>\n",
       "      <th>additive_terms</th>\n",
       "      <th>additive_terms_lower</th>\n",
       "      <th>additive_terms_upper</th>\n",
       "      <th>yearly</th>\n",
       "      <th>yearly_lower</th>\n",
       "      <th>yearly_upper</th>\n",
       "      <th>multiplicative_terms</th>\n",
       "      <th>multiplicative_terms_lower</th>\n",
       "      <th>multiplicative_terms_upper</th>\n",
       "      <th>yhat</th>\n",
       "    </tr>\n",
       "  </thead>\n",
       "  <tbody>\n",
       "    <tr>\n",
       "      <th>432</th>\n",
       "      <td>2020-08-24</td>\n",
       "      <td>364.681981</td>\n",
       "      <td>349.526151</td>\n",
       "      <td>381.420481</td>\n",
       "      <td>356.266841</td>\n",
       "      <td>374.934618</td>\n",
       "      <td>0.523452</td>\n",
       "      <td>0.523452</td>\n",
       "      <td>0.523452</td>\n",
       "      <td>0.523452</td>\n",
       "      <td>0.523452</td>\n",
       "      <td>0.523452</td>\n",
       "      <td>0.0</td>\n",
       "      <td>0.0</td>\n",
       "      <td>0.0</td>\n",
       "      <td>365.205433</td>\n",
       "    </tr>\n",
       "    <tr>\n",
       "      <th>433</th>\n",
       "      <td>2020-08-25</td>\n",
       "      <td>364.878235</td>\n",
       "      <td>349.887788</td>\n",
       "      <td>381.188699</td>\n",
       "      <td>356.427745</td>\n",
       "      <td>375.254141</td>\n",
       "      <td>0.511653</td>\n",
       "      <td>0.511653</td>\n",
       "      <td>0.511653</td>\n",
       "      <td>0.511653</td>\n",
       "      <td>0.511653</td>\n",
       "      <td>0.511653</td>\n",
       "      <td>0.0</td>\n",
       "      <td>0.0</td>\n",
       "      <td>0.0</td>\n",
       "      <td>365.389888</td>\n",
       "    </tr>\n",
       "    <tr>\n",
       "      <th>434</th>\n",
       "      <td>2020-08-26</td>\n",
       "      <td>365.074489</td>\n",
       "      <td>350.367164</td>\n",
       "      <td>381.193463</td>\n",
       "      <td>356.614985</td>\n",
       "      <td>375.573664</td>\n",
       "      <td>0.476005</td>\n",
       "      <td>0.476005</td>\n",
       "      <td>0.476005</td>\n",
       "      <td>0.476005</td>\n",
       "      <td>0.476005</td>\n",
       "      <td>0.476005</td>\n",
       "      <td>0.0</td>\n",
       "      <td>0.0</td>\n",
       "      <td>0.0</td>\n",
       "      <td>365.550494</td>\n",
       "    </tr>\n",
       "    <tr>\n",
       "      <th>435</th>\n",
       "      <td>2020-08-27</td>\n",
       "      <td>365.270743</td>\n",
       "      <td>349.671707</td>\n",
       "      <td>381.168219</td>\n",
       "      <td>356.779706</td>\n",
       "      <td>375.893594</td>\n",
       "      <td>0.417149</td>\n",
       "      <td>0.417149</td>\n",
       "      <td>0.417149</td>\n",
       "      <td>0.417149</td>\n",
       "      <td>0.417149</td>\n",
       "      <td>0.417149</td>\n",
       "      <td>0.0</td>\n",
       "      <td>0.0</td>\n",
       "      <td>0.0</td>\n",
       "      <td>365.687892</td>\n",
       "    </tr>\n",
       "    <tr>\n",
       "      <th>436</th>\n",
       "      <td>2020-08-28</td>\n",
       "      <td>365.466997</td>\n",
       "      <td>350.083666</td>\n",
       "      <td>381.652753</td>\n",
       "      <td>356.914652</td>\n",
       "      <td>376.177841</td>\n",
       "      <td>0.336352</td>\n",
       "      <td>0.336352</td>\n",
       "      <td>0.336352</td>\n",
       "      <td>0.336352</td>\n",
       "      <td>0.336352</td>\n",
       "      <td>0.336352</td>\n",
       "      <td>0.0</td>\n",
       "      <td>0.0</td>\n",
       "      <td>0.0</td>\n",
       "      <td>365.803349</td>\n",
       "    </tr>\n",
       "  </tbody>\n",
       "</table>\n",
       "</div>"
      ],
      "text/plain": [
       "            ds       trend  yhat_lower  yhat_upper  trend_lower  trend_upper  \\\n",
       "432 2020-08-24  364.681981  349.526151  381.420481   356.266841   374.934618   \n",
       "433 2020-08-25  364.878235  349.887788  381.188699   356.427745   375.254141   \n",
       "434 2020-08-26  365.074489  350.367164  381.193463   356.614985   375.573664   \n",
       "435 2020-08-27  365.270743  349.671707  381.168219   356.779706   375.893594   \n",
       "436 2020-08-28  365.466997  350.083666  381.652753   356.914652   376.177841   \n",
       "\n",
       "     additive_terms  additive_terms_lower  additive_terms_upper    yearly  \\\n",
       "432        0.523452              0.523452              0.523452  0.523452   \n",
       "433        0.511653              0.511653              0.511653  0.511653   \n",
       "434        0.476005              0.476005              0.476005  0.476005   \n",
       "435        0.417149              0.417149              0.417149  0.417149   \n",
       "436        0.336352              0.336352              0.336352  0.336352   \n",
       "\n",
       "     yearly_lower  yearly_upper  multiplicative_terms  \\\n",
       "432      0.523452      0.523452                   0.0   \n",
       "433      0.511653      0.511653                   0.0   \n",
       "434      0.476005      0.476005                   0.0   \n",
       "435      0.417149      0.417149                   0.0   \n",
       "436      0.336352      0.336352                   0.0   \n",
       "\n",
       "     multiplicative_terms_lower  multiplicative_terms_upper        yhat  \n",
       "432                         0.0                         0.0  365.205433  \n",
       "433                         0.0                         0.0  365.389888  \n",
       "434                         0.0                         0.0  365.550494  \n",
       "435                         0.0                         0.0  365.687892  \n",
       "436                         0.0                         0.0  365.803349  "
      ]
     },
     "execution_count": 22,
     "metadata": {},
     "output_type": "execute_result"
    }
   ],
   "source": [
    "forecast.tail()"
   ]
  },
  {
   "cell_type": "code",
   "execution_count": 1,
   "metadata": {},
   "outputs": [
    {
     "name": "stdout",
     "output_type": "stream",
     "text": [
      "Adobe's stocks have been impacted by Covid-19(from the date when the first case was reported in the USA) against the normal flow by\n",
      " 34.482093546934685 % as of 09/05/2020\n"
     ]
    }
   ],
   "source": [
    "adobe_impact = (491.940002 - 365.803349)/365.803349 * 100\n",
    "print(\"Adobe's stocks have been impacted by Covid-19(from the date when the first case was reported in the USA) against the normal flow by\\n\", adobe_impact, \"% as of 09/05/2020\")"
   ]
  },
  {
   "cell_type": "code",
   "execution_count": null,
   "metadata": {},
   "outputs": [],
   "source": []
  }
 ],
 "metadata": {
  "kernelspec": {
   "display_name": "Python",
   "language": "python",
   "name": "conda-env-python-py"
  },
  "language_info": {
   "codemirror_mode": {
    "name": "ipython",
    "version": 3
   },
   "file_extension": ".py",
   "mimetype": "text/x-python",
   "name": "python",
   "nbconvert_exporter": "python",
   "pygments_lexer": "ipython3",
   "version": "3.6.11"
  }
 },
 "nbformat": 4,
 "nbformat_minor": 4
}
