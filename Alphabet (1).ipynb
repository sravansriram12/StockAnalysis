{
 "cells": [
  {
   "cell_type": "code",
   "execution_count": 1,
   "metadata": {},
   "outputs": [
    {
     "name": "stdout",
     "output_type": "stream",
     "text": [
      "Requirement already satisfied: pandas in /home/jupyterlab/conda/envs/python/lib/python3.6/site-packages (1.1.1)\n",
      "Requirement already satisfied: python-dateutil>=2.7.3 in /home/jupyterlab/conda/envs/python/lib/python3.6/site-packages (from pandas) (2.8.1)\n",
      "Requirement already satisfied: pytz>=2017.2 in /home/jupyterlab/conda/envs/python/lib/python3.6/site-packages (from pandas) (2020.1)\n",
      "Requirement already satisfied: numpy>=1.15.4 in /home/jupyterlab/conda/envs/python/lib/python3.6/site-packages (from pandas) (1.19.1)\n",
      "Requirement already satisfied: six>=1.5 in /home/jupyterlab/conda/envs/python/lib/python3.6/site-packages (from python-dateutil>=2.7.3->pandas) (1.15.0)\n"
     ]
    }
   ],
   "source": [
    "!pip install pandas\n",
    "\n",
    "import pandas as pd\n"
   ]
  },
  {
   "cell_type": "code",
   "execution_count": 2,
   "metadata": {},
   "outputs": [
    {
     "name": "stdout",
     "output_type": "stream",
     "text": [
      "Collecting package metadata (current_repodata.json): done\n",
      "Solving environment: done\n",
      "\n",
      "\n",
      "==> WARNING: A newer version of conda exists. <==\n",
      "  current version: 4.8.3\n",
      "  latest version: 4.8.4\n",
      "\n",
      "Please update conda by running\n",
      "\n",
      "    $ conda update -n base -c defaults conda\n",
      "\n",
      "\n",
      "\n",
      "# All requested packages already installed.\n",
      "\n"
     ]
    }
   ],
   "source": [
    "!conda install -c conda-forge fbprophet --yes\n"
   ]
  },
  {
   "cell_type": "code",
   "execution_count": 3,
   "metadata": {},
   "outputs": [
    {
     "name": "stderr",
     "output_type": "stream",
     "text": [
      "Importing plotly failed. Interactive plots will not work.\n"
     ]
    }
   ],
   "source": [
    "from fbprophet import Prophet\n"
   ]
  },
  {
   "cell_type": "code",
   "execution_count": 12,
   "metadata": {},
   "outputs": [],
   "source": [
    "data = pd.read_csv(\"GOOG (4).csv\")   #predictive model file, data taken from 01/20/2016 - 01/20/2020\n",
    "                                     \n",
    "data2 = pd.read_csv(\"GOOG (3).csv\") #actual model file, data taken from 01/20/2020 - 09/05/2020\n",
    "\n",
    "from fbprophet.plot import plot_plotly, plot_components_plotly\n",
    "\n",
    "data=data.rename(columns={'Date':'ds', 'Close':'y'})\n",
    "data2=data2.rename(columns={'Date':'ds', 'Close':'y'})"
   ]
  },
  {
   "cell_type": "code",
   "execution_count": 13,
   "metadata": {},
   "outputs": [
    {
     "data": {
      "text/html": [
       "<div>\n",
       "<style scoped>\n",
       "    .dataframe tbody tr th:only-of-type {\n",
       "        vertical-align: middle;\n",
       "    }\n",
       "\n",
       "    .dataframe tbody tr th {\n",
       "        vertical-align: top;\n",
       "    }\n",
       "\n",
       "    .dataframe thead th {\n",
       "        text-align: right;\n",
       "    }\n",
       "</style>\n",
       "<table border=\"1\" class=\"dataframe\">\n",
       "  <thead>\n",
       "    <tr style=\"text-align: right;\">\n",
       "      <th></th>\n",
       "      <th>ds</th>\n",
       "      <th>Open</th>\n",
       "      <th>High</th>\n",
       "      <th>Low</th>\n",
       "      <th>y</th>\n",
       "      <th>Adj Close</th>\n",
       "      <th>Volume</th>\n",
       "    </tr>\n",
       "  </thead>\n",
       "  <tbody>\n",
       "    <tr>\n",
       "      <th>0</th>\n",
       "      <td>2016-01-18</td>\n",
       "      <td>688.609985</td>\n",
       "      <td>728.130005</td>\n",
       "      <td>673.260010</td>\n",
       "      <td>725.250000</td>\n",
       "      <td>725.250000</td>\n",
       "      <td>7869000</td>\n",
       "    </tr>\n",
       "    <tr>\n",
       "      <th>1</th>\n",
       "      <td>2016-01-25</td>\n",
       "      <td>723.580017</td>\n",
       "      <td>744.989990</td>\n",
       "      <td>694.390015</td>\n",
       "      <td>742.950012</td>\n",
       "      <td>742.950012</td>\n",
       "      <td>11388300</td>\n",
       "    </tr>\n",
       "    <tr>\n",
       "      <th>2</th>\n",
       "      <td>2016-02-01</td>\n",
       "      <td>750.460022</td>\n",
       "      <td>789.869995</td>\n",
       "      <td>680.150024</td>\n",
       "      <td>683.570007</td>\n",
       "      <td>683.570007</td>\n",
       "      <td>27932700</td>\n",
       "    </tr>\n",
       "    <tr>\n",
       "      <th>3</th>\n",
       "      <td>2016-02-08</td>\n",
       "      <td>667.849976</td>\n",
       "      <td>701.309998</td>\n",
       "      <td>663.059998</td>\n",
       "      <td>682.400024</td>\n",
       "      <td>682.400024</td>\n",
       "      <td>15659700</td>\n",
       "    </tr>\n",
       "    <tr>\n",
       "      <th>4</th>\n",
       "      <td>2016-02-15</td>\n",
       "      <td>692.979980</td>\n",
       "      <td>712.349976</td>\n",
       "      <td>685.049988</td>\n",
       "      <td>700.909973</td>\n",
       "      <td>700.909973</td>\n",
       "      <td>8485100</td>\n",
       "    </tr>\n",
       "  </tbody>\n",
       "</table>\n",
       "</div>"
      ],
      "text/plain": [
       "           ds        Open        High         Low           y   Adj Close  \\\n",
       "0  2016-01-18  688.609985  728.130005  673.260010  725.250000  725.250000   \n",
       "1  2016-01-25  723.580017  744.989990  694.390015  742.950012  742.950012   \n",
       "2  2016-02-01  750.460022  789.869995  680.150024  683.570007  683.570007   \n",
       "3  2016-02-08  667.849976  701.309998  663.059998  682.400024  682.400024   \n",
       "4  2016-02-15  692.979980  712.349976  685.049988  700.909973  700.909973   \n",
       "\n",
       "     Volume  \n",
       "0   7869000  \n",
       "1  11388300  \n",
       "2  27932700  \n",
       "3  15659700  \n",
       "4   8485100  "
      ]
     },
     "execution_count": 13,
     "metadata": {},
     "output_type": "execute_result"
    }
   ],
   "source": [
    "data.head()"
   ]
  },
  {
   "cell_type": "code",
   "execution_count": 14,
   "metadata": {},
   "outputs": [
    {
     "name": "stderr",
     "output_type": "stream",
     "text": [
      "INFO:fbprophet:Disabling weekly seasonality. Run prophet with weekly_seasonality=True to override this.\n",
      "INFO:fbprophet:Disabling daily seasonality. Run prophet with daily_seasonality=True to override this.\n"
     ]
    },
    {
     "data": {
      "text/plain": [
       "<fbprophet.forecaster.Prophet at 0x7f23e5453198>"
      ]
     },
     "execution_count": 14,
     "metadata": {},
     "output_type": "execute_result"
    }
   ],
   "source": [
    "m = Prophet(yearly_seasonality = True)\n",
    "m.fit(data)"
   ]
  },
  {
   "cell_type": "code",
   "execution_count": 15,
   "metadata": {},
   "outputs": [
    {
     "data": {
      "text/html": [
       "<div>\n",
       "<style scoped>\n",
       "    .dataframe tbody tr th:only-of-type {\n",
       "        vertical-align: middle;\n",
       "    }\n",
       "\n",
       "    .dataframe tbody tr th {\n",
       "        vertical-align: top;\n",
       "    }\n",
       "\n",
       "    .dataframe thead th {\n",
       "        text-align: right;\n",
       "    }\n",
       "</style>\n",
       "<table border=\"1\" class=\"dataframe\">\n",
       "  <thead>\n",
       "    <tr style=\"text-align: right;\">\n",
       "      <th></th>\n",
       "      <th>ds</th>\n",
       "      <th>yhat</th>\n",
       "      <th>yhat_lower</th>\n",
       "      <th>yhat_upper</th>\n",
       "    </tr>\n",
       "  </thead>\n",
       "  <tbody>\n",
       "    <tr>\n",
       "      <th>432</th>\n",
       "      <td>2020-08-24</td>\n",
       "      <td>1486.472539</td>\n",
       "      <td>1419.072299</td>\n",
       "      <td>1550.175855</td>\n",
       "    </tr>\n",
       "    <tr>\n",
       "      <th>433</th>\n",
       "      <td>2020-08-25</td>\n",
       "      <td>1487.073812</td>\n",
       "      <td>1418.760445</td>\n",
       "      <td>1549.704994</td>\n",
       "    </tr>\n",
       "    <tr>\n",
       "      <th>434</th>\n",
       "      <td>2020-08-26</td>\n",
       "      <td>1487.729920</td>\n",
       "      <td>1418.904388</td>\n",
       "      <td>1551.775261</td>\n",
       "    </tr>\n",
       "    <tr>\n",
       "      <th>435</th>\n",
       "      <td>2020-08-27</td>\n",
       "      <td>1488.433961</td>\n",
       "      <td>1421.039376</td>\n",
       "      <td>1554.696641</td>\n",
       "    </tr>\n",
       "    <tr>\n",
       "      <th>436</th>\n",
       "      <td>2020-08-28</td>\n",
       "      <td>1489.179499</td>\n",
       "      <td>1421.839555</td>\n",
       "      <td>1551.782771</td>\n",
       "    </tr>\n",
       "  </tbody>\n",
       "</table>\n",
       "</div>"
      ],
      "text/plain": [
       "            ds         yhat   yhat_lower   yhat_upper\n",
       "432 2020-08-24  1486.472539  1419.072299  1550.175855\n",
       "433 2020-08-25  1487.073812  1418.760445  1549.704994\n",
       "434 2020-08-26  1487.729920  1418.904388  1551.775261\n",
       "435 2020-08-27  1488.433961  1421.039376  1554.696641\n",
       "436 2020-08-28  1489.179499  1421.839555  1551.782771"
      ]
     },
     "execution_count": 15,
     "metadata": {},
     "output_type": "execute_result"
    }
   ],
   "source": [
    "future = m.make_future_dataframe(periods = 228)\n",
    "forecast = m.predict(future)\n",
    "forecast[['ds', 'yhat', 'yhat_lower', 'yhat_upper']].tail()"
   ]
  },
  {
   "cell_type": "code",
   "execution_count": 16,
   "metadata": {},
   "outputs": [
    {
     "name": "stderr",
     "output_type": "stream",
     "text": [
      "INFO:matplotlib.category:Using categorical units to plot a list of strings that are all parsable as floats or dates. If these strings should be plotted as numbers, cast to the appropriate data type before plotting.\n",
      "INFO:matplotlib.category:Using categorical units to plot a list of strings that are all parsable as floats or dates. If these strings should be plotted as numbers, cast to the appropriate data type before plotting.\n"
     ]
    },
    {
     "data": {
      "text/plain": [
       "Text(0, 0.5, 'Close of stock')"
      ]
     },
     "execution_count": 16,
     "metadata": {},
     "output_type": "execute_result"
    },
    {
     "data": {
      "image/png": "[encoded data removed]",
      "text/plain": [
       "<Figure size 432x288 with 1 Axes>"
      ]
     },
     "metadata": {
      "needs_background": "light"
     },
     "output_type": "display_data"
    }
   ],
   "source": [
    "import matplotlib.pyplot as plt\n",
    "\n",
    "plt.plot(data2.ds,data2.y)\n",
    "plt.xlabel('01/20/2020 - 09/05/2020')\n",
    "plt.ylabel('Close of stock')\n"
   ]
  },
  {
   "cell_type": "code",
   "execution_count": 17,
   "metadata": {},
   "outputs": [
    {
     "data": {
      "image/png": "[encoded data removed]",
      "text/plain": [
       "<Figure size 720x432 with 1 Axes>"
      ]
     },
     "metadata": {},
     "output_type": "display_data"
    }
   ],
   "source": [
    "fig1 = m.plot(forecast)"
   ]
  },
  {
   "cell_type": "code",
   "execution_count": 18,
   "metadata": {},
   "outputs": [
    {
     "data": {
      "text/html": [
       "<div>\n",
       "<style scoped>\n",
       "    .dataframe tbody tr th:only-of-type {\n",
       "        vertical-align: middle;\n",
       "    }\n",
       "\n",
       "    .dataframe tbody tr th {\n",
       "        vertical-align: top;\n",
       "    }\n",
       "\n",
       "    .dataframe thead th {\n",
       "        text-align: right;\n",
       "    }\n",
       "</style>\n",
       "<table border=\"1\" class=\"dataframe\">\n",
       "  <thead>\n",
       "    <tr style=\"text-align: right;\">\n",
       "      <th></th>\n",
       "      <th>ds</th>\n",
       "      <th>Open</th>\n",
       "      <th>High</th>\n",
       "      <th>Low</th>\n",
       "      <th>y</th>\n",
       "      <th>Adj Close</th>\n",
       "      <th>Volume</th>\n",
       "    </tr>\n",
       "  </thead>\n",
       "  <tbody>\n",
       "    <tr>\n",
       "      <th>204</th>\n",
       "      <td>2019-12-16</td>\n",
       "      <td>1356.500000</td>\n",
       "      <td>1365.000000</td>\n",
       "      <td>1348.984985</td>\n",
       "      <td>1349.589966</td>\n",
       "      <td>1349.589966</td>\n",
       "      <td>9558800</td>\n",
       "    </tr>\n",
       "    <tr>\n",
       "      <th>205</th>\n",
       "      <td>2019-12-23</td>\n",
       "      <td>1355.869995</td>\n",
       "      <td>1364.530029</td>\n",
       "      <td>1342.780029</td>\n",
       "      <td>1351.890015</td>\n",
       "      <td>1351.890015</td>\n",
       "      <td>2936500</td>\n",
       "    </tr>\n",
       "    <tr>\n",
       "      <th>206</th>\n",
       "      <td>2019-12-30</td>\n",
       "      <td>1350.000000</td>\n",
       "      <td>1372.500000</td>\n",
       "      <td>1329.084961</td>\n",
       "      <td>1360.660034</td>\n",
       "      <td>1360.660034</td>\n",
       "      <td>4605700</td>\n",
       "    </tr>\n",
       "    <tr>\n",
       "      <th>207</th>\n",
       "      <td>2020-01-06</td>\n",
       "      <td>1350.000000</td>\n",
       "      <td>1434.928955</td>\n",
       "      <td>1350.000000</td>\n",
       "      <td>1429.729980</td>\n",
       "      <td>1429.729980</td>\n",
       "      <td>8084600</td>\n",
       "    </tr>\n",
       "    <tr>\n",
       "      <th>208</th>\n",
       "      <td>2020-01-13</td>\n",
       "      <td>1436.130005</td>\n",
       "      <td>1481.295044</td>\n",
       "      <td>1426.020020</td>\n",
       "      <td>1480.390015</td>\n",
       "      <td>1480.390015</td>\n",
       "      <td>8063800</td>\n",
       "    </tr>\n",
       "  </tbody>\n",
       "</table>\n",
       "</div>"
      ],
      "text/plain": [
       "             ds         Open         High          Low            y  \\\n",
       "204  2019-12-16  1356.500000  1365.000000  1348.984985  1349.589966   \n",
       "205  2019-12-23  1355.869995  1364.530029  1342.780029  1351.890015   \n",
       "206  2019-12-30  1350.000000  1372.500000  1329.084961  1360.660034   \n",
       "207  2020-01-06  1350.000000  1434.928955  1350.000000  1429.729980   \n",
       "208  2020-01-13  1436.130005  1481.295044  1426.020020  1480.390015   \n",
       "\n",
       "       Adj Close   Volume  \n",
       "204  1349.589966  9558800  \n",
       "205  1351.890015  2936500  \n",
       "206  1360.660034  4605700  \n",
       "207  1429.729980  8084600  \n",
       "208  1480.390015  8063800  "
      ]
     },
     "execution_count": 18,
     "metadata": {},
     "output_type": "execute_result"
    }
   ],
   "source": [
    "data2.tail()"
   ]
  },
  {
   "cell_type": "code",
   "execution_count": 19,
   "metadata": {},
   "outputs": [
    {
     "data": {
      "text/html": [
       "<div>\n",
       "<style scoped>\n",
       "    .dataframe tbody tr th:only-of-type {\n",
       "        vertical-align: middle;\n",
       "    }\n",
       "\n",
       "    .dataframe tbody tr th {\n",
       "        vertical-align: top;\n",
       "    }\n",
       "\n",
       "    .dataframe thead th {\n",
       "        text-align: right;\n",
       "    }\n",
       "</style>\n",
       "<table border=\"1\" class=\"dataframe\">\n",
       "  <thead>\n",
       "    <tr style=\"text-align: right;\">\n",
       "      <th></th>\n",
       "      <th>ds</th>\n",
       "      <th>trend</th>\n",
       "      <th>yhat_lower</th>\n",
       "      <th>yhat_upper</th>\n",
       "      <th>trend_lower</th>\n",
       "      <th>trend_upper</th>\n",
       "      <th>additive_terms</th>\n",
       "      <th>additive_terms_lower</th>\n",
       "      <th>additive_terms_upper</th>\n",
       "      <th>yearly</th>\n",
       "      <th>yearly_lower</th>\n",
       "      <th>yearly_upper</th>\n",
       "      <th>multiplicative_terms</th>\n",
       "      <th>multiplicative_terms_lower</th>\n",
       "      <th>multiplicative_terms_upper</th>\n",
       "      <th>yhat</th>\n",
       "    </tr>\n",
       "  </thead>\n",
       "  <tbody>\n",
       "    <tr>\n",
       "      <th>432</th>\n",
       "      <td>2020-08-24</td>\n",
       "      <td>1490.703974</td>\n",
       "      <td>1419.072299</td>\n",
       "      <td>1550.175855</td>\n",
       "      <td>1457.536405</td>\n",
       "      <td>1520.882038</td>\n",
       "      <td>-4.231436</td>\n",
       "      <td>-4.231436</td>\n",
       "      <td>-4.231436</td>\n",
       "      <td>-4.231436</td>\n",
       "      <td>-4.231436</td>\n",
       "      <td>-4.231436</td>\n",
       "      <td>0.0</td>\n",
       "      <td>0.0</td>\n",
       "      <td>0.0</td>\n",
       "      <td>1486.472539</td>\n",
       "    </tr>\n",
       "    <tr>\n",
       "      <th>433</th>\n",
       "      <td>2020-08-25</td>\n",
       "      <td>1491.403836</td>\n",
       "      <td>1418.760445</td>\n",
       "      <td>1549.704994</td>\n",
       "      <td>1458.076578</td>\n",
       "      <td>1521.818678</td>\n",
       "      <td>-4.330024</td>\n",
       "      <td>-4.330024</td>\n",
       "      <td>-4.330024</td>\n",
       "      <td>-4.330024</td>\n",
       "      <td>-4.330024</td>\n",
       "      <td>-4.330024</td>\n",
       "      <td>0.0</td>\n",
       "      <td>0.0</td>\n",
       "      <td>0.0</td>\n",
       "      <td>1487.073812</td>\n",
       "    </tr>\n",
       "    <tr>\n",
       "      <th>434</th>\n",
       "      <td>2020-08-26</td>\n",
       "      <td>1492.103698</td>\n",
       "      <td>1418.904388</td>\n",
       "      <td>1551.775261</td>\n",
       "      <td>1458.619002</td>\n",
       "      <td>1522.749198</td>\n",
       "      <td>-4.373777</td>\n",
       "      <td>-4.373777</td>\n",
       "      <td>-4.373777</td>\n",
       "      <td>-4.373777</td>\n",
       "      <td>-4.373777</td>\n",
       "      <td>-4.373777</td>\n",
       "      <td>0.0</td>\n",
       "      <td>0.0</td>\n",
       "      <td>0.0</td>\n",
       "      <td>1487.729920</td>\n",
       "    </tr>\n",
       "    <tr>\n",
       "      <th>435</th>\n",
       "      <td>2020-08-27</td>\n",
       "      <td>1492.803559</td>\n",
       "      <td>1421.039376</td>\n",
       "      <td>1554.696641</td>\n",
       "      <td>1459.101880</td>\n",
       "      <td>1523.669585</td>\n",
       "      <td>-4.369599</td>\n",
       "      <td>-4.369599</td>\n",
       "      <td>-4.369599</td>\n",
       "      <td>-4.369599</td>\n",
       "      <td>-4.369599</td>\n",
       "      <td>-4.369599</td>\n",
       "      <td>0.0</td>\n",
       "      <td>0.0</td>\n",
       "      <td>0.0</td>\n",
       "      <td>1488.433961</td>\n",
       "    </tr>\n",
       "    <tr>\n",
       "      <th>436</th>\n",
       "      <td>2020-08-28</td>\n",
       "      <td>1493.503421</td>\n",
       "      <td>1421.839555</td>\n",
       "      <td>1551.782771</td>\n",
       "      <td>1459.511458</td>\n",
       "      <td>1524.589972</td>\n",
       "      <td>-4.323921</td>\n",
       "      <td>-4.323921</td>\n",
       "      <td>-4.323921</td>\n",
       "      <td>-4.323921</td>\n",
       "      <td>-4.323921</td>\n",
       "      <td>-4.323921</td>\n",
       "      <td>0.0</td>\n",
       "      <td>0.0</td>\n",
       "      <td>0.0</td>\n",
       "      <td>1489.179499</td>\n",
       "    </tr>\n",
       "  </tbody>\n",
       "</table>\n",
       "</div>"
      ],
      "text/plain": [
       "            ds        trend   yhat_lower   yhat_upper  trend_lower  \\\n",
       "432 2020-08-24  1490.703974  1419.072299  1550.175855  1457.536405   \n",
       "433 2020-08-25  1491.403836  1418.760445  1549.704994  1458.076578   \n",
       "434 2020-08-26  1492.103698  1418.904388  1551.775261  1458.619002   \n",
       "435 2020-08-27  1492.803559  1421.039376  1554.696641  1459.101880   \n",
       "436 2020-08-28  1493.503421  1421.839555  1551.782771  1459.511458   \n",
       "\n",
       "     trend_upper  additive_terms  additive_terms_lower  additive_terms_upper  \\\n",
       "432  1520.882038       -4.231436             -4.231436             -4.231436   \n",
       "433  1521.818678       -4.330024             -4.330024             -4.330024   \n",
       "434  1522.749198       -4.373777             -4.373777             -4.373777   \n",
       "435  1523.669585       -4.369599             -4.369599             -4.369599   \n",
       "436  1524.589972       -4.323921             -4.323921             -4.323921   \n",
       "\n",
       "       yearly  yearly_lower  yearly_upper  multiplicative_terms  \\\n",
       "432 -4.231436     -4.231436     -4.231436                   0.0   \n",
       "433 -4.330024     -4.330024     -4.330024                   0.0   \n",
       "434 -4.373777     -4.373777     -4.373777                   0.0   \n",
       "435 -4.369599     -4.369599     -4.369599                   0.0   \n",
       "436 -4.323921     -4.323921     -4.323921                   0.0   \n",
       "\n",
       "     multiplicative_terms_lower  multiplicative_terms_upper         yhat  \n",
       "432                         0.0                         0.0  1486.472539  \n",
       "433                         0.0                         0.0  1487.073812  \n",
       "434                         0.0                         0.0  1487.729920  \n",
       "435                         0.0                         0.0  1488.433961  \n",
       "436                         0.0                         0.0  1489.179499  "
      ]
     },
     "execution_count": 19,
     "metadata": {},
     "output_type": "execute_result"
    }
   ],
   "source": [
    "forecast.tail()"
   ]
  },
  {
   "cell_type": "code",
   "execution_count": 2,
   "metadata": {},
   "outputs": [
    {
     "name": "stdout",
     "output_type": "stream",
     "text": [
      "Alphabet's stocks have been impacted against the normal flow by Covid-19(from when the first case was reported in the USA) by\n",
      " -0.5902232743535861 %\n"
     ]
    }
   ],
   "source": [
    "alphabet_impact = (1480.390015-1489.179499)/1489.179499 * 100\n",
    "print(\"Alphabet's stocks have been impacted against the normal flow by Covid-19(from when the first case was reported in the USA) by\\n\",alphabet_impact,\"%\")"
   ]
  },
  {
   "cell_type": "code",
   "execution_count": null,
   "metadata": {},
   "outputs": [],
   "source": []
  },
  {
   "cell_type": "code",
   "execution_count": null,
   "metadata": {},
   "outputs": [],
   "source": []
  }
 ],
 "metadata": {
  "kernelspec": {
   "display_name": "Python",
   "language": "python",
   "name": "conda-env-python-py"
  },
  "language_info": {
   "codemirror_mode": {
    "name": "ipython",
    "version": 3
   },
   "file_extension": ".py",
   "mimetype": "text/x-python",
   "name": "python",
   "nbconvert_exporter": "python",
   "pygments_lexer": "ipython3",
   "version": "3.6.11"
  }
 },
 "nbformat": 4,
 "nbformat_minor": 4
}
