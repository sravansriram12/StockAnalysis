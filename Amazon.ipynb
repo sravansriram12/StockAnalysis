{
 "cells": [
  {
   "cell_type": "code",
   "execution_count": 1,
   "metadata": {},
   "outputs": [
    {
     "name": "stdout",
     "output_type": "stream",
     "text": [
      "Requirement already satisfied: pandas in /home/jupyterlab/conda/envs/python/lib/python3.6/site-packages (1.1.1)\n",
      "Requirement already satisfied: python-dateutil>=2.7.3 in /home/jupyterlab/conda/envs/python/lib/python3.6/site-packages (from pandas) (2.8.1)\n",
      "Requirement already satisfied: pytz>=2017.2 in /home/jupyterlab/conda/envs/python/lib/python3.6/site-packages (from pandas) (2020.1)\n",
      "Requirement already satisfied: numpy>=1.15.4 in /home/jupyterlab/conda/envs/python/lib/python3.6/site-packages (from pandas) (1.19.1)\n",
      "Requirement already satisfied: six>=1.5 in /home/jupyterlab/conda/envs/python/lib/python3.6/site-packages (from python-dateutil>=2.7.3->pandas) (1.15.0)\n"
     ]
    }
   ],
   "source": [
    "!pip install pandas\n",
    "import pandas as pd"
   ]
  },
  {
   "cell_type": "code",
   "execution_count": 2,
   "metadata": {},
   "outputs": [
    {
     "name": "stdout",
     "output_type": "stream",
     "text": [
      "Collecting package metadata (current_repodata.json): done\n",
      "Solving environment: done\n",
      "\n",
      "\n",
      "==> WARNING: A newer version of conda exists. <==\n",
      "  current version: 4.8.3\n",
      "  latest version: 4.8.4\n",
      "\n",
      "Please update conda by running\n",
      "\n",
      "    $ conda update -n base -c defaults conda\n",
      "\n",
      "\n",
      "\n",
      "# All requested packages already installed.\n",
      "\n"
     ]
    }
   ],
   "source": [
    "!conda install -c conda-forge fbprophet --yes"
   ]
  },
  {
   "cell_type": "code",
   "execution_count": 3,
   "metadata": {},
   "outputs": [
    {
     "name": "stderr",
     "output_type": "stream",
     "text": [
      "Importing plotly failed. Interactive plots will not work.\n"
     ]
    }
   ],
   "source": [
    "from fbprophet import Prophet"
   ]
  },
  {
   "cell_type": "code",
   "execution_count": 11,
   "metadata": {},
   "outputs": [],
   "source": [
    "data3 = pd.read_csv(\"AMZN (2).csv\")\n",
    "data4 = pd.read_csv(\"AMZN (3).csv\")\n",
    "\n",
    "from fbprophet.plot import plot_plotly, plot_components_plotly\n",
    "\n",
    "data3=data3.rename(columns={'Date':'ds', 'Close':'y'})\n",
    "data4=data4.rename(columns={'Date':'ds', 'Close':'y'})"
   ]
  },
  {
   "cell_type": "code",
   "execution_count": 12,
   "metadata": {},
   "outputs": [
    {
     "data": {
      "text/html": [
       "<div>\n",
       "<style scoped>\n",
       "    .dataframe tbody tr th:only-of-type {\n",
       "        vertical-align: middle;\n",
       "    }\n",
       "\n",
       "    .dataframe tbody tr th {\n",
       "        vertical-align: top;\n",
       "    }\n",
       "\n",
       "    .dataframe thead th {\n",
       "        text-align: right;\n",
       "    }\n",
       "</style>\n",
       "<table border=\"1\" class=\"dataframe\">\n",
       "  <thead>\n",
       "    <tr style=\"text-align: right;\">\n",
       "      <th></th>\n",
       "      <th>ds</th>\n",
       "      <th>Open</th>\n",
       "      <th>High</th>\n",
       "      <th>Low</th>\n",
       "      <th>y</th>\n",
       "      <th>Adj Close</th>\n",
       "      <th>Volume</th>\n",
       "    </tr>\n",
       "  </thead>\n",
       "  <tbody>\n",
       "    <tr>\n",
       "      <th>0</th>\n",
       "      <td>2016-01-18</td>\n",
       "      <td>577.090027</td>\n",
       "      <td>600.099976</td>\n",
       "      <td>547.179993</td>\n",
       "      <td>596.380005</td>\n",
       "      <td>596.380005</td>\n",
       "      <td>22845900</td>\n",
       "    </tr>\n",
       "    <tr>\n",
       "      <th>1</th>\n",
       "      <td>2016-01-25</td>\n",
       "      <td>597.989990</td>\n",
       "      <td>638.059998</td>\n",
       "      <td>570.000000</td>\n",
       "      <td>587.000000</td>\n",
       "      <td>587.000000</td>\n",
       "      <td>42007500</td>\n",
       "    </tr>\n",
       "    <tr>\n",
       "      <th>2</th>\n",
       "      <td>2016-02-01</td>\n",
       "      <td>578.150024</td>\n",
       "      <td>581.799988</td>\n",
       "      <td>499.190002</td>\n",
       "      <td>502.130005</td>\n",
       "      <td>502.130005</td>\n",
       "      <td>38623800</td>\n",
       "    </tr>\n",
       "    <tr>\n",
       "      <th>3</th>\n",
       "      <td>2016-02-08</td>\n",
       "      <td>486.470001</td>\n",
       "      <td>516.750000</td>\n",
       "      <td>474.000000</td>\n",
       "      <td>507.079987</td>\n",
       "      <td>507.079987</td>\n",
       "      <td>36471800</td>\n",
       "    </tr>\n",
       "    <tr>\n",
       "      <th>4</th>\n",
       "      <td>2016-02-15</td>\n",
       "      <td>519.479980</td>\n",
       "      <td>541.200012</td>\n",
       "      <td>511.660004</td>\n",
       "      <td>534.900024</td>\n",
       "      <td>534.900024</td>\n",
       "      <td>19652200</td>\n",
       "    </tr>\n",
       "  </tbody>\n",
       "</table>\n",
       "</div>"
      ],
      "text/plain": [
       "           ds        Open        High         Low           y   Adj Close  \\\n",
       "0  2016-01-18  577.090027  600.099976  547.179993  596.380005  596.380005   \n",
       "1  2016-01-25  597.989990  638.059998  570.000000  587.000000  587.000000   \n",
       "2  2016-02-01  578.150024  581.799988  499.190002  502.130005  502.130005   \n",
       "3  2016-02-08  486.470001  516.750000  474.000000  507.079987  507.079987   \n",
       "4  2016-02-15  519.479980  541.200012  511.660004  534.900024  534.900024   \n",
       "\n",
       "     Volume  \n",
       "0  22845900  \n",
       "1  42007500  \n",
       "2  38623800  \n",
       "3  36471800  \n",
       "4  19652200  "
      ]
     },
     "execution_count": 12,
     "metadata": {},
     "output_type": "execute_result"
    }
   ],
   "source": [
    "data3.head()"
   ]
  },
  {
   "cell_type": "code",
   "execution_count": 13,
   "metadata": {},
   "outputs": [
    {
     "name": "stderr",
     "output_type": "stream",
     "text": [
      "INFO:fbprophet:Disabling weekly seasonality. Run prophet with weekly_seasonality=True to override this.\n",
      "INFO:fbprophet:Disabling daily seasonality. Run prophet with daily_seasonality=True to override this.\n"
     ]
    },
    {
     "data": {
      "text/plain": [
       "<fbprophet.forecaster.Prophet at 0x7fe57d36d048>"
      ]
     },
     "execution_count": 13,
     "metadata": {},
     "output_type": "execute_result"
    }
   ],
   "source": [
    "m4 = Prophet(yearly_seasonality = True)\n",
    "\n",
    "m4.fit(data3)"
   ]
  },
  {
   "cell_type": "code",
   "execution_count": 14,
   "metadata": {},
   "outputs": [
    {
     "data": {
      "text/html": [
       "<div>\n",
       "<style scoped>\n",
       "    .dataframe tbody tr th:only-of-type {\n",
       "        vertical-align: middle;\n",
       "    }\n",
       "\n",
       "    .dataframe tbody tr th {\n",
       "        vertical-align: top;\n",
       "    }\n",
       "\n",
       "    .dataframe thead th {\n",
       "        text-align: right;\n",
       "    }\n",
       "</style>\n",
       "<table border=\"1\" class=\"dataframe\">\n",
       "  <thead>\n",
       "    <tr style=\"text-align: right;\">\n",
       "      <th></th>\n",
       "      <th>ds</th>\n",
       "      <th>yhat</th>\n",
       "      <th>yhat_lower</th>\n",
       "      <th>yhat_upper</th>\n",
       "    </tr>\n",
       "  </thead>\n",
       "  <tbody>\n",
       "    <tr>\n",
       "      <th>432</th>\n",
       "      <td>2020-08-24</td>\n",
       "      <td>1930.005395</td>\n",
       "      <td>1827.474099</td>\n",
       "      <td>2046.179066</td>\n",
       "    </tr>\n",
       "    <tr>\n",
       "      <th>433</th>\n",
       "      <td>2020-08-25</td>\n",
       "      <td>1931.103518</td>\n",
       "      <td>1818.825970</td>\n",
       "      <td>2038.881602</td>\n",
       "    </tr>\n",
       "    <tr>\n",
       "      <th>434</th>\n",
       "      <td>2020-08-26</td>\n",
       "      <td>1932.084925</td>\n",
       "      <td>1825.251903</td>\n",
       "      <td>2040.213563</td>\n",
       "    </tr>\n",
       "    <tr>\n",
       "      <th>435</th>\n",
       "      <td>2020-08-27</td>\n",
       "      <td>1932.946438</td>\n",
       "      <td>1821.951053</td>\n",
       "      <td>2046.008409</td>\n",
       "    </tr>\n",
       "    <tr>\n",
       "      <th>436</th>\n",
       "      <td>2020-08-28</td>\n",
       "      <td>1933.688005</td>\n",
       "      <td>1821.048699</td>\n",
       "      <td>2043.234323</td>\n",
       "    </tr>\n",
       "  </tbody>\n",
       "</table>\n",
       "</div>"
      ],
      "text/plain": [
       "            ds         yhat   yhat_lower   yhat_upper\n",
       "432 2020-08-24  1930.005395  1827.474099  2046.179066\n",
       "433 2020-08-25  1931.103518  1818.825970  2038.881602\n",
       "434 2020-08-26  1932.084925  1825.251903  2040.213563\n",
       "435 2020-08-27  1932.946438  1821.951053  2046.008409\n",
       "436 2020-08-28  1933.688005  1821.048699  2043.234323"
      ]
     },
     "execution_count": 14,
     "metadata": {},
     "output_type": "execute_result"
    }
   ],
   "source": [
    "future = m4.make_future_dataframe(periods = 228)\n",
    "forecast = m4.predict(future)\n",
    "forecast[['ds', 'yhat', 'yhat_lower', 'yhat_upper']].tail()"
   ]
  },
  {
   "cell_type": "code",
   "execution_count": 15,
   "metadata": {},
   "outputs": [
    {
     "name": "stderr",
     "output_type": "stream",
     "text": [
      "INFO:matplotlib.category:Using categorical units to plot a list of strings that are all parsable as floats or dates. If these strings should be plotted as numbers, cast to the appropriate data type before plotting.\n",
      "INFO:matplotlib.category:Using categorical units to plot a list of strings that are all parsable as floats or dates. If these strings should be plotted as numbers, cast to the appropriate data type before plotting.\n"
     ]
    },
    {
     "data": {
      "text/plain": [
       "Text(0, 0.5, 'Close of stock')"
      ]
     },
     "execution_count": 15,
     "metadata": {},
     "output_type": "execute_result"
    },
    {
     "data": {
      "image/png": "[encoded data removed]",
      "text/plain": [
       "<Figure size 432x288 with 1 Axes>"
      ]
     },
     "metadata": {
      "needs_background": "light"
     },
     "output_type": "display_data"
    }
   ],
   "source": [
    "import matplotlib.pyplot as plt\n",
    "\n",
    "plt.plot(data4.ds,data4.y)\n",
    "plt.xlabel('01/20/2020 - 09/05/2020')\n",
    "plt.ylabel('Close of stock')"
   ]
  },
  {
   "cell_type": "code",
   "execution_count": 25,
   "metadata": {},
   "outputs": [
    {
     "data": {
      "image/png": "[encoded data removed]",
      "text/plain": [
       "<Figure size 720x432 with 1 Axes>"
      ]
     },
     "metadata": {},
     "output_type": "display_data"
    }
   ],
   "source": [
    "fig1 = m4.plot(forecast)"
   ]
  },
  {
   "cell_type": "code",
   "execution_count": 23,
   "metadata": {},
   "outputs": [
    {
     "data": {
      "text/html": [
       "<div>\n",
       "<style scoped>\n",
       "    .dataframe tbody tr th:only-of-type {\n",
       "        vertical-align: middle;\n",
       "    }\n",
       "\n",
       "    .dataframe tbody tr th {\n",
       "        vertical-align: top;\n",
       "    }\n",
       "\n",
       "    .dataframe thead th {\n",
       "        text-align: right;\n",
       "    }\n",
       "</style>\n",
       "<table border=\"1\" class=\"dataframe\">\n",
       "  <thead>\n",
       "    <tr style=\"text-align: right;\">\n",
       "      <th></th>\n",
       "      <th>ds</th>\n",
       "      <th>Open</th>\n",
       "      <th>High</th>\n",
       "      <th>Low</th>\n",
       "      <th>y</th>\n",
       "      <th>Adj Close</th>\n",
       "      <th>Volume</th>\n",
       "    </tr>\n",
       "  </thead>\n",
       "  <tbody>\n",
       "    <tr>\n",
       "      <th>81</th>\n",
       "      <td>2020-08-10</td>\n",
       "      <td>3170.310059</td>\n",
       "      <td>3217.52002</td>\n",
       "      <td>3073.000000</td>\n",
       "      <td>3148.020020</td>\n",
       "      <td>3148.020020</td>\n",
       "      <td>16313300</td>\n",
       "    </tr>\n",
       "    <tr>\n",
       "      <th>82</th>\n",
       "      <td>2020-08-17</td>\n",
       "      <td>3173.120117</td>\n",
       "      <td>3320.00000</td>\n",
       "      <td>3154.179932</td>\n",
       "      <td>3284.719971</td>\n",
       "      <td>3284.719971</td>\n",
       "      <td>19130700</td>\n",
       "    </tr>\n",
       "    <tr>\n",
       "      <th>83</th>\n",
       "      <td>2020-08-24</td>\n",
       "      <td>3310.149902</td>\n",
       "      <td>3453.00000</td>\n",
       "      <td>3257.560059</td>\n",
       "      <td>3401.800049</td>\n",
       "      <td>3401.800049</td>\n",
       "      <td>22329600</td>\n",
       "    </tr>\n",
       "    <tr>\n",
       "      <th>84</th>\n",
       "      <td>2020-08-31</td>\n",
       "      <td>3408.989990</td>\n",
       "      <td>3552.25000</td>\n",
       "      <td>3303.000000</td>\n",
       "      <td>3368.000000</td>\n",
       "      <td>3368.000000</td>\n",
       "      <td>19708200</td>\n",
       "    </tr>\n",
       "    <tr>\n",
       "      <th>85</th>\n",
       "      <td>2020-09-04</td>\n",
       "      <td>3318.000000</td>\n",
       "      <td>3381.50000</td>\n",
       "      <td>3111.129883</td>\n",
       "      <td>3294.620117</td>\n",
       "      <td>3294.620117</td>\n",
       "      <td>8648996</td>\n",
       "    </tr>\n",
       "  </tbody>\n",
       "</table>\n",
       "</div>"
      ],
      "text/plain": [
       "            ds         Open        High          Low            y  \\\n",
       "81  2020-08-10  3170.310059  3217.52002  3073.000000  3148.020020   \n",
       "82  2020-08-17  3173.120117  3320.00000  3154.179932  3284.719971   \n",
       "83  2020-08-24  3310.149902  3453.00000  3257.560059  3401.800049   \n",
       "84  2020-08-31  3408.989990  3552.25000  3303.000000  3368.000000   \n",
       "85  2020-09-04  3318.000000  3381.50000  3111.129883  3294.620117   \n",
       "\n",
       "      Adj Close    Volume  \n",
       "81  3148.020020  16313300  \n",
       "82  3284.719971  19130700  \n",
       "83  3401.800049  22329600  \n",
       "84  3368.000000  19708200  \n",
       "85  3294.620117   8648996  "
      ]
     },
     "execution_count": 23,
     "metadata": {},
     "output_type": "execute_result"
    }
   ],
   "source": [
    "data4.tail()"
   ]
  },
  {
   "cell_type": "code",
   "execution_count": 24,
   "metadata": {},
   "outputs": [
    {
     "data": {
      "text/html": [
       "<div>\n",
       "<style scoped>\n",
       "    .dataframe tbody tr th:only-of-type {\n",
       "        vertical-align: middle;\n",
       "    }\n",
       "\n",
       "    .dataframe tbody tr th {\n",
       "        vertical-align: top;\n",
       "    }\n",
       "\n",
       "    .dataframe thead th {\n",
       "        text-align: right;\n",
       "    }\n",
       "</style>\n",
       "<table border=\"1\" class=\"dataframe\">\n",
       "  <thead>\n",
       "    <tr style=\"text-align: right;\">\n",
       "      <th></th>\n",
       "      <th>ds</th>\n",
       "      <th>trend</th>\n",
       "      <th>yhat_lower</th>\n",
       "      <th>yhat_upper</th>\n",
       "      <th>trend_lower</th>\n",
       "      <th>trend_upper</th>\n",
       "      <th>additive_terms</th>\n",
       "      <th>additive_terms_lower</th>\n",
       "      <th>additive_terms_upper</th>\n",
       "      <th>yearly</th>\n",
       "      <th>yearly_lower</th>\n",
       "      <th>yearly_upper</th>\n",
       "      <th>multiplicative_terms</th>\n",
       "      <th>multiplicative_terms_lower</th>\n",
       "      <th>multiplicative_terms_upper</th>\n",
       "      <th>yhat</th>\n",
       "    </tr>\n",
       "  </thead>\n",
       "  <tbody>\n",
       "    <tr>\n",
       "      <th>432</th>\n",
       "      <td>2020-08-24</td>\n",
       "      <td>1886.409298</td>\n",
       "      <td>1827.474099</td>\n",
       "      <td>2046.179066</td>\n",
       "      <td>1834.443626</td>\n",
       "      <td>1937.838513</td>\n",
       "      <td>43.596097</td>\n",
       "      <td>43.596097</td>\n",
       "      <td>43.596097</td>\n",
       "      <td>43.596097</td>\n",
       "      <td>43.596097</td>\n",
       "      <td>43.596097</td>\n",
       "      <td>0.0</td>\n",
       "      <td>0.0</td>\n",
       "      <td>0.0</td>\n",
       "      <td>1930.005395</td>\n",
       "    </tr>\n",
       "    <tr>\n",
       "      <th>433</th>\n",
       "      <td>2020-08-25</td>\n",
       "      <td>1886.607422</td>\n",
       "      <td>1818.825970</td>\n",
       "      <td>2038.881602</td>\n",
       "      <td>1834.260886</td>\n",
       "      <td>1938.246395</td>\n",
       "      <td>44.496096</td>\n",
       "      <td>44.496096</td>\n",
       "      <td>44.496096</td>\n",
       "      <td>44.496096</td>\n",
       "      <td>44.496096</td>\n",
       "      <td>44.496096</td>\n",
       "      <td>0.0</td>\n",
       "      <td>0.0</td>\n",
       "      <td>0.0</td>\n",
       "      <td>1931.103518</td>\n",
       "    </tr>\n",
       "    <tr>\n",
       "      <th>434</th>\n",
       "      <td>2020-08-26</td>\n",
       "      <td>1886.805547</td>\n",
       "      <td>1825.251903</td>\n",
       "      <td>2040.213563</td>\n",
       "      <td>1834.095836</td>\n",
       "      <td>1938.650684</td>\n",
       "      <td>45.279378</td>\n",
       "      <td>45.279378</td>\n",
       "      <td>45.279378</td>\n",
       "      <td>45.279378</td>\n",
       "      <td>45.279378</td>\n",
       "      <td>45.279378</td>\n",
       "      <td>0.0</td>\n",
       "      <td>0.0</td>\n",
       "      <td>0.0</td>\n",
       "      <td>1932.084925</td>\n",
       "    </tr>\n",
       "    <tr>\n",
       "      <th>435</th>\n",
       "      <td>2020-08-27</td>\n",
       "      <td>1887.003672</td>\n",
       "      <td>1821.951053</td>\n",
       "      <td>2046.008409</td>\n",
       "      <td>1833.940329</td>\n",
       "      <td>1939.066105</td>\n",
       "      <td>45.942766</td>\n",
       "      <td>45.942766</td>\n",
       "      <td>45.942766</td>\n",
       "      <td>45.942766</td>\n",
       "      <td>45.942766</td>\n",
       "      <td>45.942766</td>\n",
       "      <td>0.0</td>\n",
       "      <td>0.0</td>\n",
       "      <td>0.0</td>\n",
       "      <td>1932.946438</td>\n",
       "    </tr>\n",
       "    <tr>\n",
       "      <th>436</th>\n",
       "      <td>2020-08-28</td>\n",
       "      <td>1887.201797</td>\n",
       "      <td>1821.048699</td>\n",
       "      <td>2043.234323</td>\n",
       "      <td>1833.899613</td>\n",
       "      <td>1939.593859</td>\n",
       "      <td>46.486208</td>\n",
       "      <td>46.486208</td>\n",
       "      <td>46.486208</td>\n",
       "      <td>46.486208</td>\n",
       "      <td>46.486208</td>\n",
       "      <td>46.486208</td>\n",
       "      <td>0.0</td>\n",
       "      <td>0.0</td>\n",
       "      <td>0.0</td>\n",
       "      <td>1933.688005</td>\n",
       "    </tr>\n",
       "  </tbody>\n",
       "</table>\n",
       "</div>"
      ],
      "text/plain": [
       "            ds        trend   yhat_lower   yhat_upper  trend_lower  \\\n",
       "432 2020-08-24  1886.409298  1827.474099  2046.179066  1834.443626   \n",
       "433 2020-08-25  1886.607422  1818.825970  2038.881602  1834.260886   \n",
       "434 2020-08-26  1886.805547  1825.251903  2040.213563  1834.095836   \n",
       "435 2020-08-27  1887.003672  1821.951053  2046.008409  1833.940329   \n",
       "436 2020-08-28  1887.201797  1821.048699  2043.234323  1833.899613   \n",
       "\n",
       "     trend_upper  additive_terms  additive_terms_lower  additive_terms_upper  \\\n",
       "432  1937.838513       43.596097             43.596097             43.596097   \n",
       "433  1938.246395       44.496096             44.496096             44.496096   \n",
       "434  1938.650684       45.279378             45.279378             45.279378   \n",
       "435  1939.066105       45.942766             45.942766             45.942766   \n",
       "436  1939.593859       46.486208             46.486208             46.486208   \n",
       "\n",
       "        yearly  yearly_lower  yearly_upper  multiplicative_terms  \\\n",
       "432  43.596097     43.596097     43.596097                   0.0   \n",
       "433  44.496096     44.496096     44.496096                   0.0   \n",
       "434  45.279378     45.279378     45.279378                   0.0   \n",
       "435  45.942766     45.942766     45.942766                   0.0   \n",
       "436  46.486208     46.486208     46.486208                   0.0   \n",
       "\n",
       "     multiplicative_terms_lower  multiplicative_terms_upper         yhat  \n",
       "432                         0.0                         0.0  1930.005395  \n",
       "433                         0.0                         0.0  1931.103518  \n",
       "434                         0.0                         0.0  1932.084925  \n",
       "435                         0.0                         0.0  1932.946438  \n",
       "436                         0.0                         0.0  1933.688005  "
      ]
     },
     "execution_count": 24,
     "metadata": {},
     "output_type": "execute_result"
    }
   ],
   "source": [
    "forecast.tail()"
   ]
  },
  {
   "cell_type": "code",
   "execution_count": 2,
   "metadata": {},
   "outputs": [
    {
     "name": "stdout",
     "output_type": "stream",
     "text": [
      "Amazon's stocks have been impacted by Covid-19(from the date when the first case was reported in the USA) against the normal flow by\n",
      " 70.38012898052807 % as of 09/05/2020\n"
     ]
    }
   ],
   "source": [
    "amazon_impact = (3294.620117 - 1933.688005)/1933.688005 * 100\n",
    "print(\"Amazon's stocks have been impacted by Covid-19(from the date when the first case was reported in the USA) against the normal flow by\\n\", amazon_impact, \"% as of 09/05/2020\")"
   ]
  },
  {
   "cell_type": "code",
   "execution_count": null,
   "metadata": {},
   "outputs": [],
   "source": []
  }
 ],
 "metadata": {
  "kernelspec": {
   "display_name": "Python",
   "language": "python",
   "name": "conda-env-python-py"
  },
  "language_info": {
   "codemirror_mode": {
    "name": "ipython",
    "version": 3
   },
   "file_extension": ".py",
   "mimetype": "text/x-python",
   "name": "python",
   "nbconvert_exporter": "python",
   "pygments_lexer": "ipython3",
   "version": "3.6.11"
  }
 },
 "nbformat": 4,
 "nbformat_minor": 4
}
