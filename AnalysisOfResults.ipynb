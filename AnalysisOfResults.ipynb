{
 "cells": [
  {
   "cell_type": "code",
   "execution_count": 8,
   "metadata": {},
   "outputs": [
    {
     "name": "stdout",
     "output_type": "stream",
     "text": [
      "The program computes the difference (as a rate measure) between predictive and actual stock values using csv files of\n",
      "historical data.\n",
      "For the purposes of this program, we used a single data point on 5th september, 2020 to compute our values.\n",
      "\n",
      "\n",
      "Few top companies in the tech sector, (Alphabet, Facebook, Microsoft) had an average increase of 9.324942014991516 % actual stock value\n",
      "compared to predicted stock value.\n",
      "Some of the top 3 companies in the media and communication sector, (Netflix, Adobe, Comcast) had an average increase of 29.669102612338396 % actual stock value \n",
      "compared to predicted stock value\\.\n",
      "Some of the top 3 companies in the hospitality sector,(Hilton, Marriott, Hyatt) had an average decrease of -32.75976748086482 % actual stock value \n",
      "compared to predicted stock value.\n",
      "Some of the top 3 companies in the e-commerce sector, (Amazon, Ebay, Shopify) had an average increase of 50.5733976610364 % actual stock value \n",
      "compared to predicted stock value.\n"
     ]
    }
   ],
   "source": [
    "#Objective\n",
    "print(\"The program computes the difference (as a rate measure) between predictive and actual stock values using csv files of\\nhistorical data.\")\n",
    "print(\"For the purposes of this program, we used a single data point on 5th september, 2020 to compute our values.\\n\\n\")\n",
    "\n",
    "\n",
    "\n",
    "\n",
    "alphabet_impact = -0.5902232743535861 \n",
    "microsoft_impact = 12.420793385625421\n",
    "facebook_impact = 16.144255933702713 \n",
    "print(\"Few top companies in the tech sector, (Alphabet, Facebook, Microsoft) had an average increase of\", (alphabet_impact+microsoft_impact+facebook_impact)/3,\"% actual stock value\\ncompared to predicted stock value.\")\n",
    "\n",
    "\n",
    "netflix_impact = 70.84693011565172\n",
    "adobe_impact = 34.482093546934685\n",
    "comcast_impact = -16.32171582557121\n",
    "print(\"Some of the top 3 companies in the media and communication sector, (Netflix, Adobe, Comcast) had an average increase of\", (netflix_impact+adobe_impact+comcast_impact)/3,\"% actual stock value \\ncompared to predicted stock value\\.\")\n",
    "\n",
    "\n",
    "hilton_impact = -33.19247836536056\n",
    "hyatt_impact = -31.894345711873335\n",
    "marriott_impact = -33.19247836536056\n",
    "print(\"Some of the top 3 companies in the hospitality sector,(Hilton, Marriott, Hyatt) had an average decrease of\", (hilton_impact+hyatt_impact+marriott_impact)/3,\"% actual stock value \\ncompared to predicted stock value.\")\n",
    "\n",
    "\n",
    "amazon_impact =  70.38012898052807\n",
    "ebay_impact =  16.078590020303583 \n",
    "shopify_impact = 65.26147398227756\n",
    "print(\"Some of the top 3 companies in the e-commerce sector, (Amazon, Ebay, Shopify) had an average increase of\", (amazon_impact+ebay_impact+shopify_impact)/3,\"% actual stock value \\ncompared to predicted stock value.\")"
   ]
  },
  {
   "cell_type": "code",
   "execution_count": 9,
   "metadata": {},
   "outputs": [
    {
     "name": "stdout",
     "output_type": "stream",
     "text": [
      "To start off what strikes us at first glance is the massive increase in the stock value relative to natural flow.\n",
      "This is easily explained by the lack of mobiliity and fear of venturing outdoors during these times.\n",
      "All the essential goods which people need frequently are easily accessible through e-commerce websites, therefore it would make the most\n",
      "sense for stocks in this sector to rise.\n",
      "\n"
     ]
    }
   ],
   "source": [
    "#Analysis of data\n",
    "print(\"To start off what strikes us at first glance is the massive increase in the stock value relative to natural flow.\\nThis is easily explained by the lack of mobiliity and fear of venturing outdoors during these times.\\nAll the essential goods which people need frequently are easily accessible through e-commerce websites, therefore it would make the most\\nsense for stocks in this sector to rise.\\n\")\n"
   ]
  },
  {
   "cell_type": "code",
   "execution_count": 10,
   "metadata": {},
   "outputs": [
    {
     "name": "stdout",
     "output_type": "stream",
     "text": [
      "In second place is the media and communication sector:\n",
      "Again this is very intuitive.\n",
      "People are likely to have little and minimal recreational activities to do outside of work or school and to keep themselves occupied, there is probably no better alternative than virtual content offered by the likes of netflix. Comcast's negative change can be explained as they\n",
      "are more focussed on cable media which may be down due to lack of advertizers who may be impacted due to covid-19.\n"
     ]
    }
   ],
   "source": [
    "print(\"In second place is the media and communication sector:\\nAgain this is very intuitive.\")\n",
    "print(\"People are likely to have little and minimal recreational activities to do outside of work or school and to keep themselves occupied, there is probably no better alternative than virtual content offered by the likes of netflix. Comcast's negative change can be explained as they\\nare more focussed on cable media which may be down due to lack of advertizers who may be impacted due to covid-19.\")"
   ]
  },
  {
   "cell_type": "code",
   "execution_count": 11,
   "metadata": {},
   "outputs": [
    {
     "name": "stdout",
     "output_type": "stream",
     "text": [
      "Next, comes the technology sector. This sector is stable for the most part with a slight positive change.\n",
      "\n",
      "This is due to the fact that most software projects can be done from home, and showing up to office is not required.\n",
      "\n",
      "Covid-19 has no direct effect on software processes so beating the predictive stock value maybe explained as increasing virtual content\n",
      "through Youtube (Google), Facebook, or Skype and Teams (Microsoft) may drive up the positive growth.\n"
     ]
    }
   ],
   "source": [
    "print(\"Next, comes the technology sector. This sector is stable for the most part with a slight positive change.\\n\")\n",
    "print(\"This is due to the fact that most software projects can be done from home, and showing up to office is not required.\\n\")\n",
    "print(\"Covid-19 has no direct effect on software processes so beating the predictive stock value maybe explained as increasing virtual content\\nthrough Youtube (Google), Facebook, or Skype and Teams (Microsoft) may drive up the positive growth.\")"
   ]
  },
  {
   "cell_type": "code",
   "execution_count": 12,
   "metadata": {},
   "outputs": [
    {
     "name": "stdout",
     "output_type": "stream",
     "text": [
      "The last sector is easily the most obvious and needs little explanation if any.\n",
      "Travel of any form, whether it be professional or recreational travel has come to a still. Low travelling means fewer hotel rooms are being occupied and this leads to lower hospitality stocks.\n"
     ]
    }
   ],
   "source": [
    "print(\"The last sector is easily the most obvious and needs little explanation if any.\")\n",
    "print(\"Travel of any form, whether it be professional or recreational travel has come to a still. Low travelling means fewer hotel rooms are being occupied and this leads to lower hospitality stocks.\")"
   ]
  },
  {
   "cell_type": "code",
   "execution_count": null,
   "metadata": {},
   "outputs": [],
   "source": []
  },
  {
   "cell_type": "code",
   "execution_count": null,
   "metadata": {},
   "outputs": [],
   "source": []
  }
 ],
 "metadata": {
  "kernelspec": {
   "display_name": "Python",
   "language": "python",
   "name": "conda-env-python-py"
  },
  "language_info": {
   "codemirror_mode": {
    "name": "ipython",
    "version": 3
   },
   "file_extension": ".py",
   "mimetype": "text/x-python",
   "name": "python",
   "nbconvert_exporter": "python",
   "pygments_lexer": "ipython3",
   "version": "3.6.11"
  }
 },
 "nbformat": 4,
 "nbformat_minor": 4
}
