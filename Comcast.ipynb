{
 "cells": [
  {
   "cell_type": "code",
   "execution_count": 1,
   "metadata": {},
   "outputs": [
    {
     "name": "stdout",
     "output_type": "stream",
     "text": [
      "Requirement already satisfied: pandas in /home/jupyterlab/conda/envs/python/lib/python3.6/site-packages (1.1.1)\n",
      "Requirement already satisfied: python-dateutil>=2.7.3 in /home/jupyterlab/conda/envs/python/lib/python3.6/site-packages (from pandas) (2.8.1)\n",
      "Requirement already satisfied: pytz>=2017.2 in /home/jupyterlab/conda/envs/python/lib/python3.6/site-packages (from pandas) (2020.1)\n",
      "Requirement already satisfied: numpy>=1.15.4 in /home/jupyterlab/conda/envs/python/lib/python3.6/site-packages (from pandas) (1.19.1)\n",
      "Requirement already satisfied: six>=1.5 in /home/jupyterlab/conda/envs/python/lib/python3.6/site-packages (from python-dateutil>=2.7.3->pandas) (1.15.0)\n"
     ]
    }
   ],
   "source": [
    "!pip install pandas\n",
    "import pandas as pd"
   ]
  },
  {
   "cell_type": "code",
   "execution_count": 2,
   "metadata": {},
   "outputs": [
    {
     "name": "stdout",
     "output_type": "stream",
     "text": [
      "Collecting package metadata (current_repodata.json): done\n",
      "Solving environment: done\n",
      "\n",
      "\n",
      "==> WARNING: A newer version of conda exists. <==\n",
      "  current version: 4.8.3\n",
      "  latest version: 4.8.4\n",
      "\n",
      "Please update conda by running\n",
      "\n",
      "    $ conda update -n base -c defaults conda\n",
      "\n",
      "\n",
      "\n",
      "# All requested packages already installed.\n",
      "\n"
     ]
    }
   ],
   "source": [
    "!conda install -c conda-forge fbprophet --yes"
   ]
  },
  {
   "cell_type": "code",
   "execution_count": 3,
   "metadata": {},
   "outputs": [
    {
     "name": "stderr",
     "output_type": "stream",
     "text": [
      "Importing plotly failed. Interactive plots will not work.\n"
     ]
    }
   ],
   "source": [
    "from fbprophet import Prophet"
   ]
  },
  {
   "cell_type": "code",
   "execution_count": 19,
   "metadata": {},
   "outputs": [],
   "source": [
    "data3 = pd.read_csv(\"CMCSA (1).csv\")\n",
    "data4 = pd.read_csv(\"CMCSA (2).csv\")\n",
    "\n",
    "from fbprophet.plot import plot_plotly, plot_components_plotly\n",
    "\n",
    "data3=data3.rename(columns={'Date':'ds', 'Close':'y'})\n",
    "data4=data4.rename(columns={'Date':'ds', 'Close':'y'})"
   ]
  },
  {
   "cell_type": "code",
   "execution_count": 20,
   "metadata": {},
   "outputs": [
    {
     "data": {
      "text/html": [
       "<div>\n",
       "<style scoped>\n",
       "    .dataframe tbody tr th:only-of-type {\n",
       "        vertical-align: middle;\n",
       "    }\n",
       "\n",
       "    .dataframe tbody tr th {\n",
       "        vertical-align: top;\n",
       "    }\n",
       "\n",
       "    .dataframe thead th {\n",
       "        text-align: right;\n",
       "    }\n",
       "</style>\n",
       "<table border=\"1\" class=\"dataframe\">\n",
       "  <thead>\n",
       "    <tr style=\"text-align: right;\">\n",
       "      <th></th>\n",
       "      <th>ds</th>\n",
       "      <th>Open</th>\n",
       "      <th>High</th>\n",
       "      <th>Low</th>\n",
       "      <th>y</th>\n",
       "      <th>Adj Close</th>\n",
       "      <th>Volume</th>\n",
       "    </tr>\n",
       "  </thead>\n",
       "  <tbody>\n",
       "    <tr>\n",
       "      <th>0</th>\n",
       "      <td>2016-01-18</td>\n",
       "      <td>27.410000</td>\n",
       "      <td>27.760000</td>\n",
       "      <td>26.170000</td>\n",
       "      <td>27.665001</td>\n",
       "      <td>25.346252</td>\n",
       "      <td>120174800</td>\n",
       "    </tr>\n",
       "    <tr>\n",
       "      <th>1</th>\n",
       "      <td>2016-01-25</td>\n",
       "      <td>27.540001</td>\n",
       "      <td>27.924999</td>\n",
       "      <td>26.809999</td>\n",
       "      <td>27.855000</td>\n",
       "      <td>25.520325</td>\n",
       "      <td>141146600</td>\n",
       "    </tr>\n",
       "    <tr>\n",
       "      <th>2</th>\n",
       "      <td>2016-02-01</td>\n",
       "      <td>27.535000</td>\n",
       "      <td>29.735001</td>\n",
       "      <td>27.190001</td>\n",
       "      <td>29.705000</td>\n",
       "      <td>27.215273</td>\n",
       "      <td>214506200</td>\n",
       "    </tr>\n",
       "    <tr>\n",
       "      <th>3</th>\n",
       "      <td>2016-02-08</td>\n",
       "      <td>29.580000</td>\n",
       "      <td>29.850000</td>\n",
       "      <td>27.350000</td>\n",
       "      <td>28.389999</td>\n",
       "      <td>26.010492</td>\n",
       "      <td>195029600</td>\n",
       "    </tr>\n",
       "    <tr>\n",
       "      <th>4</th>\n",
       "      <td>2016-02-15</td>\n",
       "      <td>28.905001</td>\n",
       "      <td>29.155001</td>\n",
       "      <td>28.295000</td>\n",
       "      <td>28.879999</td>\n",
       "      <td>26.459417</td>\n",
       "      <td>93346800</td>\n",
       "    </tr>\n",
       "  </tbody>\n",
       "</table>\n",
       "</div>"
      ],
      "text/plain": [
       "           ds       Open       High        Low          y  Adj Close  \\\n",
       "0  2016-01-18  27.410000  27.760000  26.170000  27.665001  25.346252   \n",
       "1  2016-01-25  27.540001  27.924999  26.809999  27.855000  25.520325   \n",
       "2  2016-02-01  27.535000  29.735001  27.190001  29.705000  27.215273   \n",
       "3  2016-02-08  29.580000  29.850000  27.350000  28.389999  26.010492   \n",
       "4  2016-02-15  28.905001  29.155001  28.295000  28.879999  26.459417   \n",
       "\n",
       "      Volume  \n",
       "0  120174800  \n",
       "1  141146600  \n",
       "2  214506200  \n",
       "3  195029600  \n",
       "4   93346800  "
      ]
     },
     "execution_count": 20,
     "metadata": {},
     "output_type": "execute_result"
    }
   ],
   "source": [
    "data3.head()"
   ]
  },
  {
   "cell_type": "code",
   "execution_count": 21,
   "metadata": {},
   "outputs": [
    {
     "name": "stderr",
     "output_type": "stream",
     "text": [
      "INFO:fbprophet:Disabling weekly seasonality. Run prophet with weekly_seasonality=True to override this.\n",
      "INFO:fbprophet:Disabling daily seasonality. Run prophet with daily_seasonality=True to override this.\n"
     ]
    },
    {
     "data": {
      "text/plain": [
       "<fbprophet.forecaster.Prophet at 0x7f35d093b4a8>"
      ]
     },
     "execution_count": 21,
     "metadata": {},
     "output_type": "execute_result"
    }
   ],
   "source": [
    "m4 = Prophet(yearly_seasonality = True)\n",
    "\n",
    "m4.fit(data3)"
   ]
  },
  {
   "cell_type": "code",
   "execution_count": 22,
   "metadata": {},
   "outputs": [
    {
     "data": {
      "text/html": [
       "<div>\n",
       "<style scoped>\n",
       "    .dataframe tbody tr th:only-of-type {\n",
       "        vertical-align: middle;\n",
       "    }\n",
       "\n",
       "    .dataframe tbody tr th {\n",
       "        vertical-align: top;\n",
       "    }\n",
       "\n",
       "    .dataframe thead th {\n",
       "        text-align: right;\n",
       "    }\n",
       "</style>\n",
       "<table border=\"1\" class=\"dataframe\">\n",
       "  <thead>\n",
       "    <tr style=\"text-align: right;\">\n",
       "      <th></th>\n",
       "      <th>ds</th>\n",
       "      <th>yhat</th>\n",
       "      <th>yhat_lower</th>\n",
       "      <th>yhat_upper</th>\n",
       "    </tr>\n",
       "  </thead>\n",
       "  <tbody>\n",
       "    <tr>\n",
       "      <th>432</th>\n",
       "      <td>2020-08-24</td>\n",
       "      <td>52.942759</td>\n",
       "      <td>50.592072</td>\n",
       "      <td>55.353285</td>\n",
       "    </tr>\n",
       "    <tr>\n",
       "      <th>433</th>\n",
       "      <td>2020-08-25</td>\n",
       "      <td>52.986415</td>\n",
       "      <td>50.407344</td>\n",
       "      <td>55.266992</td>\n",
       "    </tr>\n",
       "    <tr>\n",
       "      <th>434</th>\n",
       "      <td>2020-08-26</td>\n",
       "      <td>53.026741</td>\n",
       "      <td>50.383379</td>\n",
       "      <td>55.338509</td>\n",
       "    </tr>\n",
       "    <tr>\n",
       "      <th>435</th>\n",
       "      <td>2020-08-27</td>\n",
       "      <td>53.063422</td>\n",
       "      <td>50.659913</td>\n",
       "      <td>55.496992</td>\n",
       "    </tr>\n",
       "    <tr>\n",
       "      <th>436</th>\n",
       "      <td>2020-08-28</td>\n",
       "      <td>53.096213</td>\n",
       "      <td>50.473149</td>\n",
       "      <td>55.512709</td>\n",
       "    </tr>\n",
       "  </tbody>\n",
       "</table>\n",
       "</div>"
      ],
      "text/plain": [
       "            ds       yhat  yhat_lower  yhat_upper\n",
       "432 2020-08-24  52.942759   50.592072   55.353285\n",
       "433 2020-08-25  52.986415   50.407344   55.266992\n",
       "434 2020-08-26  53.026741   50.383379   55.338509\n",
       "435 2020-08-27  53.063422   50.659913   55.496992\n",
       "436 2020-08-28  53.096213   50.473149   55.512709"
      ]
     },
     "execution_count": 22,
     "metadata": {},
     "output_type": "execute_result"
    }
   ],
   "source": [
    "future = m4.make_future_dataframe(periods = 228)\n",
    "forecast = m4.predict(future)\n",
    "forecast[['ds', 'yhat', 'yhat_lower', 'yhat_upper']].tail()"
   ]
  },
  {
   "cell_type": "code",
   "execution_count": 23,
   "metadata": {},
   "outputs": [
    {
     "name": "stderr",
     "output_type": "stream",
     "text": [
      "INFO:matplotlib.category:Using categorical units to plot a list of strings that are all parsable as floats or dates. If these strings should be plotted as numbers, cast to the appropriate data type before plotting.\n",
      "INFO:matplotlib.category:Using categorical units to plot a list of strings that are all parsable as floats or dates. If these strings should be plotted as numbers, cast to the appropriate data type before plotting.\n"
     ]
    },
    {
     "data": {
      "text/plain": [
       "Text(0, 0.5, 'Close of stock')"
      ]
     },
     "execution_count": 23,
     "metadata": {},
     "output_type": "execute_result"
    },
    {
     "data": {
      "image/png": "[encoded data removed]",
      "text/plain": [
       "<Figure size 432x288 with 1 Axes>"
      ]
     },
     "metadata": {
      "needs_background": "light"
     },
     "output_type": "display_data"
    }
   ],
   "source": [
    "import matplotlib.pyplot as plt\n",
    "\n",
    "plt.plot(data4.ds,data4.y)\n",
    "plt.xlabel('01/20/2020 - 09/05/2020')\n",
    "plt.ylabel('Close of stock')"
   ]
  },
  {
   "cell_type": "code",
   "execution_count": 24,
   "metadata": {},
   "outputs": [
    {
     "data": {
      "image/png": "[encoded data removed]",
      "text/plain": [
       "<Figure size 720x432 with 1 Axes>"
      ]
     },
     "metadata": {},
     "output_type": "display_data"
    }
   ],
   "source": [
    "fig1 = m4.plot(forecast)"
   ]
  },
  {
   "cell_type": "code",
   "execution_count": 25,
   "metadata": {},
   "outputs": [
    {
     "data": {
      "text/html": [
       "<div>\n",
       "<style scoped>\n",
       "    .dataframe tbody tr th:only-of-type {\n",
       "        vertical-align: middle;\n",
       "    }\n",
       "\n",
       "    .dataframe tbody tr th {\n",
       "        vertical-align: top;\n",
       "    }\n",
       "\n",
       "    .dataframe thead th {\n",
       "        text-align: right;\n",
       "    }\n",
       "</style>\n",
       "<table border=\"1\" class=\"dataframe\">\n",
       "  <thead>\n",
       "    <tr style=\"text-align: right;\">\n",
       "      <th></th>\n",
       "      <th>ds</th>\n",
       "      <th>Open</th>\n",
       "      <th>High</th>\n",
       "      <th>Low</th>\n",
       "      <th>y</th>\n",
       "      <th>Adj Close</th>\n",
       "      <th>Volume</th>\n",
       "    </tr>\n",
       "  </thead>\n",
       "  <tbody>\n",
       "    <tr>\n",
       "      <th>29</th>\n",
       "      <td>2020-08-10</td>\n",
       "      <td>42.560001</td>\n",
       "      <td>44.180000</td>\n",
       "      <td>42.560001</td>\n",
       "      <td>43.770000</td>\n",
       "      <td>43.770000</td>\n",
       "      <td>71810700</td>\n",
       "    </tr>\n",
       "    <tr>\n",
       "      <th>30</th>\n",
       "      <td>2020-08-17</td>\n",
       "      <td>43.869999</td>\n",
       "      <td>43.950001</td>\n",
       "      <td>42.720001</td>\n",
       "      <td>43.070000</td>\n",
       "      <td>43.070000</td>\n",
       "      <td>55158600</td>\n",
       "    </tr>\n",
       "    <tr>\n",
       "      <th>31</th>\n",
       "      <td>2020-08-24</td>\n",
       "      <td>42.860001</td>\n",
       "      <td>44.799999</td>\n",
       "      <td>42.849998</td>\n",
       "      <td>44.560001</td>\n",
       "      <td>44.560001</td>\n",
       "      <td>63400500</td>\n",
       "    </tr>\n",
       "    <tr>\n",
       "      <th>32</th>\n",
       "      <td>2020-08-31</td>\n",
       "      <td>44.259998</td>\n",
       "      <td>45.939999</td>\n",
       "      <td>44.090000</td>\n",
       "      <td>44.439999</td>\n",
       "      <td>44.439999</td>\n",
       "      <td>80769300</td>\n",
       "    </tr>\n",
       "    <tr>\n",
       "      <th>33</th>\n",
       "      <td>2020-09-04</td>\n",
       "      <td>44.910000</td>\n",
       "      <td>44.970001</td>\n",
       "      <td>43.902000</td>\n",
       "      <td>44.430000</td>\n",
       "      <td>44.430000</td>\n",
       "      <td>15911139</td>\n",
       "    </tr>\n",
       "  </tbody>\n",
       "</table>\n",
       "</div>"
      ],
      "text/plain": [
       "            ds       Open       High        Low          y  Adj Close  \\\n",
       "29  2020-08-10  42.560001  44.180000  42.560001  43.770000  43.770000   \n",
       "30  2020-08-17  43.869999  43.950001  42.720001  43.070000  43.070000   \n",
       "31  2020-08-24  42.860001  44.799999  42.849998  44.560001  44.560001   \n",
       "32  2020-08-31  44.259998  45.939999  44.090000  44.439999  44.439999   \n",
       "33  2020-09-04  44.910000  44.970001  43.902000  44.430000  44.430000   \n",
       "\n",
       "      Volume  \n",
       "29  71810700  \n",
       "30  55158600  \n",
       "31  63400500  \n",
       "32  80769300  \n",
       "33  15911139  "
      ]
     },
     "execution_count": 25,
     "metadata": {},
     "output_type": "execute_result"
    }
   ],
   "source": [
    "data4.tail()"
   ]
  },
  {
   "cell_type": "code",
   "execution_count": 26,
   "metadata": {},
   "outputs": [
    {
     "data": {
      "text/html": [
       "<div>\n",
       "<style scoped>\n",
       "    .dataframe tbody tr th:only-of-type {\n",
       "        vertical-align: middle;\n",
       "    }\n",
       "\n",
       "    .dataframe tbody tr th {\n",
       "        vertical-align: top;\n",
       "    }\n",
       "\n",
       "    .dataframe thead th {\n",
       "        text-align: right;\n",
       "    }\n",
       "</style>\n",
       "<table border=\"1\" class=\"dataframe\">\n",
       "  <thead>\n",
       "    <tr style=\"text-align: right;\">\n",
       "      <th></th>\n",
       "      <th>ds</th>\n",
       "      <th>trend</th>\n",
       "      <th>yhat_lower</th>\n",
       "      <th>yhat_upper</th>\n",
       "      <th>trend_lower</th>\n",
       "      <th>trend_upper</th>\n",
       "      <th>additive_terms</th>\n",
       "      <th>additive_terms_lower</th>\n",
       "      <th>additive_terms_upper</th>\n",
       "      <th>yearly</th>\n",
       "      <th>yearly_lower</th>\n",
       "      <th>yearly_upper</th>\n",
       "      <th>multiplicative_terms</th>\n",
       "      <th>multiplicative_terms_lower</th>\n",
       "      <th>multiplicative_terms_upper</th>\n",
       "      <th>yhat</th>\n",
       "    </tr>\n",
       "  </thead>\n",
       "  <tbody>\n",
       "    <tr>\n",
       "      <th>432</th>\n",
       "      <td>2020-08-24</td>\n",
       "      <td>52.167570</td>\n",
       "      <td>50.592072</td>\n",
       "      <td>55.353285</td>\n",
       "      <td>50.845750</td>\n",
       "      <td>53.488010</td>\n",
       "      <td>0.775189</td>\n",
       "      <td>0.775189</td>\n",
       "      <td>0.775189</td>\n",
       "      <td>0.775189</td>\n",
       "      <td>0.775189</td>\n",
       "      <td>0.775189</td>\n",
       "      <td>0.0</td>\n",
       "      <td>0.0</td>\n",
       "      <td>0.0</td>\n",
       "      <td>52.942759</td>\n",
       "    </tr>\n",
       "    <tr>\n",
       "      <th>433</th>\n",
       "      <td>2020-08-25</td>\n",
       "      <td>52.190921</td>\n",
       "      <td>50.407344</td>\n",
       "      <td>55.266992</td>\n",
       "      <td>50.857827</td>\n",
       "      <td>53.519167</td>\n",
       "      <td>0.795495</td>\n",
       "      <td>0.795495</td>\n",
       "      <td>0.795495</td>\n",
       "      <td>0.795495</td>\n",
       "      <td>0.795495</td>\n",
       "      <td>0.795495</td>\n",
       "      <td>0.0</td>\n",
       "      <td>0.0</td>\n",
       "      <td>0.0</td>\n",
       "      <td>52.986415</td>\n",
       "    </tr>\n",
       "    <tr>\n",
       "      <th>434</th>\n",
       "      <td>2020-08-26</td>\n",
       "      <td>52.214271</td>\n",
       "      <td>50.383379</td>\n",
       "      <td>55.338509</td>\n",
       "      <td>50.870473</td>\n",
       "      <td>53.553012</td>\n",
       "      <td>0.812470</td>\n",
       "      <td>0.812470</td>\n",
       "      <td>0.812470</td>\n",
       "      <td>0.812470</td>\n",
       "      <td>0.812470</td>\n",
       "      <td>0.812470</td>\n",
       "      <td>0.0</td>\n",
       "      <td>0.0</td>\n",
       "      <td>0.0</td>\n",
       "      <td>53.026741</td>\n",
       "    </tr>\n",
       "    <tr>\n",
       "      <th>435</th>\n",
       "      <td>2020-08-27</td>\n",
       "      <td>52.237622</td>\n",
       "      <td>50.659913</td>\n",
       "      <td>55.496992</td>\n",
       "      <td>50.883120</td>\n",
       "      <td>53.583723</td>\n",
       "      <td>0.825801</td>\n",
       "      <td>0.825801</td>\n",
       "      <td>0.825801</td>\n",
       "      <td>0.825801</td>\n",
       "      <td>0.825801</td>\n",
       "      <td>0.825801</td>\n",
       "      <td>0.0</td>\n",
       "      <td>0.0</td>\n",
       "      <td>0.0</td>\n",
       "      <td>53.063422</td>\n",
       "    </tr>\n",
       "    <tr>\n",
       "      <th>436</th>\n",
       "      <td>2020-08-28</td>\n",
       "      <td>52.260972</td>\n",
       "      <td>50.473149</td>\n",
       "      <td>55.512709</td>\n",
       "      <td>50.895767</td>\n",
       "      <td>53.617469</td>\n",
       "      <td>0.835241</td>\n",
       "      <td>0.835241</td>\n",
       "      <td>0.835241</td>\n",
       "      <td>0.835241</td>\n",
       "      <td>0.835241</td>\n",
       "      <td>0.835241</td>\n",
       "      <td>0.0</td>\n",
       "      <td>0.0</td>\n",
       "      <td>0.0</td>\n",
       "      <td>53.096213</td>\n",
       "    </tr>\n",
       "  </tbody>\n",
       "</table>\n",
       "</div>"
      ],
      "text/plain": [
       "            ds      trend  yhat_lower  yhat_upper  trend_lower  trend_upper  \\\n",
       "432 2020-08-24  52.167570   50.592072   55.353285    50.845750    53.488010   \n",
       "433 2020-08-25  52.190921   50.407344   55.266992    50.857827    53.519167   \n",
       "434 2020-08-26  52.214271   50.383379   55.338509    50.870473    53.553012   \n",
       "435 2020-08-27  52.237622   50.659913   55.496992    50.883120    53.583723   \n",
       "436 2020-08-28  52.260972   50.473149   55.512709    50.895767    53.617469   \n",
       "\n",
       "     additive_terms  additive_terms_lower  additive_terms_upper    yearly  \\\n",
       "432        0.775189              0.775189              0.775189  0.775189   \n",
       "433        0.795495              0.795495              0.795495  0.795495   \n",
       "434        0.812470              0.812470              0.812470  0.812470   \n",
       "435        0.825801              0.825801              0.825801  0.825801   \n",
       "436        0.835241              0.835241              0.835241  0.835241   \n",
       "\n",
       "     yearly_lower  yearly_upper  multiplicative_terms  \\\n",
       "432      0.775189      0.775189                   0.0   \n",
       "433      0.795495      0.795495                   0.0   \n",
       "434      0.812470      0.812470                   0.0   \n",
       "435      0.825801      0.825801                   0.0   \n",
       "436      0.835241      0.835241                   0.0   \n",
       "\n",
       "     multiplicative_terms_lower  multiplicative_terms_upper       yhat  \n",
       "432                         0.0                         0.0  52.942759  \n",
       "433                         0.0                         0.0  52.986415  \n",
       "434                         0.0                         0.0  53.026741  \n",
       "435                         0.0                         0.0  53.063422  \n",
       "436                         0.0                         0.0  53.096213  "
      ]
     },
     "execution_count": 26,
     "metadata": {},
     "output_type": "execute_result"
    }
   ],
   "source": [
    "forecast.tail()"
   ]
  },
  {
   "cell_type": "code",
   "execution_count": 1,
   "metadata": {},
   "outputs": [
    {
     "name": "stdout",
     "output_type": "stream",
     "text": [
      "Comcast's stocks have been impacted by Covid-19(from the date when the first case was reported in the USA) against the normal flow by\n",
      " -16.32171582557121 % as of 09/05/2020\n"
     ]
    }
   ],
   "source": [
    "adobe_impact = (44.430000 - 53.096213)/53.096213 * 100\n",
    "print(\"Comcast's stocks have been impacted by Covid-19(from the date when the first case was reported in the USA) against the normal flow by\\n\", adobe_impact, \"% as of 09/05/2020\")"
   ]
  },
  {
   "cell_type": "code",
   "execution_count": null,
   "metadata": {},
   "outputs": [],
   "source": []
  },
  {
   "cell_type": "code",
   "execution_count": null,
   "metadata": {},
   "outputs": [],
   "source": []
  }
 ],
 "metadata": {
  "kernelspec": {
   "display_name": "Python",
   "language": "python",
   "name": "conda-env-python-py"
  },
  "language_info": {
   "codemirror_mode": {
    "name": "ipython",
    "version": 3
   },
   "file_extension": ".py",
   "mimetype": "text/x-python",
   "name": "python",
   "nbconvert_exporter": "python",
   "pygments_lexer": "ipython3",
   "version": "3.6.11"
  }
 },
 "nbformat": 4,
 "nbformat_minor": 4
}
