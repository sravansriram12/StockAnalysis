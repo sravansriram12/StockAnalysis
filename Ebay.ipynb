{
 "cells": [
  {
   "cell_type": "code",
   "execution_count": 1,
   "metadata": {},
   "outputs": [
    {
     "name": "stdout",
     "output_type": "stream",
     "text": [
      "Requirement already satisfied: pandas in /home/jupyterlab/conda/envs/python/lib/python3.6/site-packages (1.1.1)\n",
      "Requirement already satisfied: python-dateutil>=2.7.3 in /home/jupyterlab/conda/envs/python/lib/python3.6/site-packages (from pandas) (2.8.1)\n",
      "Requirement already satisfied: pytz>=2017.2 in /home/jupyterlab/conda/envs/python/lib/python3.6/site-packages (from pandas) (2020.1)\n",
      "Requirement already satisfied: numpy>=1.15.4 in /home/jupyterlab/conda/envs/python/lib/python3.6/site-packages (from pandas) (1.19.1)\n",
      "Requirement already satisfied: six>=1.5 in /home/jupyterlab/conda/envs/python/lib/python3.6/site-packages (from python-dateutil>=2.7.3->pandas) (1.15.0)\n"
     ]
    }
   ],
   "source": [
    "!pip install pandas\n",
    "import pandas as pd"
   ]
  },
  {
   "cell_type": "code",
   "execution_count": 2,
   "metadata": {},
   "outputs": [
    {
     "name": "stdout",
     "output_type": "stream",
     "text": [
      "Collecting package metadata (current_repodata.json): done\n",
      "Solving environment: done\n",
      "\n",
      "\n",
      "==> WARNING: A newer version of conda exists. <==\n",
      "  current version: 4.8.3\n",
      "  latest version: 4.8.4\n",
      "\n",
      "Please update conda by running\n",
      "\n",
      "    $ conda update -n base -c defaults conda\n",
      "\n",
      "\n",
      "\n",
      "# All requested packages already installed.\n",
      "\n"
     ]
    }
   ],
   "source": [
    "!conda install -c conda-forge fbprophet --yes"
   ]
  },
  {
   "cell_type": "code",
   "execution_count": 3,
   "metadata": {},
   "outputs": [
    {
     "name": "stderr",
     "output_type": "stream",
     "text": [
      "Importing plotly failed. Interactive plots will not work.\n"
     ]
    }
   ],
   "source": [
    "from fbprophet import Prophet"
   ]
  },
  {
   "cell_type": "code",
   "execution_count": 4,
   "metadata": {},
   "outputs": [],
   "source": [
    "data3 = pd.read_csv(\"EBAY (1).csv\")\n",
    "data4 = pd.read_csv(\"EBAY.csv\")\n",
    "\n",
    "from fbprophet.plot import plot_plotly, plot_components_plotly\n",
    "\n",
    "data3=data3.rename(columns={'Date':'ds', 'Close':'y'})\n",
    "data4=data4.rename(columns={'Date':'ds', 'Close':'y'})"
   ]
  },
  {
   "cell_type": "code",
   "execution_count": 5,
   "metadata": {},
   "outputs": [
    {
     "data": {
      "text/html": [
       "<div>\n",
       "<style scoped>\n",
       "    .dataframe tbody tr th:only-of-type {\n",
       "        vertical-align: middle;\n",
       "    }\n",
       "\n",
       "    .dataframe tbody tr th {\n",
       "        vertical-align: top;\n",
       "    }\n",
       "\n",
       "    .dataframe thead th {\n",
       "        text-align: right;\n",
       "    }\n",
       "</style>\n",
       "<table border=\"1\" class=\"dataframe\">\n",
       "  <thead>\n",
       "    <tr style=\"text-align: right;\">\n",
       "      <th></th>\n",
       "      <th>ds</th>\n",
       "      <th>Open</th>\n",
       "      <th>High</th>\n",
       "      <th>Low</th>\n",
       "      <th>y</th>\n",
       "      <th>Adj Close</th>\n",
       "      <th>Volume</th>\n",
       "    </tr>\n",
       "  </thead>\n",
       "  <tbody>\n",
       "    <tr>\n",
       "      <th>0</th>\n",
       "      <td>2016-01-18</td>\n",
       "      <td>25.610001</td>\n",
       "      <td>26.740000</td>\n",
       "      <td>24.76</td>\n",
       "      <td>26.430000</td>\n",
       "      <td>25.747961</td>\n",
       "      <td>57182600</td>\n",
       "    </tr>\n",
       "    <tr>\n",
       "      <th>1</th>\n",
       "      <td>2016-01-25</td>\n",
       "      <td>26.400000</td>\n",
       "      <td>27.070000</td>\n",
       "      <td>22.40</td>\n",
       "      <td>23.459999</td>\n",
       "      <td>22.854601</td>\n",
       "      <td>122576100</td>\n",
       "    </tr>\n",
       "    <tr>\n",
       "      <th>2</th>\n",
       "      <td>2016-02-01</td>\n",
       "      <td>23.340000</td>\n",
       "      <td>24.230000</td>\n",
       "      <td>22.91</td>\n",
       "      <td>23.200001</td>\n",
       "      <td>22.601313</td>\n",
       "      <td>90517100</td>\n",
       "    </tr>\n",
       "    <tr>\n",
       "      <th>3</th>\n",
       "      <td>2016-02-08</td>\n",
       "      <td>22.860001</td>\n",
       "      <td>23.000000</td>\n",
       "      <td>21.52</td>\n",
       "      <td>22.490000</td>\n",
       "      <td>21.909634</td>\n",
       "      <td>79108700</td>\n",
       "    </tr>\n",
       "    <tr>\n",
       "      <th>4</th>\n",
       "      <td>2016-02-15</td>\n",
       "      <td>22.299999</td>\n",
       "      <td>23.860001</td>\n",
       "      <td>22.23</td>\n",
       "      <td>23.809999</td>\n",
       "      <td>23.195572</td>\n",
       "      <td>42180300</td>\n",
       "    </tr>\n",
       "  </tbody>\n",
       "</table>\n",
       "</div>"
      ],
      "text/plain": [
       "           ds       Open       High    Low          y  Adj Close     Volume\n",
       "0  2016-01-18  25.610001  26.740000  24.76  26.430000  25.747961   57182600\n",
       "1  2016-01-25  26.400000  27.070000  22.40  23.459999  22.854601  122576100\n",
       "2  2016-02-01  23.340000  24.230000  22.91  23.200001  22.601313   90517100\n",
       "3  2016-02-08  22.860001  23.000000  21.52  22.490000  21.909634   79108700\n",
       "4  2016-02-15  22.299999  23.860001  22.23  23.809999  23.195572   42180300"
      ]
     },
     "execution_count": 5,
     "metadata": {},
     "output_type": "execute_result"
    }
   ],
   "source": [
    "data3.head()"
   ]
  },
  {
   "cell_type": "code",
   "execution_count": 6,
   "metadata": {},
   "outputs": [
    {
     "name": "stderr",
     "output_type": "stream",
     "text": [
      "INFO:fbprophet:Disabling weekly seasonality. Run prophet with weekly_seasonality=True to override this.\n",
      "INFO:fbprophet:Disabling daily seasonality. Run prophet with daily_seasonality=True to override this.\n"
     ]
    },
    {
     "data": {
      "text/plain": [
       "<fbprophet.forecaster.Prophet at 0x7f77802ae7b8>"
      ]
     },
     "execution_count": 6,
     "metadata": {},
     "output_type": "execute_result"
    }
   ],
   "source": [
    "m4 = Prophet(yearly_seasonality = True)\n",
    "\n",
    "m4.fit(data3)"
   ]
  },
  {
   "cell_type": "code",
   "execution_count": 7,
   "metadata": {},
   "outputs": [
    {
     "data": {
      "text/html": [
       "<div>\n",
       "<style scoped>\n",
       "    .dataframe tbody tr th:only-of-type {\n",
       "        vertical-align: middle;\n",
       "    }\n",
       "\n",
       "    .dataframe tbody tr th {\n",
       "        vertical-align: top;\n",
       "    }\n",
       "\n",
       "    .dataframe thead th {\n",
       "        text-align: right;\n",
       "    }\n",
       "</style>\n",
       "<table border=\"1\" class=\"dataframe\">\n",
       "  <thead>\n",
       "    <tr style=\"text-align: right;\">\n",
       "      <th></th>\n",
       "      <th>ds</th>\n",
       "      <th>yhat</th>\n",
       "      <th>yhat_lower</th>\n",
       "      <th>yhat_upper</th>\n",
       "    </tr>\n",
       "  </thead>\n",
       "  <tbody>\n",
       "    <tr>\n",
       "      <th>432</th>\n",
       "      <td>2020-08-24</td>\n",
       "      <td>44.945795</td>\n",
       "      <td>42.307368</td>\n",
       "      <td>47.563050</td>\n",
       "    </tr>\n",
       "    <tr>\n",
       "      <th>433</th>\n",
       "      <td>2020-08-25</td>\n",
       "      <td>45.031491</td>\n",
       "      <td>42.388175</td>\n",
       "      <td>47.517685</td>\n",
       "    </tr>\n",
       "    <tr>\n",
       "      <th>434</th>\n",
       "      <td>2020-08-26</td>\n",
       "      <td>45.113497</td>\n",
       "      <td>42.389484</td>\n",
       "      <td>47.694734</td>\n",
       "    </tr>\n",
       "    <tr>\n",
       "      <th>435</th>\n",
       "      <td>2020-08-27</td>\n",
       "      <td>45.190770</td>\n",
       "      <td>42.615048</td>\n",
       "      <td>47.892193</td>\n",
       "    </tr>\n",
       "    <tr>\n",
       "      <th>436</th>\n",
       "      <td>2020-08-28</td>\n",
       "      <td>45.262439</td>\n",
       "      <td>42.613048</td>\n",
       "      <td>47.635747</td>\n",
       "    </tr>\n",
       "  </tbody>\n",
       "</table>\n",
       "</div>"
      ],
      "text/plain": [
       "            ds       yhat  yhat_lower  yhat_upper\n",
       "432 2020-08-24  44.945795   42.307368   47.563050\n",
       "433 2020-08-25  45.031491   42.388175   47.517685\n",
       "434 2020-08-26  45.113497   42.389484   47.694734\n",
       "435 2020-08-27  45.190770   42.615048   47.892193\n",
       "436 2020-08-28  45.262439   42.613048   47.635747"
      ]
     },
     "execution_count": 7,
     "metadata": {},
     "output_type": "execute_result"
    }
   ],
   "source": [
    "future = m4.make_future_dataframe(periods = 228)\n",
    "forecast = m4.predict(future)\n",
    "forecast[['ds', 'yhat', 'yhat_lower', 'yhat_upper']].tail()"
   ]
  },
  {
   "cell_type": "code",
   "execution_count": 8,
   "metadata": {},
   "outputs": [
    {
     "name": "stderr",
     "output_type": "stream",
     "text": [
      "INFO:matplotlib.category:Using categorical units to plot a list of strings that are all parsable as floats or dates. If these strings should be plotted as numbers, cast to the appropriate data type before plotting.\n",
      "INFO:matplotlib.category:Using categorical units to plot a list of strings that are all parsable as floats or dates. If these strings should be plotted as numbers, cast to the appropriate data type before plotting.\n"
     ]
    },
    {
     "data": {
      "text/plain": [
       "Text(0, 0.5, 'Close of stock')"
      ]
     },
     "execution_count": 8,
     "metadata": {},
     "output_type": "execute_result"
    },
    {
     "data": {
      "image/png": "[encoded data removed]",
      "text/plain": [
       "<Figure size 432x288 with 1 Axes>"
      ]
     },
     "metadata": {
      "needs_background": "light"
     },
     "output_type": "display_data"
    }
   ],
   "source": [
    "import matplotlib.pyplot as plt\n",
    "\n",
    "plt.plot(data4.ds,data4.y)\n",
    "plt.xlabel('01/20/2020 - 09/05/2020')\n",
    "plt.ylabel('Close of stock')"
   ]
  },
  {
   "cell_type": "code",
   "execution_count": 9,
   "metadata": {},
   "outputs": [
    {
     "data": {
      "image/png": "[encoded data removed]",
      "text/plain": [
       "<Figure size 720x432 with 1 Axes>"
      ]
     },
     "metadata": {},
     "output_type": "display_data"
    }
   ],
   "source": [
    "fig1 = m4.plot(forecast)"
   ]
  },
  {
   "cell_type": "code",
   "execution_count": 10,
   "metadata": {},
   "outputs": [
    {
     "data": {
      "text/html": [
       "<div>\n",
       "<style scoped>\n",
       "    .dataframe tbody tr th:only-of-type {\n",
       "        vertical-align: middle;\n",
       "    }\n",
       "\n",
       "    .dataframe tbody tr th {\n",
       "        vertical-align: top;\n",
       "    }\n",
       "\n",
       "    .dataframe thead th {\n",
       "        text-align: right;\n",
       "    }\n",
       "</style>\n",
       "<table border=\"1\" class=\"dataframe\">\n",
       "  <thead>\n",
       "    <tr style=\"text-align: right;\">\n",
       "      <th></th>\n",
       "      <th>ds</th>\n",
       "      <th>Open</th>\n",
       "      <th>High</th>\n",
       "      <th>Low</th>\n",
       "      <th>y</th>\n",
       "      <th>Adj Close</th>\n",
       "      <th>Volume</th>\n",
       "    </tr>\n",
       "  </thead>\n",
       "  <tbody>\n",
       "    <tr>\n",
       "      <th>29</th>\n",
       "      <td>2020-08-10</td>\n",
       "      <td>55.220001</td>\n",
       "      <td>57.599998</td>\n",
       "      <td>53.700001</td>\n",
       "      <td>56.290001</td>\n",
       "      <td>56.124046</td>\n",
       "      <td>37030600</td>\n",
       "    </tr>\n",
       "    <tr>\n",
       "      <th>30</th>\n",
       "      <td>2020-08-17</td>\n",
       "      <td>56.689999</td>\n",
       "      <td>59.060001</td>\n",
       "      <td>56.299999</td>\n",
       "      <td>58.209999</td>\n",
       "      <td>58.038383</td>\n",
       "      <td>30948200</td>\n",
       "    </tr>\n",
       "    <tr>\n",
       "      <th>31</th>\n",
       "      <td>2020-08-24</td>\n",
       "      <td>58.459999</td>\n",
       "      <td>58.959999</td>\n",
       "      <td>54.049999</td>\n",
       "      <td>54.270000</td>\n",
       "      <td>54.110001</td>\n",
       "      <td>38093500</td>\n",
       "    </tr>\n",
       "    <tr>\n",
       "      <th>32</th>\n",
       "      <td>2020-08-31</td>\n",
       "      <td>54.000000</td>\n",
       "      <td>55.419998</td>\n",
       "      <td>52.590000</td>\n",
       "      <td>53.160000</td>\n",
       "      <td>53.003273</td>\n",
       "      <td>44592100</td>\n",
       "    </tr>\n",
       "    <tr>\n",
       "      <th>33</th>\n",
       "      <td>2020-09-04</td>\n",
       "      <td>52.820000</td>\n",
       "      <td>53.330002</td>\n",
       "      <td>50.950001</td>\n",
       "      <td>52.540001</td>\n",
       "      <td>52.540001</td>\n",
       "      <td>9971559</td>\n",
       "    </tr>\n",
       "  </tbody>\n",
       "</table>\n",
       "</div>"
      ],
      "text/plain": [
       "            ds       Open       High        Low          y  Adj Close  \\\n",
       "29  2020-08-10  55.220001  57.599998  53.700001  56.290001  56.124046   \n",
       "30  2020-08-17  56.689999  59.060001  56.299999  58.209999  58.038383   \n",
       "31  2020-08-24  58.459999  58.959999  54.049999  54.270000  54.110001   \n",
       "32  2020-08-31  54.000000  55.419998  52.590000  53.160000  53.003273   \n",
       "33  2020-09-04  52.820000  53.330002  50.950001  52.540001  52.540001   \n",
       "\n",
       "      Volume  \n",
       "29  37030600  \n",
       "30  30948200  \n",
       "31  38093500  \n",
       "32  44592100  \n",
       "33   9971559  "
      ]
     },
     "execution_count": 10,
     "metadata": {},
     "output_type": "execute_result"
    }
   ],
   "source": [
    "data4.tail()"
   ]
  },
  {
   "cell_type": "code",
   "execution_count": 11,
   "metadata": {},
   "outputs": [
    {
     "data": {
      "text/html": [
       "<div>\n",
       "<style scoped>\n",
       "    .dataframe tbody tr th:only-of-type {\n",
       "        vertical-align: middle;\n",
       "    }\n",
       "\n",
       "    .dataframe tbody tr th {\n",
       "        vertical-align: top;\n",
       "    }\n",
       "\n",
       "    .dataframe thead th {\n",
       "        text-align: right;\n",
       "    }\n",
       "</style>\n",
       "<table border=\"1\" class=\"dataframe\">\n",
       "  <thead>\n",
       "    <tr style=\"text-align: right;\">\n",
       "      <th></th>\n",
       "      <th>ds</th>\n",
       "      <th>trend</th>\n",
       "      <th>yhat_lower</th>\n",
       "      <th>yhat_upper</th>\n",
       "      <th>trend_lower</th>\n",
       "      <th>trend_upper</th>\n",
       "      <th>additive_terms</th>\n",
       "      <th>additive_terms_lower</th>\n",
       "      <th>additive_terms_upper</th>\n",
       "      <th>yearly</th>\n",
       "      <th>yearly_lower</th>\n",
       "      <th>yearly_upper</th>\n",
       "      <th>multiplicative_terms</th>\n",
       "      <th>multiplicative_terms_lower</th>\n",
       "      <th>multiplicative_terms_upper</th>\n",
       "      <th>yhat</th>\n",
       "    </tr>\n",
       "  </thead>\n",
       "  <tbody>\n",
       "    <tr>\n",
       "      <th>432</th>\n",
       "      <td>2020-08-24</td>\n",
       "      <td>43.842141</td>\n",
       "      <td>42.307368</td>\n",
       "      <td>47.563050</td>\n",
       "      <td>42.302190</td>\n",
       "      <td>45.263355</td>\n",
       "      <td>1.103655</td>\n",
       "      <td>1.103655</td>\n",
       "      <td>1.103655</td>\n",
       "      <td>1.103655</td>\n",
       "      <td>1.103655</td>\n",
       "      <td>1.103655</td>\n",
       "      <td>0.0</td>\n",
       "      <td>0.0</td>\n",
       "      <td>0.0</td>\n",
       "      <td>44.945795</td>\n",
       "    </tr>\n",
       "    <tr>\n",
       "      <th>433</th>\n",
       "      <td>2020-08-25</td>\n",
       "      <td>43.859011</td>\n",
       "      <td>42.388175</td>\n",
       "      <td>47.517685</td>\n",
       "      <td>42.308511</td>\n",
       "      <td>45.283789</td>\n",
       "      <td>1.172479</td>\n",
       "      <td>1.172479</td>\n",
       "      <td>1.172479</td>\n",
       "      <td>1.172479</td>\n",
       "      <td>1.172479</td>\n",
       "      <td>1.172479</td>\n",
       "      <td>0.0</td>\n",
       "      <td>0.0</td>\n",
       "      <td>0.0</td>\n",
       "      <td>45.031491</td>\n",
       "    </tr>\n",
       "    <tr>\n",
       "      <th>434</th>\n",
       "      <td>2020-08-26</td>\n",
       "      <td>43.875882</td>\n",
       "      <td>42.389484</td>\n",
       "      <td>47.694734</td>\n",
       "      <td>42.314832</td>\n",
       "      <td>45.311924</td>\n",
       "      <td>1.237615</td>\n",
       "      <td>1.237615</td>\n",
       "      <td>1.237615</td>\n",
       "      <td>1.237615</td>\n",
       "      <td>1.237615</td>\n",
       "      <td>1.237615</td>\n",
       "      <td>0.0</td>\n",
       "      <td>0.0</td>\n",
       "      <td>0.0</td>\n",
       "      <td>45.113497</td>\n",
       "    </tr>\n",
       "    <tr>\n",
       "      <th>435</th>\n",
       "      <td>2020-08-27</td>\n",
       "      <td>43.892753</td>\n",
       "      <td>42.615048</td>\n",
       "      <td>47.892193</td>\n",
       "      <td>42.322193</td>\n",
       "      <td>45.339614</td>\n",
       "      <td>1.298017</td>\n",
       "      <td>1.298017</td>\n",
       "      <td>1.298017</td>\n",
       "      <td>1.298017</td>\n",
       "      <td>1.298017</td>\n",
       "      <td>1.298017</td>\n",
       "      <td>0.0</td>\n",
       "      <td>0.0</td>\n",
       "      <td>0.0</td>\n",
       "      <td>45.190770</td>\n",
       "    </tr>\n",
       "    <tr>\n",
       "      <th>436</th>\n",
       "      <td>2020-08-28</td>\n",
       "      <td>43.909624</td>\n",
       "      <td>42.613048</td>\n",
       "      <td>47.635747</td>\n",
       "      <td>42.331536</td>\n",
       "      <td>45.370510</td>\n",
       "      <td>1.352815</td>\n",
       "      <td>1.352815</td>\n",
       "      <td>1.352815</td>\n",
       "      <td>1.352815</td>\n",
       "      <td>1.352815</td>\n",
       "      <td>1.352815</td>\n",
       "      <td>0.0</td>\n",
       "      <td>0.0</td>\n",
       "      <td>0.0</td>\n",
       "      <td>45.262439</td>\n",
       "    </tr>\n",
       "  </tbody>\n",
       "</table>\n",
       "</div>"
      ],
      "text/plain": [
       "            ds      trend  yhat_lower  yhat_upper  trend_lower  trend_upper  \\\n",
       "432 2020-08-24  43.842141   42.307368   47.563050    42.302190    45.263355   \n",
       "433 2020-08-25  43.859011   42.388175   47.517685    42.308511    45.283789   \n",
       "434 2020-08-26  43.875882   42.389484   47.694734    42.314832    45.311924   \n",
       "435 2020-08-27  43.892753   42.615048   47.892193    42.322193    45.339614   \n",
       "436 2020-08-28  43.909624   42.613048   47.635747    42.331536    45.370510   \n",
       "\n",
       "     additive_terms  additive_terms_lower  additive_terms_upper    yearly  \\\n",
       "432        1.103655              1.103655              1.103655  1.103655   \n",
       "433        1.172479              1.172479              1.172479  1.172479   \n",
       "434        1.237615              1.237615              1.237615  1.237615   \n",
       "435        1.298017              1.298017              1.298017  1.298017   \n",
       "436        1.352815              1.352815              1.352815  1.352815   \n",
       "\n",
       "     yearly_lower  yearly_upper  multiplicative_terms  \\\n",
       "432      1.103655      1.103655                   0.0   \n",
       "433      1.172479      1.172479                   0.0   \n",
       "434      1.237615      1.237615                   0.0   \n",
       "435      1.298017      1.298017                   0.0   \n",
       "436      1.352815      1.352815                   0.0   \n",
       "\n",
       "     multiplicative_terms_lower  multiplicative_terms_upper       yhat  \n",
       "432                         0.0                         0.0  44.945795  \n",
       "433                         0.0                         0.0  45.031491  \n",
       "434                         0.0                         0.0  45.113497  \n",
       "435                         0.0                         0.0  45.190770  \n",
       "436                         0.0                         0.0  45.262439  "
      ]
     },
     "execution_count": 11,
     "metadata": {},
     "output_type": "execute_result"
    }
   ],
   "source": [
    "forecast.tail()"
   ]
  },
  {
   "cell_type": "code",
   "execution_count": 1,
   "metadata": {},
   "outputs": [
    {
     "name": "stdout",
     "output_type": "stream",
     "text": [
      "Ebay's stocks have been impacted by Covid-19(from the date when the first case was reported in the USA) against the normal flow by\n",
      " 16.078590020303583 % as of 09/05/2020\n"
     ]
    }
   ],
   "source": [
    "ebay_impact = (52.540001 - 45.262439)/45.262439 * 100\n",
    "print(\"Ebay's stocks have been impacted by Covid-19(from the date when the first case was reported in the USA) against the normal flow by\\n\", ebay_impact, \"% as of 09/05/2020\")"
   ]
  },
  {
   "cell_type": "code",
   "execution_count": null,
   "metadata": {},
   "outputs": [],
   "source": []
  }
 ],
 "metadata": {
  "kernelspec": {
   "display_name": "Python",
   "language": "python",
   "name": "conda-env-python-py"
  },
  "language_info": {
   "codemirror_mode": {
    "name": "ipython",
    "version": 3
   },
   "file_extension": ".py",
   "mimetype": "text/x-python",
   "name": "python",
   "nbconvert_exporter": "python",
   "pygments_lexer": "ipython3",
   "version": "3.6.11"
  }
 },
 "nbformat": 4,
 "nbformat_minor": 4
}
