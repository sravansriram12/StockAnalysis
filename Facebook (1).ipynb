{
 "cells": [
  {
   "cell_type": "code",
   "execution_count": 1,
   "metadata": {},
   "outputs": [
    {
     "name": "stdout",
     "output_type": "stream",
     "text": [
      "Requirement already satisfied: pandas in /home/jupyterlab/conda/envs/python/lib/python3.6/site-packages (1.1.1)\n",
      "Requirement already satisfied: numpy>=1.15.4 in /home/jupyterlab/conda/envs/python/lib/python3.6/site-packages (from pandas) (1.19.1)\n",
      "Requirement already satisfied: python-dateutil>=2.7.3 in /home/jupyterlab/conda/envs/python/lib/python3.6/site-packages (from pandas) (2.8.1)\n",
      "Requirement already satisfied: pytz>=2017.2 in /home/jupyterlab/conda/envs/python/lib/python3.6/site-packages (from pandas) (2020.1)\n",
      "Requirement already satisfied: six>=1.5 in /home/jupyterlab/conda/envs/python/lib/python3.6/site-packages (from python-dateutil>=2.7.3->pandas) (1.15.0)\n"
     ]
    }
   ],
   "source": [
    "!pip install pandas\n",
    "\n",
    "import pandas as pd\n"
   ]
  },
  {
   "cell_type": "code",
   "execution_count": 2,
   "metadata": {},
   "outputs": [
    {
     "name": "stdout",
     "output_type": "stream",
     "text": [
      "Collecting package metadata (current_repodata.json): done\n",
      "Solving environment: done\n",
      "\n",
      "\n",
      "==> WARNING: A newer version of conda exists. <==\n",
      "  current version: 4.8.3\n",
      "  latest version: 4.8.4\n",
      "\n",
      "Please update conda by running\n",
      "\n",
      "    $ conda update -n base -c defaults conda\n",
      "\n",
      "\n",
      "\n",
      "# All requested packages already installed.\n",
      "\n"
     ]
    }
   ],
   "source": [
    " !conda install -c conda-forge fbprophet --yes\n",
    "    "
   ]
  },
  {
   "cell_type": "code",
   "execution_count": 3,
   "metadata": {},
   "outputs": [
    {
     "name": "stderr",
     "output_type": "stream",
     "text": [
      "Importing plotly failed. Interactive plots will not work.\n"
     ]
    }
   ],
   "source": [
    "from fbprophet import Prophet\n"
   ]
  },
  {
   "cell_type": "code",
   "execution_count": 13,
   "metadata": {},
   "outputs": [],
   "source": [
    "data = pd.read_csv(\"FB (2).csv\")    #predictive model file, data taken from 01/20/2016 - 01/20/2020\n",
    "data2 = pd.read_csv(\"FB (1).csv\")   #actual model file, data taken from 01/20/2020 - 09/05/2020\n",
    "\n",
    "from fbprophet.plot import plot_plotly, plot_components_plotly\n",
    "\n",
    "data=data.rename(columns={'Date':'ds', 'Close':'y'})\n",
    "data2=data2.rename(columns={'Date':'ds', 'Close':'y'})"
   ]
  },
  {
   "cell_type": "code",
   "execution_count": 14,
   "metadata": {},
   "outputs": [
    {
     "data": {
      "text/html": [
       "<div>\n",
       "<style scoped>\n",
       "    .dataframe tbody tr th:only-of-type {\n",
       "        vertical-align: middle;\n",
       "    }\n",
       "\n",
       "    .dataframe tbody tr th {\n",
       "        vertical-align: top;\n",
       "    }\n",
       "\n",
       "    .dataframe thead th {\n",
       "        text-align: right;\n",
       "    }\n",
       "</style>\n",
       "<table border=\"1\" class=\"dataframe\">\n",
       "  <thead>\n",
       "    <tr style=\"text-align: right;\">\n",
       "      <th></th>\n",
       "      <th>ds</th>\n",
       "      <th>Open</th>\n",
       "      <th>High</th>\n",
       "      <th>Low</th>\n",
       "      <th>y</th>\n",
       "      <th>Adj Close</th>\n",
       "      <th>Volume</th>\n",
       "    </tr>\n",
       "  </thead>\n",
       "  <tbody>\n",
       "    <tr>\n",
       "      <th>0</th>\n",
       "      <td>2016-01-18</td>\n",
       "      <td>96.529999</td>\n",
       "      <td>98.070000</td>\n",
       "      <td>89.370003</td>\n",
       "      <td>97.940002</td>\n",
       "      <td>97.940002</td>\n",
       "      <td>151064000</td>\n",
       "    </tr>\n",
       "    <tr>\n",
       "      <th>1</th>\n",
       "      <td>2016-01-25</td>\n",
       "      <td>98.720001</td>\n",
       "      <td>112.839996</td>\n",
       "      <td>94.230003</td>\n",
       "      <td>112.209999</td>\n",
       "      <td>112.209999</td>\n",
       "      <td>288273300</td>\n",
       "    </tr>\n",
       "    <tr>\n",
       "      <th>2</th>\n",
       "      <td>2016-02-01</td>\n",
       "      <td>112.269997</td>\n",
       "      <td>117.589996</td>\n",
       "      <td>103.180000</td>\n",
       "      <td>104.070000</td>\n",
       "      <td>104.070000</td>\n",
       "      <td>278615500</td>\n",
       "    </tr>\n",
       "    <tr>\n",
       "      <th>3</th>\n",
       "      <td>2016-02-08</td>\n",
       "      <td>100.410004</td>\n",
       "      <td>105.110001</td>\n",
       "      <td>96.820000</td>\n",
       "      <td>102.010002</td>\n",
       "      <td>102.010002</td>\n",
       "      <td>258965500</td>\n",
       "    </tr>\n",
       "    <tr>\n",
       "      <th>4</th>\n",
       "      <td>2016-02-15</td>\n",
       "      <td>103.800003</td>\n",
       "      <td>106.000000</td>\n",
       "      <td>100.239998</td>\n",
       "      <td>104.570000</td>\n",
       "      <td>104.570000</td>\n",
       "      <td>151758600</td>\n",
       "    </tr>\n",
       "  </tbody>\n",
       "</table>\n",
       "</div>"
      ],
      "text/plain": [
       "           ds        Open        High         Low           y   Adj Close  \\\n",
       "0  2016-01-18   96.529999   98.070000   89.370003   97.940002   97.940002   \n",
       "1  2016-01-25   98.720001  112.839996   94.230003  112.209999  112.209999   \n",
       "2  2016-02-01  112.269997  117.589996  103.180000  104.070000  104.070000   \n",
       "3  2016-02-08  100.410004  105.110001   96.820000  102.010002  102.010002   \n",
       "4  2016-02-15  103.800003  106.000000  100.239998  104.570000  104.570000   \n",
       "\n",
       "      Volume  \n",
       "0  151064000  \n",
       "1  288273300  \n",
       "2  278615500  \n",
       "3  258965500  \n",
       "4  151758600  "
      ]
     },
     "execution_count": 14,
     "metadata": {},
     "output_type": "execute_result"
    }
   ],
   "source": [
    "data.head()"
   ]
  },
  {
   "cell_type": "code",
   "execution_count": 25,
   "metadata": {},
   "outputs": [
    {
     "name": "stderr",
     "output_type": "stream",
     "text": [
      "INFO:fbprophet:Disabling weekly seasonality. Run prophet with weekly_seasonality=True to override this.\n",
      "INFO:fbprophet:Disabling daily seasonality. Run prophet with daily_seasonality=True to override this.\n"
     ]
    },
    {
     "data": {
      "text/plain": [
       "<fbprophet.forecaster.Prophet at 0x7f700cb65668>"
      ]
     },
     "execution_count": 25,
     "metadata": {},
     "output_type": "execute_result"
    }
   ],
   "source": [
    "m = Prophet(yearly_seasonality = True)\n",
    "m.fit(data)\n"
   ]
  },
  {
   "cell_type": "code",
   "execution_count": 26,
   "metadata": {},
   "outputs": [
    {
     "data": {
      "text/html": [
       "<div>\n",
       "<style scoped>\n",
       "    .dataframe tbody tr th:only-of-type {\n",
       "        vertical-align: middle;\n",
       "    }\n",
       "\n",
       "    .dataframe tbody tr th {\n",
       "        vertical-align: top;\n",
       "    }\n",
       "\n",
       "    .dataframe thead th {\n",
       "        text-align: right;\n",
       "    }\n",
       "</style>\n",
       "<table border=\"1\" class=\"dataframe\">\n",
       "  <thead>\n",
       "    <tr style=\"text-align: right;\">\n",
       "      <th></th>\n",
       "      <th>ds</th>\n",
       "      <th>yhat</th>\n",
       "      <th>yhat_lower</th>\n",
       "      <th>yhat_upper</th>\n",
       "    </tr>\n",
       "  </thead>\n",
       "  <tbody>\n",
       "    <tr>\n",
       "      <th>432</th>\n",
       "      <td>2020-08-24</td>\n",
       "      <td>242.811388</td>\n",
       "      <td>228.643953</td>\n",
       "      <td>256.242913</td>\n",
       "    </tr>\n",
       "    <tr>\n",
       "      <th>433</th>\n",
       "      <td>2020-08-25</td>\n",
       "      <td>242.974172</td>\n",
       "      <td>228.926607</td>\n",
       "      <td>256.234993</td>\n",
       "    </tr>\n",
       "    <tr>\n",
       "      <th>434</th>\n",
       "      <td>2020-08-26</td>\n",
       "      <td>243.133121</td>\n",
       "      <td>230.550025</td>\n",
       "      <td>256.410421</td>\n",
       "    </tr>\n",
       "    <tr>\n",
       "      <th>435</th>\n",
       "      <td>2020-08-27</td>\n",
       "      <td>243.285825</td>\n",
       "      <td>228.966303</td>\n",
       "      <td>257.007089</td>\n",
       "    </tr>\n",
       "    <tr>\n",
       "      <th>436</th>\n",
       "      <td>2020-08-28</td>\n",
       "      <td>243.430042</td>\n",
       "      <td>229.529342</td>\n",
       "      <td>256.902931</td>\n",
       "    </tr>\n",
       "  </tbody>\n",
       "</table>\n",
       "</div>"
      ],
      "text/plain": [
       "            ds        yhat  yhat_lower  yhat_upper\n",
       "432 2020-08-24  242.811388  228.643953  256.242913\n",
       "433 2020-08-25  242.974172  228.926607  256.234993\n",
       "434 2020-08-26  243.133121  230.550025  256.410421\n",
       "435 2020-08-27  243.285825  228.966303  257.007089\n",
       "436 2020-08-28  243.430042  229.529342  256.902931"
      ]
     },
     "execution_count": 26,
     "metadata": {},
     "output_type": "execute_result"
    }
   ],
   "source": [
    "future = m.make_future_dataframe(periods = 228)\n",
    "forecast = m.predict(future)\n",
    "forecast[['ds', 'yhat', 'yhat_lower', 'yhat_upper']].tail()\n"
   ]
  },
  {
   "cell_type": "code",
   "execution_count": 27,
   "metadata": {},
   "outputs": [
    {
     "name": "stderr",
     "output_type": "stream",
     "text": [
      "INFO:matplotlib.category:Using categorical units to plot a list of strings that are all parsable as floats or dates. If these strings should be plotted as numbers, cast to the appropriate data type before plotting.\n",
      "INFO:matplotlib.category:Using categorical units to plot a list of strings that are all parsable as floats or dates. If these strings should be plotted as numbers, cast to the appropriate data type before plotting.\n"
     ]
    },
    {
     "data": {
      "text/plain": [
       "Text(0, 0.5, 'Close of stock')"
      ]
     },
     "execution_count": 27,
     "metadata": {},
     "output_type": "execute_result"
    },
    {
     "data": {
      "image/png": "[encoded data removed]",
      "text/plain": [
       "<Figure size 432x288 with 1 Axes>"
      ]
     },
     "metadata": {
      "needs_background": "light"
     },
     "output_type": "display_data"
    }
   ],
   "source": [
    "import matplotlib.pyplot as plt\n",
    "\n",
    "plt.plot(data2.ds,data2.y)\n",
    "plt.xlabel('01/20/2020 - 09/05/2020')\n",
    "plt.ylabel('Close of stock')"
   ]
  },
  {
   "cell_type": "code",
   "execution_count": 28,
   "metadata": {},
   "outputs": [
    {
     "data": {
      "image/png": "[encoded data removed]",
      "text/plain": [
       "<Figure size 720x432 with 1 Axes>"
      ]
     },
     "metadata": {},
     "output_type": "display_data"
    }
   ],
   "source": [
    "fig1 = m.plot(forecast)"
   ]
  },
  {
   "cell_type": "code",
   "execution_count": 29,
   "metadata": {},
   "outputs": [
    {
     "data": {
      "text/html": [
       "<div>\n",
       "<style scoped>\n",
       "    .dataframe tbody tr th:only-of-type {\n",
       "        vertical-align: middle;\n",
       "    }\n",
       "\n",
       "    .dataframe tbody tr th {\n",
       "        vertical-align: top;\n",
       "    }\n",
       "\n",
       "    .dataframe thead th {\n",
       "        text-align: right;\n",
       "    }\n",
       "</style>\n",
       "<table border=\"1\" class=\"dataframe\">\n",
       "  <thead>\n",
       "    <tr style=\"text-align: right;\">\n",
       "      <th></th>\n",
       "      <th>ds</th>\n",
       "      <th>Open</th>\n",
       "      <th>High</th>\n",
       "      <th>Low</th>\n",
       "      <th>y</th>\n",
       "      <th>Adj Close</th>\n",
       "      <th>Volume</th>\n",
       "    </tr>\n",
       "  </thead>\n",
       "  <tbody>\n",
       "    <tr>\n",
       "      <th>29</th>\n",
       "      <td>2020-08-10</td>\n",
       "      <td>268.040009</td>\n",
       "      <td>273.859985</td>\n",
       "      <td>255.130005</td>\n",
       "      <td>261.239990</td>\n",
       "      <td>261.239990</td>\n",
       "      <td>112082100</td>\n",
       "    </tr>\n",
       "    <tr>\n",
       "      <th>30</th>\n",
       "      <td>2020-08-17</td>\n",
       "      <td>262.500000</td>\n",
       "      <td>270.489990</td>\n",
       "      <td>259.260010</td>\n",
       "      <td>267.010010</td>\n",
       "      <td>267.010010</td>\n",
       "      <td>91171300</td>\n",
       "    </tr>\n",
       "    <tr>\n",
       "      <th>31</th>\n",
       "      <td>2020-08-24</td>\n",
       "      <td>271.070007</td>\n",
       "      <td>304.670013</td>\n",
       "      <td>268.769989</td>\n",
       "      <td>293.660004</td>\n",
       "      <td>293.660004</td>\n",
       "      <td>182301700</td>\n",
       "    </tr>\n",
       "    <tr>\n",
       "      <th>32</th>\n",
       "      <td>2020-08-31</td>\n",
       "      <td>293.950012</td>\n",
       "      <td>303.600006</td>\n",
       "      <td>283.630005</td>\n",
       "      <td>291.119995</td>\n",
       "      <td>291.119995</td>\n",
       "      <td>91206100</td>\n",
       "    </tr>\n",
       "    <tr>\n",
       "      <th>33</th>\n",
       "      <td>2020-09-04</td>\n",
       "      <td>287.250000</td>\n",
       "      <td>289.000000</td>\n",
       "      <td>271.140015</td>\n",
       "      <td>282.730011</td>\n",
       "      <td>282.730011</td>\n",
       "      <td>29809863</td>\n",
       "    </tr>\n",
       "  </tbody>\n",
       "</table>\n",
       "</div>"
      ],
      "text/plain": [
       "            ds        Open        High         Low           y   Adj Close  \\\n",
       "29  2020-08-10  268.040009  273.859985  255.130005  261.239990  261.239990   \n",
       "30  2020-08-17  262.500000  270.489990  259.260010  267.010010  267.010010   \n",
       "31  2020-08-24  271.070007  304.670013  268.769989  293.660004  293.660004   \n",
       "32  2020-08-31  293.950012  303.600006  283.630005  291.119995  291.119995   \n",
       "33  2020-09-04  287.250000  289.000000  271.140015  282.730011  282.730011   \n",
       "\n",
       "       Volume  \n",
       "29  112082100  \n",
       "30   91171300  \n",
       "31  182301700  \n",
       "32   91206100  \n",
       "33   29809863  "
      ]
     },
     "execution_count": 29,
     "metadata": {},
     "output_type": "execute_result"
    }
   ],
   "source": [
    "data2.tail()"
   ]
  },
  {
   "cell_type": "code",
   "execution_count": 30,
   "metadata": {},
   "outputs": [
    {
     "data": {
      "text/html": [
       "<div>\n",
       "<style scoped>\n",
       "    .dataframe tbody tr th:only-of-type {\n",
       "        vertical-align: middle;\n",
       "    }\n",
       "\n",
       "    .dataframe tbody tr th {\n",
       "        vertical-align: top;\n",
       "    }\n",
       "\n",
       "    .dataframe thead th {\n",
       "        text-align: right;\n",
       "    }\n",
       "</style>\n",
       "<table border=\"1\" class=\"dataframe\">\n",
       "  <thead>\n",
       "    <tr style=\"text-align: right;\">\n",
       "      <th></th>\n",
       "      <th>ds</th>\n",
       "      <th>trend</th>\n",
       "      <th>yhat_lower</th>\n",
       "      <th>yhat_upper</th>\n",
       "      <th>trend_lower</th>\n",
       "      <th>trend_upper</th>\n",
       "      <th>additive_terms</th>\n",
       "      <th>additive_terms_lower</th>\n",
       "      <th>additive_terms_upper</th>\n",
       "      <th>yearly</th>\n",
       "      <th>yearly_lower</th>\n",
       "      <th>yearly_upper</th>\n",
       "      <th>multiplicative_terms</th>\n",
       "      <th>multiplicative_terms_lower</th>\n",
       "      <th>multiplicative_terms_upper</th>\n",
       "      <th>yhat</th>\n",
       "    </tr>\n",
       "  </thead>\n",
       "  <tbody>\n",
       "    <tr>\n",
       "      <th>432</th>\n",
       "      <td>2020-08-24</td>\n",
       "      <td>241.127544</td>\n",
       "      <td>228.643953</td>\n",
       "      <td>256.242913</td>\n",
       "      <td>232.786960</td>\n",
       "      <td>248.760240</td>\n",
       "      <td>1.683844</td>\n",
       "      <td>1.683844</td>\n",
       "      <td>1.683844</td>\n",
       "      <td>1.683844</td>\n",
       "      <td>1.683844</td>\n",
       "      <td>1.683844</td>\n",
       "      <td>0.0</td>\n",
       "      <td>0.0</td>\n",
       "      <td>0.0</td>\n",
       "      <td>242.811388</td>\n",
       "    </tr>\n",
       "    <tr>\n",
       "      <th>433</th>\n",
       "      <td>2020-08-25</td>\n",
       "      <td>241.266375</td>\n",
       "      <td>228.926607</td>\n",
       "      <td>256.234993</td>\n",
       "      <td>232.883028</td>\n",
       "      <td>248.940018</td>\n",
       "      <td>1.707797</td>\n",
       "      <td>1.707797</td>\n",
       "      <td>1.707797</td>\n",
       "      <td>1.707797</td>\n",
       "      <td>1.707797</td>\n",
       "      <td>1.707797</td>\n",
       "      <td>0.0</td>\n",
       "      <td>0.0</td>\n",
       "      <td>0.0</td>\n",
       "      <td>242.974172</td>\n",
       "    </tr>\n",
       "    <tr>\n",
       "      <th>434</th>\n",
       "      <td>2020-08-26</td>\n",
       "      <td>241.405206</td>\n",
       "      <td>230.550025</td>\n",
       "      <td>256.410421</td>\n",
       "      <td>232.981080</td>\n",
       "      <td>249.119301</td>\n",
       "      <td>1.727915</td>\n",
       "      <td>1.727915</td>\n",
       "      <td>1.727915</td>\n",
       "      <td>1.727915</td>\n",
       "      <td>1.727915</td>\n",
       "      <td>1.727915</td>\n",
       "      <td>0.0</td>\n",
       "      <td>0.0</td>\n",
       "      <td>0.0</td>\n",
       "      <td>243.133121</td>\n",
       "    </tr>\n",
       "    <tr>\n",
       "      <th>435</th>\n",
       "      <td>2020-08-27</td>\n",
       "      <td>241.544037</td>\n",
       "      <td>228.966303</td>\n",
       "      <td>257.007089</td>\n",
       "      <td>233.080065</td>\n",
       "      <td>249.300451</td>\n",
       "      <td>1.741788</td>\n",
       "      <td>1.741788</td>\n",
       "      <td>1.741788</td>\n",
       "      <td>1.741788</td>\n",
       "      <td>1.741788</td>\n",
       "      <td>1.741788</td>\n",
       "      <td>0.0</td>\n",
       "      <td>0.0</td>\n",
       "      <td>0.0</td>\n",
       "      <td>243.285825</td>\n",
       "    </tr>\n",
       "    <tr>\n",
       "      <th>436</th>\n",
       "      <td>2020-08-28</td>\n",
       "      <td>241.682868</td>\n",
       "      <td>229.529342</td>\n",
       "      <td>256.902931</td>\n",
       "      <td>233.179050</td>\n",
       "      <td>249.492261</td>\n",
       "      <td>1.747175</td>\n",
       "      <td>1.747175</td>\n",
       "      <td>1.747175</td>\n",
       "      <td>1.747175</td>\n",
       "      <td>1.747175</td>\n",
       "      <td>1.747175</td>\n",
       "      <td>0.0</td>\n",
       "      <td>0.0</td>\n",
       "      <td>0.0</td>\n",
       "      <td>243.430042</td>\n",
       "    </tr>\n",
       "  </tbody>\n",
       "</table>\n",
       "</div>"
      ],
      "text/plain": [
       "            ds       trend  yhat_lower  yhat_upper  trend_lower  trend_upper  \\\n",
       "432 2020-08-24  241.127544  228.643953  256.242913   232.786960   248.760240   \n",
       "433 2020-08-25  241.266375  228.926607  256.234993   232.883028   248.940018   \n",
       "434 2020-08-26  241.405206  230.550025  256.410421   232.981080   249.119301   \n",
       "435 2020-08-27  241.544037  228.966303  257.007089   233.080065   249.300451   \n",
       "436 2020-08-28  241.682868  229.529342  256.902931   233.179050   249.492261   \n",
       "\n",
       "     additive_terms  additive_terms_lower  additive_terms_upper    yearly  \\\n",
       "432        1.683844              1.683844              1.683844  1.683844   \n",
       "433        1.707797              1.707797              1.707797  1.707797   \n",
       "434        1.727915              1.727915              1.727915  1.727915   \n",
       "435        1.741788              1.741788              1.741788  1.741788   \n",
       "436        1.747175              1.747175              1.747175  1.747175   \n",
       "\n",
       "     yearly_lower  yearly_upper  multiplicative_terms  \\\n",
       "432      1.683844      1.683844                   0.0   \n",
       "433      1.707797      1.707797                   0.0   \n",
       "434      1.727915      1.727915                   0.0   \n",
       "435      1.741788      1.741788                   0.0   \n",
       "436      1.747175      1.747175                   0.0   \n",
       "\n",
       "     multiplicative_terms_lower  multiplicative_terms_upper        yhat  \n",
       "432                         0.0                         0.0  242.811388  \n",
       "433                         0.0                         0.0  242.974172  \n",
       "434                         0.0                         0.0  243.133121  \n",
       "435                         0.0                         0.0  243.285825  \n",
       "436                         0.0                         0.0  243.430042  "
      ]
     },
     "execution_count": 30,
     "metadata": {},
     "output_type": "execute_result"
    }
   ],
   "source": [
    "forecast.tail()"
   ]
  },
  {
   "cell_type": "code",
   "execution_count": 1,
   "metadata": {},
   "outputs": [
    {
     "name": "stdout",
     "output_type": "stream",
     "text": [
      "Facebook's stocks have been impacted against the normal flow by Covid-19(from when the first case was reported in the USA) by\n",
      " 16.144255933702713 %\n"
     ]
    }
   ],
   "source": [
    "fb_impact = (282.730011-243.430042)/243.430042 * 100\n",
    "print(\"Facebook's stocks have been impacted against the normal flow by Covid-19(from when the first case was reported in the USA) by\\n\",fb_impact,\"%\")\n"
   ]
  },
  {
   "cell_type": "code",
   "execution_count": null,
   "metadata": {},
   "outputs": [],
   "source": []
  },
  {
   "cell_type": "code",
   "execution_count": null,
   "metadata": {},
   "outputs": [],
   "source": []
  },
  {
   "cell_type": "code",
   "execution_count": null,
   "metadata": {},
   "outputs": [],
   "source": []
  },
  {
   "cell_type": "code",
   "execution_count": null,
   "metadata": {},
   "outputs": [],
   "source": []
  }
 ],
 "metadata": {
  "kernelspec": {
   "display_name": "Python",
   "language": "python",
   "name": "conda-env-python-py"
  },
  "language_info": {
   "codemirror_mode": {
    "name": "ipython",
    "version": 3
   },
   "file_extension": ".py",
   "mimetype": "text/x-python",
   "name": "python",
   "nbconvert_exporter": "python",
   "pygments_lexer": "ipython3",
   "version": "3.6.11"
  }
 },
 "nbformat": 4,
 "nbformat_minor": 4
}
