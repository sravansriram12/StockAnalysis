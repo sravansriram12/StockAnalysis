{
 "cells": [
  {
   "cell_type": "code",
   "execution_count": 1,
   "metadata": {},
   "outputs": [
    {
     "name": "stdout",
     "output_type": "stream",
     "text": [
      "Requirement already satisfied: pandas in /home/jupyterlab/conda/envs/python/lib/python3.6/site-packages (1.1.1)\n",
      "Requirement already satisfied: python-dateutil>=2.7.3 in /home/jupyterlab/conda/envs/python/lib/python3.6/site-packages (from pandas) (2.8.1)\n",
      "Requirement already satisfied: pytz>=2017.2 in /home/jupyterlab/conda/envs/python/lib/python3.6/site-packages (from pandas) (2020.1)\n",
      "Requirement already satisfied: numpy>=1.15.4 in /home/jupyterlab/conda/envs/python/lib/python3.6/site-packages (from pandas) (1.19.1)\n",
      "Requirement already satisfied: six>=1.5 in /home/jupyterlab/conda/envs/python/lib/python3.6/site-packages (from python-dateutil>=2.7.3->pandas) (1.15.0)\n"
     ]
    }
   ],
   "source": [
    "!pip install pandas\n",
    "import pandas as pd"
   ]
  },
  {
   "cell_type": "code",
   "execution_count": 2,
   "metadata": {},
   "outputs": [
    {
     "name": "stdout",
     "output_type": "stream",
     "text": [
      "Collecting package metadata (current_repodata.json): done\n",
      "Solving environment: done\n",
      "\n",
      "\n",
      "==> WARNING: A newer version of conda exists. <==\n",
      "  current version: 4.8.3\n",
      "  latest version: 4.8.4\n",
      "\n",
      "Please update conda by running\n",
      "\n",
      "    $ conda update -n base -c defaults conda\n",
      "\n",
      "\n",
      "\n",
      "# All requested packages already installed.\n",
      "\n"
     ]
    }
   ],
   "source": [
    "!conda install -c conda-forge fbprophet --yes"
   ]
  },
  {
   "cell_type": "code",
   "execution_count": 3,
   "metadata": {},
   "outputs": [
    {
     "name": "stderr",
     "output_type": "stream",
     "text": [
      "Importing plotly failed. Interactive plots will not work.\n"
     ]
    }
   ],
   "source": [
    "from fbprophet import Prophet"
   ]
  },
  {
   "cell_type": "code",
   "execution_count": 32,
   "metadata": {},
   "outputs": [],
   "source": [
    "data3 = pd.read_csv(\"HLT (1).csv\")\n",
    "data4 = pd.read_csv(\"HLT.csv\")\n",
    "\n",
    "from fbprophet.plot import plot_plotly, plot_components_plotly\n",
    "\n",
    "data3=data3.rename(columns={'Date':'ds', 'Close':'y'})\n",
    "data4=data4.rename(columns={'Date':'ds', 'Close':'y'})"
   ]
  },
  {
   "cell_type": "code",
   "execution_count": 33,
   "metadata": {},
   "outputs": [
    {
     "data": {
      "text/html": [
       "<div>\n",
       "<style scoped>\n",
       "    .dataframe tbody tr th:only-of-type {\n",
       "        vertical-align: middle;\n",
       "    }\n",
       "\n",
       "    .dataframe tbody tr th {\n",
       "        vertical-align: top;\n",
       "    }\n",
       "\n",
       "    .dataframe thead th {\n",
       "        text-align: right;\n",
       "    }\n",
       "</style>\n",
       "<table border=\"1\" class=\"dataframe\">\n",
       "  <thead>\n",
       "    <tr style=\"text-align: right;\">\n",
       "      <th></th>\n",
       "      <th>ds</th>\n",
       "      <th>Open</th>\n",
       "      <th>High</th>\n",
       "      <th>Low</th>\n",
       "      <th>y</th>\n",
       "      <th>Adj Close</th>\n",
       "      <th>Volume</th>\n",
       "    </tr>\n",
       "  </thead>\n",
       "  <tbody>\n",
       "    <tr>\n",
       "      <th>0</th>\n",
       "      <td>2015-01-19</td>\n",
       "      <td>53.105759</td>\n",
       "      <td>55.198799</td>\n",
       "      <td>52.264439</td>\n",
       "      <td>54.501122</td>\n",
       "      <td>52.674477</td>\n",
       "      <td>6841700</td>\n",
       "    </tr>\n",
       "    <tr>\n",
       "      <th>1</th>\n",
       "      <td>2015-01-26</td>\n",
       "      <td>54.521641</td>\n",
       "      <td>55.280880</td>\n",
       "      <td>53.208359</td>\n",
       "      <td>53.290440</td>\n",
       "      <td>51.504364</td>\n",
       "      <td>10575500</td>\n",
       "    </tr>\n",
       "    <tr>\n",
       "      <th>2</th>\n",
       "      <td>2015-02-02</td>\n",
       "      <td>53.352001</td>\n",
       "      <td>55.917000</td>\n",
       "      <td>52.428600</td>\n",
       "      <td>54.090721</td>\n",
       "      <td>52.277836</td>\n",
       "      <td>12833400</td>\n",
       "    </tr>\n",
       "    <tr>\n",
       "      <th>3</th>\n",
       "      <td>2015-02-09</td>\n",
       "      <td>54.111240</td>\n",
       "      <td>59.384880</td>\n",
       "      <td>53.762402</td>\n",
       "      <td>58.625641</td>\n",
       "      <td>56.660759</td>\n",
       "      <td>19443800</td>\n",
       "    </tr>\n",
       "    <tr>\n",
       "      <th>4</th>\n",
       "      <td>2015-02-16</td>\n",
       "      <td>58.625641</td>\n",
       "      <td>59.302799</td>\n",
       "      <td>57.230282</td>\n",
       "      <td>58.174198</td>\n",
       "      <td>56.224449</td>\n",
       "      <td>11727200</td>\n",
       "    </tr>\n",
       "  </tbody>\n",
       "</table>\n",
       "</div>"
      ],
      "text/plain": [
       "           ds       Open       High        Low          y  Adj Close    Volume\n",
       "0  2015-01-19  53.105759  55.198799  52.264439  54.501122  52.674477   6841700\n",
       "1  2015-01-26  54.521641  55.280880  53.208359  53.290440  51.504364  10575500\n",
       "2  2015-02-02  53.352001  55.917000  52.428600  54.090721  52.277836  12833400\n",
       "3  2015-02-09  54.111240  59.384880  53.762402  58.625641  56.660759  19443800\n",
       "4  2015-02-16  58.625641  59.302799  57.230282  58.174198  56.224449  11727200"
      ]
     },
     "execution_count": 33,
     "metadata": {},
     "output_type": "execute_result"
    }
   ],
   "source": [
    "data3.head()"
   ]
  },
  {
   "cell_type": "code",
   "execution_count": 34,
   "metadata": {},
   "outputs": [
    {
     "name": "stderr",
     "output_type": "stream",
     "text": [
      "INFO:fbprophet:Disabling weekly seasonality. Run prophet with weekly_seasonality=True to override this.\n",
      "INFO:fbprophet:Disabling daily seasonality. Run prophet with daily_seasonality=True to override this.\n"
     ]
    },
    {
     "data": {
      "text/plain": [
       "<fbprophet.forecaster.Prophet at 0x7fb94f8f99e8>"
      ]
     },
     "execution_count": 34,
     "metadata": {},
     "output_type": "execute_result"
    }
   ],
   "source": [
    "m4 = Prophet(yearly_seasonality = True)\n",
    "\n",
    "m4.fit(data3)"
   ]
  },
  {
   "cell_type": "code",
   "execution_count": 35,
   "metadata": {},
   "outputs": [
    {
     "data": {
      "text/html": [
       "<div>\n",
       "<style scoped>\n",
       "    .dataframe tbody tr th:only-of-type {\n",
       "        vertical-align: middle;\n",
       "    }\n",
       "\n",
       "    .dataframe tbody tr th {\n",
       "        vertical-align: top;\n",
       "    }\n",
       "\n",
       "    .dataframe thead th {\n",
       "        text-align: right;\n",
       "    }\n",
       "</style>\n",
       "<table border=\"1\" class=\"dataframe\">\n",
       "  <thead>\n",
       "    <tr style=\"text-align: right;\">\n",
       "      <th></th>\n",
       "      <th>ds</th>\n",
       "      <th>yhat</th>\n",
       "      <th>yhat_lower</th>\n",
       "      <th>yhat_upper</th>\n",
       "    </tr>\n",
       "  </thead>\n",
       "  <tbody>\n",
       "    <tr>\n",
       "      <th>484</th>\n",
       "      <td>2020-08-24</td>\n",
       "      <td>125.801789</td>\n",
       "      <td>119.910810</td>\n",
       "      <td>131.593551</td>\n",
       "    </tr>\n",
       "    <tr>\n",
       "      <th>485</th>\n",
       "      <td>2020-08-25</td>\n",
       "      <td>125.909385</td>\n",
       "      <td>120.380568</td>\n",
       "      <td>131.737417</td>\n",
       "    </tr>\n",
       "    <tr>\n",
       "      <th>486</th>\n",
       "      <td>2020-08-26</td>\n",
       "      <td>126.019599</td>\n",
       "      <td>120.136301</td>\n",
       "      <td>132.120601</td>\n",
       "    </tr>\n",
       "    <tr>\n",
       "      <th>487</th>\n",
       "      <td>2020-08-27</td>\n",
       "      <td>126.132303</td>\n",
       "      <td>119.846055</td>\n",
       "      <td>132.070406</td>\n",
       "    </tr>\n",
       "    <tr>\n",
       "      <th>488</th>\n",
       "      <td>2020-08-28</td>\n",
       "      <td>126.247376</td>\n",
       "      <td>120.672087</td>\n",
       "      <td>132.115167</td>\n",
       "    </tr>\n",
       "  </tbody>\n",
       "</table>\n",
       "</div>"
      ],
      "text/plain": [
       "            ds        yhat  yhat_lower  yhat_upper\n",
       "484 2020-08-24  125.801789  119.910810  131.593551\n",
       "485 2020-08-25  125.909385  120.380568  131.737417\n",
       "486 2020-08-26  126.019599  120.136301  132.120601\n",
       "487 2020-08-27  126.132303  119.846055  132.070406\n",
       "488 2020-08-28  126.247376  120.672087  132.115167"
      ]
     },
     "execution_count": 35,
     "metadata": {},
     "output_type": "execute_result"
    }
   ],
   "source": [
    "future = m4.make_future_dataframe(periods = 228)\n",
    "forecast = m4.predict(future)\n",
    "forecast[['ds', 'yhat', 'yhat_lower', 'yhat_upper']].tail()"
   ]
  },
  {
   "cell_type": "code",
   "execution_count": 36,
   "metadata": {},
   "outputs": [
    {
     "name": "stderr",
     "output_type": "stream",
     "text": [
      "INFO:matplotlib.category:Using categorical units to plot a list of strings that are all parsable as floats or dates. If these strings should be plotted as numbers, cast to the appropriate data type before plotting.\n",
      "INFO:matplotlib.category:Using categorical units to plot a list of strings that are all parsable as floats or dates. If these strings should be plotted as numbers, cast to the appropriate data type before plotting.\n"
     ]
    },
    {
     "data": {
      "text/plain": [
       "Text(0, 0.5, 'Close of stock')"
      ]
     },
     "execution_count": 36,
     "metadata": {},
     "output_type": "execute_result"
    },
    {
     "data": {
      "image/png": "[encoded data removed]",
      "text/plain": [
       "<Figure size 432x288 with 1 Axes>"
      ]
     },
     "metadata": {
      "needs_background": "light"
     },
     "output_type": "display_data"
    }
   ],
   "source": [
    "import matplotlib.pyplot as plt\n",
    "\n",
    "plt.plot(data4.ds,data4.y)\n",
    "plt.xlabel('01/20/2020 - 09/05/2020')\n",
    "plt.ylabel('Close of stock')"
   ]
  },
  {
   "cell_type": "code",
   "execution_count": 37,
   "metadata": {},
   "outputs": [
    {
     "data": {
      "image/png": "[encoded data removed]",
      "text/plain": [
       "<Figure size 720x432 with 1 Axes>"
      ]
     },
     "metadata": {},
     "output_type": "display_data"
    }
   ],
   "source": [
    "fig1 = m4.plot(forecast)"
   ]
  },
  {
   "cell_type": "code",
   "execution_count": 38,
   "metadata": {},
   "outputs": [
    {
     "data": {
      "text/html": [
       "<div>\n",
       "<style scoped>\n",
       "    .dataframe tbody tr th:only-of-type {\n",
       "        vertical-align: middle;\n",
       "    }\n",
       "\n",
       "    .dataframe tbody tr th {\n",
       "        vertical-align: top;\n",
       "    }\n",
       "\n",
       "    .dataframe thead th {\n",
       "        text-align: right;\n",
       "    }\n",
       "</style>\n",
       "<table border=\"1\" class=\"dataframe\">\n",
       "  <thead>\n",
       "    <tr style=\"text-align: right;\">\n",
       "      <th></th>\n",
       "      <th>ds</th>\n",
       "      <th>Open</th>\n",
       "      <th>High</th>\n",
       "      <th>Low</th>\n",
       "      <th>y</th>\n",
       "      <th>Adj Close</th>\n",
       "      <th>Volume</th>\n",
       "    </tr>\n",
       "  </thead>\n",
       "  <tbody>\n",
       "    <tr>\n",
       "      <th>29</th>\n",
       "      <td>2020-08-10</td>\n",
       "      <td>84.529999</td>\n",
       "      <td>88.699997</td>\n",
       "      <td>84.199997</td>\n",
       "      <td>86.000000</td>\n",
       "      <td>86.000000</td>\n",
       "      <td>14390800</td>\n",
       "    </tr>\n",
       "    <tr>\n",
       "      <th>30</th>\n",
       "      <td>2020-08-17</td>\n",
       "      <td>86.070000</td>\n",
       "      <td>87.440002</td>\n",
       "      <td>83.120003</td>\n",
       "      <td>87.349998</td>\n",
       "      <td>87.349998</td>\n",
       "      <td>10770900</td>\n",
       "    </tr>\n",
       "    <tr>\n",
       "      <th>31</th>\n",
       "      <td>2020-08-24</td>\n",
       "      <td>87.849998</td>\n",
       "      <td>92.059998</td>\n",
       "      <td>86.699997</td>\n",
       "      <td>91.730003</td>\n",
       "      <td>91.730003</td>\n",
       "      <td>14356400</td>\n",
       "    </tr>\n",
       "    <tr>\n",
       "      <th>32</th>\n",
       "      <td>2020-08-31</td>\n",
       "      <td>91.610001</td>\n",
       "      <td>93.849998</td>\n",
       "      <td>89.010002</td>\n",
       "      <td>91.300003</td>\n",
       "      <td>91.300003</td>\n",
       "      <td>11667200</td>\n",
       "    </tr>\n",
       "    <tr>\n",
       "      <th>33</th>\n",
       "      <td>2020-09-04</td>\n",
       "      <td>92.680000</td>\n",
       "      <td>93.389999</td>\n",
       "      <td>90.750000</td>\n",
       "      <td>90.940002</td>\n",
       "      <td>90.940002</td>\n",
       "      <td>3531677</td>\n",
       "    </tr>\n",
       "  </tbody>\n",
       "</table>\n",
       "</div>"
      ],
      "text/plain": [
       "            ds       Open       High        Low          y  Adj Close  \\\n",
       "29  2020-08-10  84.529999  88.699997  84.199997  86.000000  86.000000   \n",
       "30  2020-08-17  86.070000  87.440002  83.120003  87.349998  87.349998   \n",
       "31  2020-08-24  87.849998  92.059998  86.699997  91.730003  91.730003   \n",
       "32  2020-08-31  91.610001  93.849998  89.010002  91.300003  91.300003   \n",
       "33  2020-09-04  92.680000  93.389999  90.750000  90.940002  90.940002   \n",
       "\n",
       "      Volume  \n",
       "29  14390800  \n",
       "30  10770900  \n",
       "31  14356400  \n",
       "32  11667200  \n",
       "33   3531677  "
      ]
     },
     "execution_count": 38,
     "metadata": {},
     "output_type": "execute_result"
    }
   ],
   "source": [
    "data4.tail()"
   ]
  },
  {
   "cell_type": "code",
   "execution_count": 39,
   "metadata": {},
   "outputs": [
    {
     "data": {
      "text/html": [
       "<div>\n",
       "<style scoped>\n",
       "    .dataframe tbody tr th:only-of-type {\n",
       "        vertical-align: middle;\n",
       "    }\n",
       "\n",
       "    .dataframe tbody tr th {\n",
       "        vertical-align: top;\n",
       "    }\n",
       "\n",
       "    .dataframe thead th {\n",
       "        text-align: right;\n",
       "    }\n",
       "</style>\n",
       "<table border=\"1\" class=\"dataframe\">\n",
       "  <thead>\n",
       "    <tr style=\"text-align: right;\">\n",
       "      <th></th>\n",
       "      <th>ds</th>\n",
       "      <th>trend</th>\n",
       "      <th>yhat_lower</th>\n",
       "      <th>yhat_upper</th>\n",
       "      <th>trend_lower</th>\n",
       "      <th>trend_upper</th>\n",
       "      <th>additive_terms</th>\n",
       "      <th>additive_terms_lower</th>\n",
       "      <th>additive_terms_upper</th>\n",
       "      <th>yearly</th>\n",
       "      <th>yearly_lower</th>\n",
       "      <th>yearly_upper</th>\n",
       "      <th>multiplicative_terms</th>\n",
       "      <th>multiplicative_terms_lower</th>\n",
       "      <th>multiplicative_terms_upper</th>\n",
       "      <th>yhat</th>\n",
       "    </tr>\n",
       "  </thead>\n",
       "  <tbody>\n",
       "    <tr>\n",
       "      <th>484</th>\n",
       "      <td>2020-08-24</td>\n",
       "      <td>127.601385</td>\n",
       "      <td>119.910810</td>\n",
       "      <td>131.593551</td>\n",
       "      <td>123.405276</td>\n",
       "      <td>131.935623</td>\n",
       "      <td>-1.799596</td>\n",
       "      <td>-1.799596</td>\n",
       "      <td>-1.799596</td>\n",
       "      <td>-1.799596</td>\n",
       "      <td>-1.799596</td>\n",
       "      <td>-1.799596</td>\n",
       "      <td>0.0</td>\n",
       "      <td>0.0</td>\n",
       "      <td>0.0</td>\n",
       "      <td>125.801789</td>\n",
       "    </tr>\n",
       "    <tr>\n",
       "      <th>485</th>\n",
       "      <td>2020-08-25</td>\n",
       "      <td>127.686362</td>\n",
       "      <td>120.380568</td>\n",
       "      <td>131.737417</td>\n",
       "      <td>123.449752</td>\n",
       "      <td>132.046035</td>\n",
       "      <td>-1.776978</td>\n",
       "      <td>-1.776978</td>\n",
       "      <td>-1.776978</td>\n",
       "      <td>-1.776978</td>\n",
       "      <td>-1.776978</td>\n",
       "      <td>-1.776978</td>\n",
       "      <td>0.0</td>\n",
       "      <td>0.0</td>\n",
       "      <td>0.0</td>\n",
       "      <td>125.909385</td>\n",
       "    </tr>\n",
       "    <tr>\n",
       "      <th>486</th>\n",
       "      <td>2020-08-26</td>\n",
       "      <td>127.771339</td>\n",
       "      <td>120.136301</td>\n",
       "      <td>132.120601</td>\n",
       "      <td>123.474115</td>\n",
       "      <td>132.155912</td>\n",
       "      <td>-1.751740</td>\n",
       "      <td>-1.751740</td>\n",
       "      <td>-1.751740</td>\n",
       "      <td>-1.751740</td>\n",
       "      <td>-1.751740</td>\n",
       "      <td>-1.751740</td>\n",
       "      <td>0.0</td>\n",
       "      <td>0.0</td>\n",
       "      <td>0.0</td>\n",
       "      <td>126.019599</td>\n",
       "    </tr>\n",
       "    <tr>\n",
       "      <th>487</th>\n",
       "      <td>2020-08-27</td>\n",
       "      <td>127.856316</td>\n",
       "      <td>119.846055</td>\n",
       "      <td>132.070406</td>\n",
       "      <td>123.532294</td>\n",
       "      <td>132.263750</td>\n",
       "      <td>-1.724012</td>\n",
       "      <td>-1.724012</td>\n",
       "      <td>-1.724012</td>\n",
       "      <td>-1.724012</td>\n",
       "      <td>-1.724012</td>\n",
       "      <td>-1.724012</td>\n",
       "      <td>0.0</td>\n",
       "      <td>0.0</td>\n",
       "      <td>0.0</td>\n",
       "      <td>126.132303</td>\n",
       "    </tr>\n",
       "    <tr>\n",
       "      <th>488</th>\n",
       "      <td>2020-08-28</td>\n",
       "      <td>127.941293</td>\n",
       "      <td>120.672087</td>\n",
       "      <td>132.115167</td>\n",
       "      <td>123.590473</td>\n",
       "      <td>132.360993</td>\n",
       "      <td>-1.693917</td>\n",
       "      <td>-1.693917</td>\n",
       "      <td>-1.693917</td>\n",
       "      <td>-1.693917</td>\n",
       "      <td>-1.693917</td>\n",
       "      <td>-1.693917</td>\n",
       "      <td>0.0</td>\n",
       "      <td>0.0</td>\n",
       "      <td>0.0</td>\n",
       "      <td>126.247376</td>\n",
       "    </tr>\n",
       "  </tbody>\n",
       "</table>\n",
       "</div>"
      ],
      "text/plain": [
       "            ds       trend  yhat_lower  yhat_upper  trend_lower  trend_upper  \\\n",
       "484 2020-08-24  127.601385  119.910810  131.593551   123.405276   131.935623   \n",
       "485 2020-08-25  127.686362  120.380568  131.737417   123.449752   132.046035   \n",
       "486 2020-08-26  127.771339  120.136301  132.120601   123.474115   132.155912   \n",
       "487 2020-08-27  127.856316  119.846055  132.070406   123.532294   132.263750   \n",
       "488 2020-08-28  127.941293  120.672087  132.115167   123.590473   132.360993   \n",
       "\n",
       "     additive_terms  additive_terms_lower  additive_terms_upper    yearly  \\\n",
       "484       -1.799596             -1.799596             -1.799596 -1.799596   \n",
       "485       -1.776978             -1.776978             -1.776978 -1.776978   \n",
       "486       -1.751740             -1.751740             -1.751740 -1.751740   \n",
       "487       -1.724012             -1.724012             -1.724012 -1.724012   \n",
       "488       -1.693917             -1.693917             -1.693917 -1.693917   \n",
       "\n",
       "     yearly_lower  yearly_upper  multiplicative_terms  \\\n",
       "484     -1.799596     -1.799596                   0.0   \n",
       "485     -1.776978     -1.776978                   0.0   \n",
       "486     -1.751740     -1.751740                   0.0   \n",
       "487     -1.724012     -1.724012                   0.0   \n",
       "488     -1.693917     -1.693917                   0.0   \n",
       "\n",
       "     multiplicative_terms_lower  multiplicative_terms_upper        yhat  \n",
       "484                         0.0                         0.0  125.801789  \n",
       "485                         0.0                         0.0  125.909385  \n",
       "486                         0.0                         0.0  126.019599  \n",
       "487                         0.0                         0.0  126.132303  \n",
       "488                         0.0                         0.0  126.247376  "
      ]
     },
     "execution_count": 39,
     "metadata": {},
     "output_type": "execute_result"
    }
   ],
   "source": [
    "forecast.tail()"
   ]
  },
  {
   "cell_type": "code",
   "execution_count": 1,
   "metadata": {},
   "outputs": [
    {
     "name": "stdout",
     "output_type": "stream",
     "text": [
      "Hilton's stocks have been impacted by Covid-19(from the date when the first case was reported in the USA) against the normal flow by\n",
      " -33.19247836536056 % as of \n",
      "09/05/2020\n"
     ]
    }
   ],
   "source": [
    "hilton_impact = (104.820000 - 156.898501)/156.898501 * 100\n",
    "print(\"Hilton's stocks have been impacted by Covid-19(from the date when the first case was reported in the USA) against the normal flow by\\n\", hilton_impact, \"% as of \\n09/05/2020\")"
   ]
  },
  {
   "cell_type": "code",
   "execution_count": null,
   "metadata": {},
   "outputs": [],
   "source": []
  }
 ],
 "metadata": {
  "kernelspec": {
   "display_name": "Python",
   "language": "python",
   "name": "conda-env-python-py"
  },
  "language_info": {
   "codemirror_mode": {
    "name": "ipython",
    "version": 3
   },
   "file_extension": ".py",
   "mimetype": "text/x-python",
   "name": "python",
   "nbconvert_exporter": "python",
   "pygments_lexer": "ipython3",
   "version": "3.6.11"
  }
 },
 "nbformat": 4,
 "nbformat_minor": 4
}
