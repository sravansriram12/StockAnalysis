{
 "cells": [
  {
   "cell_type": "code",
   "execution_count": 1,
   "metadata": {},
   "outputs": [
    {
     "name": "stdout",
     "output_type": "stream",
     "text": [
      "Requirement already satisfied: pandas in /home/jupyterlab/conda/envs/python/lib/python3.6/site-packages (1.1.1)\n",
      "Requirement already satisfied: numpy>=1.15.4 in /home/jupyterlab/conda/envs/python/lib/python3.6/site-packages (from pandas) (1.19.1)\n",
      "Requirement already satisfied: python-dateutil>=2.7.3 in /home/jupyterlab/conda/envs/python/lib/python3.6/site-packages (from pandas) (2.8.1)\n",
      "Requirement already satisfied: pytz>=2017.2 in /home/jupyterlab/conda/envs/python/lib/python3.6/site-packages (from pandas) (2020.1)\n",
      "Requirement already satisfied: six>=1.5 in /home/jupyterlab/conda/envs/python/lib/python3.6/site-packages (from python-dateutil>=2.7.3->pandas) (1.15.0)\n"
     ]
    }
   ],
   "source": [
    "!pip install pandas\n",
    "import pandas as pd"
   ]
  },
  {
   "cell_type": "code",
   "execution_count": 2,
   "metadata": {},
   "outputs": [
    {
     "name": "stdout",
     "output_type": "stream",
     "text": [
      "Collecting package metadata (current_repodata.json): done\n",
      "Solving environment: done\n",
      "\n",
      "\n",
      "==> WARNING: A newer version of conda exists. <==\n",
      "  current version: 4.8.3\n",
      "  latest version: 4.8.4\n",
      "\n",
      "Please update conda by running\n",
      "\n",
      "    $ conda update -n base -c defaults conda\n",
      "\n",
      "\n",
      "\n",
      "# All requested packages already installed.\n",
      "\n"
     ]
    }
   ],
   "source": [
    "!conda install -c conda-forge fbprophet --yes"
   ]
  },
  {
   "cell_type": "code",
   "execution_count": 3,
   "metadata": {},
   "outputs": [
    {
     "name": "stderr",
     "output_type": "stream",
     "text": [
      "Importing plotly failed. Interactive plots will not work.\n"
     ]
    }
   ],
   "source": [
    "from fbprophet import Prophet"
   ]
  },
  {
   "cell_type": "code",
   "execution_count": 4,
   "metadata": {},
   "outputs": [],
   "source": [
    "data3 = pd.read_csv(\"H (1).csv\")\n",
    "data4 = pd.read_csv(\"H.csv\")\n",
    "\n",
    "from fbprophet.plot import plot_plotly, plot_components_plotly\n",
    "\n",
    "data3=data3.rename(columns={'Date':'ds', 'Close':'y'})\n",
    "data4=data4.rename(columns={'Date':'ds', 'Close':'y'})"
   ]
  },
  {
   "cell_type": "code",
   "execution_count": 5,
   "metadata": {},
   "outputs": [
    {
     "data": {
      "text/html": [
       "<div>\n",
       "<style scoped>\n",
       "    .dataframe tbody tr th:only-of-type {\n",
       "        vertical-align: middle;\n",
       "    }\n",
       "\n",
       "    .dataframe tbody tr th {\n",
       "        vertical-align: top;\n",
       "    }\n",
       "\n",
       "    .dataframe thead th {\n",
       "        text-align: right;\n",
       "    }\n",
       "</style>\n",
       "<table border=\"1\" class=\"dataframe\">\n",
       "  <thead>\n",
       "    <tr style=\"text-align: right;\">\n",
       "      <th></th>\n",
       "      <th>ds</th>\n",
       "      <th>Open</th>\n",
       "      <th>High</th>\n",
       "      <th>Low</th>\n",
       "      <th>y</th>\n",
       "      <th>Adj Close</th>\n",
       "      <th>Volume</th>\n",
       "    </tr>\n",
       "  </thead>\n",
       "  <tbody>\n",
       "    <tr>\n",
       "      <th>0</th>\n",
       "      <td>2016-01-18</td>\n",
       "      <td>37.259998</td>\n",
       "      <td>39.840000</td>\n",
       "      <td>34.060001</td>\n",
       "      <td>38.660000</td>\n",
       "      <td>37.885616</td>\n",
       "      <td>4787700</td>\n",
       "    </tr>\n",
       "    <tr>\n",
       "      <th>1</th>\n",
       "      <td>2016-01-25</td>\n",
       "      <td>38.450001</td>\n",
       "      <td>38.900002</td>\n",
       "      <td>37.000000</td>\n",
       "      <td>38.680000</td>\n",
       "      <td>37.905216</td>\n",
       "      <td>3897700</td>\n",
       "    </tr>\n",
       "    <tr>\n",
       "      <th>2</th>\n",
       "      <td>2016-02-01</td>\n",
       "      <td>38.310001</td>\n",
       "      <td>40.549999</td>\n",
       "      <td>37.000000</td>\n",
       "      <td>39.630001</td>\n",
       "      <td>38.836185</td>\n",
       "      <td>4443400</td>\n",
       "    </tr>\n",
       "    <tr>\n",
       "      <th>3</th>\n",
       "      <td>2016-02-08</td>\n",
       "      <td>39.070000</td>\n",
       "      <td>40.580002</td>\n",
       "      <td>37.660000</td>\n",
       "      <td>39.610001</td>\n",
       "      <td>38.816589</td>\n",
       "      <td>3353500</td>\n",
       "    </tr>\n",
       "    <tr>\n",
       "      <th>4</th>\n",
       "      <td>2016-02-15</td>\n",
       "      <td>40.230000</td>\n",
       "      <td>45.650002</td>\n",
       "      <td>40.230000</td>\n",
       "      <td>45.580002</td>\n",
       "      <td>44.667011</td>\n",
       "      <td>5170500</td>\n",
       "    </tr>\n",
       "  </tbody>\n",
       "</table>\n",
       "</div>"
      ],
      "text/plain": [
       "           ds       Open       High        Low          y  Adj Close   Volume\n",
       "0  2016-01-18  37.259998  39.840000  34.060001  38.660000  37.885616  4787700\n",
       "1  2016-01-25  38.450001  38.900002  37.000000  38.680000  37.905216  3897700\n",
       "2  2016-02-01  38.310001  40.549999  37.000000  39.630001  38.836185  4443400\n",
       "3  2016-02-08  39.070000  40.580002  37.660000  39.610001  38.816589  3353500\n",
       "4  2016-02-15  40.230000  45.650002  40.230000  45.580002  44.667011  5170500"
      ]
     },
     "execution_count": 5,
     "metadata": {},
     "output_type": "execute_result"
    }
   ],
   "source": [
    "data3.head()"
   ]
  },
  {
   "cell_type": "code",
   "execution_count": 6,
   "metadata": {},
   "outputs": [
    {
     "name": "stderr",
     "output_type": "stream",
     "text": [
      "INFO:fbprophet:Disabling weekly seasonality. Run prophet with weekly_seasonality=True to override this.\n",
      "INFO:fbprophet:Disabling daily seasonality. Run prophet with daily_seasonality=True to override this.\n"
     ]
    },
    {
     "data": {
      "text/plain": [
       "<fbprophet.forecaster.Prophet at 0x7f6f32a4c588>"
      ]
     },
     "execution_count": 6,
     "metadata": {},
     "output_type": "execute_result"
    }
   ],
   "source": [
    "m4 = Prophet(yearly_seasonality = True)\n",
    "\n",
    "m4.fit(data3)"
   ]
  },
  {
   "cell_type": "code",
   "execution_count": 7,
   "metadata": {},
   "outputs": [
    {
     "data": {
      "text/html": [
       "<div>\n",
       "<style scoped>\n",
       "    .dataframe tbody tr th:only-of-type {\n",
       "        vertical-align: middle;\n",
       "    }\n",
       "\n",
       "    .dataframe tbody tr th {\n",
       "        vertical-align: top;\n",
       "    }\n",
       "\n",
       "    .dataframe thead th {\n",
       "        text-align: right;\n",
       "    }\n",
       "</style>\n",
       "<table border=\"1\" class=\"dataframe\">\n",
       "  <thead>\n",
       "    <tr style=\"text-align: right;\">\n",
       "      <th></th>\n",
       "      <th>ds</th>\n",
       "      <th>yhat</th>\n",
       "      <th>yhat_lower</th>\n",
       "      <th>yhat_upper</th>\n",
       "    </tr>\n",
       "  </thead>\n",
       "  <tbody>\n",
       "    <tr>\n",
       "      <th>432</th>\n",
       "      <td>2020-08-24</td>\n",
       "      <td>88.070831</td>\n",
       "      <td>82.314120</td>\n",
       "      <td>93.612094</td>\n",
       "    </tr>\n",
       "    <tr>\n",
       "      <th>433</th>\n",
       "      <td>2020-08-25</td>\n",
       "      <td>88.070481</td>\n",
       "      <td>82.642248</td>\n",
       "      <td>93.724036</td>\n",
       "    </tr>\n",
       "    <tr>\n",
       "      <th>434</th>\n",
       "      <td>2020-08-26</td>\n",
       "      <td>88.071971</td>\n",
       "      <td>82.553188</td>\n",
       "      <td>94.314676</td>\n",
       "    </tr>\n",
       "    <tr>\n",
       "      <th>435</th>\n",
       "      <td>2020-08-27</td>\n",
       "      <td>88.076113</td>\n",
       "      <td>82.537127</td>\n",
       "      <td>94.013006</td>\n",
       "    </tr>\n",
       "    <tr>\n",
       "      <th>436</th>\n",
       "      <td>2020-08-28</td>\n",
       "      <td>88.083732</td>\n",
       "      <td>82.164774</td>\n",
       "      <td>93.972255</td>\n",
       "    </tr>\n",
       "  </tbody>\n",
       "</table>\n",
       "</div>"
      ],
      "text/plain": [
       "            ds       yhat  yhat_lower  yhat_upper\n",
       "432 2020-08-24  88.070831   82.314120   93.612094\n",
       "433 2020-08-25  88.070481   82.642248   93.724036\n",
       "434 2020-08-26  88.071971   82.553188   94.314676\n",
       "435 2020-08-27  88.076113   82.537127   94.013006\n",
       "436 2020-08-28  88.083732   82.164774   93.972255"
      ]
     },
     "execution_count": 7,
     "metadata": {},
     "output_type": "execute_result"
    }
   ],
   "source": [
    "future = m4.make_future_dataframe(periods = 228)\n",
    "forecast = m4.predict(future)\n",
    "forecast[['ds', 'yhat', 'yhat_lower', 'yhat_upper']].tail()"
   ]
  },
  {
   "cell_type": "code",
   "execution_count": 8,
   "metadata": {},
   "outputs": [
    {
     "name": "stderr",
     "output_type": "stream",
     "text": [
      "INFO:matplotlib.category:Using categorical units to plot a list of strings that are all parsable as floats or dates. If these strings should be plotted as numbers, cast to the appropriate data type before plotting.\n",
      "INFO:matplotlib.category:Using categorical units to plot a list of strings that are all parsable as floats or dates. If these strings should be plotted as numbers, cast to the appropriate data type before plotting.\n"
     ]
    },
    {
     "data": {
      "text/plain": [
       "Text(0, 0.5, 'Close of stock')"
      ]
     },
     "execution_count": 8,
     "metadata": {},
     "output_type": "execute_result"
    },
    {
     "data": {
      "image/png": "[encoded data removed]",
      "text/plain": [
       "<Figure size 432x288 with 1 Axes>"
      ]
     },
     "metadata": {
      "needs_background": "light"
     },
     "output_type": "display_data"
    }
   ],
   "source": [
    "import matplotlib.pyplot as plt\n",
    "\n",
    "plt.plot(data4.ds,data4.y)\n",
    "plt.xlabel('01/20/2020 - 09/05/2020')\n",
    "plt.ylabel('Close of stock')"
   ]
  },
  {
   "cell_type": "code",
   "execution_count": 9,
   "metadata": {},
   "outputs": [
    {
     "data": {
      "image/png": "[encoded data removed]",
      "text/plain": [
       "<Figure size 720x432 with 1 Axes>"
      ]
     },
     "metadata": {},
     "output_type": "display_data"
    }
   ],
   "source": [
    "fig1 = m4.plot(forecast)"
   ]
  },
  {
   "cell_type": "code",
   "execution_count": 10,
   "metadata": {},
   "outputs": [
    {
     "data": {
      "text/html": [
       "<div>\n",
       "<style scoped>\n",
       "    .dataframe tbody tr th:only-of-type {\n",
       "        vertical-align: middle;\n",
       "    }\n",
       "\n",
       "    .dataframe tbody tr th {\n",
       "        vertical-align: top;\n",
       "    }\n",
       "\n",
       "    .dataframe thead th {\n",
       "        text-align: right;\n",
       "    }\n",
       "</style>\n",
       "<table border=\"1\" class=\"dataframe\">\n",
       "  <thead>\n",
       "    <tr style=\"text-align: right;\">\n",
       "      <th></th>\n",
       "      <th>ds</th>\n",
       "      <th>Open</th>\n",
       "      <th>High</th>\n",
       "      <th>Low</th>\n",
       "      <th>y</th>\n",
       "      <th>Adj Close</th>\n",
       "      <th>Volume</th>\n",
       "    </tr>\n",
       "  </thead>\n",
       "  <tbody>\n",
       "    <tr>\n",
       "      <th>29</th>\n",
       "      <td>2020-08-10</td>\n",
       "      <td>51.709999</td>\n",
       "      <td>56.990002</td>\n",
       "      <td>51.619999</td>\n",
       "      <td>56.060001</td>\n",
       "      <td>56.060001</td>\n",
       "      <td>5291100</td>\n",
       "    </tr>\n",
       "    <tr>\n",
       "      <th>30</th>\n",
       "      <td>2020-08-17</td>\n",
       "      <td>56.180000</td>\n",
       "      <td>56.209999</td>\n",
       "      <td>52.389999</td>\n",
       "      <td>54.639999</td>\n",
       "      <td>54.639999</td>\n",
       "      <td>3481900</td>\n",
       "    </tr>\n",
       "    <tr>\n",
       "      <th>31</th>\n",
       "      <td>2020-08-24</td>\n",
       "      <td>55.750000</td>\n",
       "      <td>59.299999</td>\n",
       "      <td>53.889999</td>\n",
       "      <td>59.160000</td>\n",
       "      <td>59.160000</td>\n",
       "      <td>5756800</td>\n",
       "    </tr>\n",
       "    <tr>\n",
       "      <th>32</th>\n",
       "      <td>2020-08-31</td>\n",
       "      <td>59.529999</td>\n",
       "      <td>59.980000</td>\n",
       "      <td>55.220001</td>\n",
       "      <td>58.110001</td>\n",
       "      <td>58.110001</td>\n",
       "      <td>4100500</td>\n",
       "    </tr>\n",
       "    <tr>\n",
       "      <th>33</th>\n",
       "      <td>2020-09-04</td>\n",
       "      <td>59.009998</td>\n",
       "      <td>60.560001</td>\n",
       "      <td>58.310101</td>\n",
       "      <td>59.990002</td>\n",
       "      <td>59.990002</td>\n",
       "      <td>1085698</td>\n",
       "    </tr>\n",
       "  </tbody>\n",
       "</table>\n",
       "</div>"
      ],
      "text/plain": [
       "            ds       Open       High        Low          y  Adj Close   Volume\n",
       "29  2020-08-10  51.709999  56.990002  51.619999  56.060001  56.060001  5291100\n",
       "30  2020-08-17  56.180000  56.209999  52.389999  54.639999  54.639999  3481900\n",
       "31  2020-08-24  55.750000  59.299999  53.889999  59.160000  59.160000  5756800\n",
       "32  2020-08-31  59.529999  59.980000  55.220001  58.110001  58.110001  4100500\n",
       "33  2020-09-04  59.009998  60.560001  58.310101  59.990002  59.990002  1085698"
      ]
     },
     "execution_count": 10,
     "metadata": {},
     "output_type": "execute_result"
    }
   ],
   "source": [
    "data4.tail()"
   ]
  },
  {
   "cell_type": "code",
   "execution_count": 11,
   "metadata": {},
   "outputs": [
    {
     "data": {
      "text/html": [
       "<div>\n",
       "<style scoped>\n",
       "    .dataframe tbody tr th:only-of-type {\n",
       "        vertical-align: middle;\n",
       "    }\n",
       "\n",
       "    .dataframe tbody tr th {\n",
       "        vertical-align: top;\n",
       "    }\n",
       "\n",
       "    .dataframe thead th {\n",
       "        text-align: right;\n",
       "    }\n",
       "</style>\n",
       "<table border=\"1\" class=\"dataframe\">\n",
       "  <thead>\n",
       "    <tr style=\"text-align: right;\">\n",
       "      <th></th>\n",
       "      <th>ds</th>\n",
       "      <th>trend</th>\n",
       "      <th>yhat_lower</th>\n",
       "      <th>yhat_upper</th>\n",
       "      <th>trend_lower</th>\n",
       "      <th>trend_upper</th>\n",
       "      <th>additive_terms</th>\n",
       "      <th>additive_terms_lower</th>\n",
       "      <th>additive_terms_upper</th>\n",
       "      <th>yearly</th>\n",
       "      <th>yearly_lower</th>\n",
       "      <th>yearly_upper</th>\n",
       "      <th>multiplicative_terms</th>\n",
       "      <th>multiplicative_terms_lower</th>\n",
       "      <th>multiplicative_terms_upper</th>\n",
       "      <th>yhat</th>\n",
       "    </tr>\n",
       "  </thead>\n",
       "  <tbody>\n",
       "    <tr>\n",
       "      <th>432</th>\n",
       "      <td>2020-08-24</td>\n",
       "      <td>89.113026</td>\n",
       "      <td>82.314120</td>\n",
       "      <td>93.612094</td>\n",
       "      <td>84.738317</td>\n",
       "      <td>93.664701</td>\n",
       "      <td>-1.042195</td>\n",
       "      <td>-1.042195</td>\n",
       "      <td>-1.042195</td>\n",
       "      <td>-1.042195</td>\n",
       "      <td>-1.042195</td>\n",
       "      <td>-1.042195</td>\n",
       "      <td>0.0</td>\n",
       "      <td>0.0</td>\n",
       "      <td>0.0</td>\n",
       "      <td>88.070831</td>\n",
       "    </tr>\n",
       "    <tr>\n",
       "      <th>433</th>\n",
       "      <td>2020-08-25</td>\n",
       "      <td>89.145274</td>\n",
       "      <td>82.642248</td>\n",
       "      <td>93.724036</td>\n",
       "      <td>84.751817</td>\n",
       "      <td>93.742072</td>\n",
       "      <td>-1.074792</td>\n",
       "      <td>-1.074792</td>\n",
       "      <td>-1.074792</td>\n",
       "      <td>-1.074792</td>\n",
       "      <td>-1.074792</td>\n",
       "      <td>-1.074792</td>\n",
       "      <td>0.0</td>\n",
       "      <td>0.0</td>\n",
       "      <td>0.0</td>\n",
       "      <td>88.070481</td>\n",
       "    </tr>\n",
       "    <tr>\n",
       "      <th>434</th>\n",
       "      <td>2020-08-26</td>\n",
       "      <td>89.177521</td>\n",
       "      <td>82.553188</td>\n",
       "      <td>94.314676</td>\n",
       "      <td>84.748883</td>\n",
       "      <td>93.790262</td>\n",
       "      <td>-1.105550</td>\n",
       "      <td>-1.105550</td>\n",
       "      <td>-1.105550</td>\n",
       "      <td>-1.105550</td>\n",
       "      <td>-1.105550</td>\n",
       "      <td>-1.105550</td>\n",
       "      <td>0.0</td>\n",
       "      <td>0.0</td>\n",
       "      <td>0.0</td>\n",
       "      <td>88.071971</td>\n",
       "    </tr>\n",
       "    <tr>\n",
       "      <th>435</th>\n",
       "      <td>2020-08-27</td>\n",
       "      <td>89.209769</td>\n",
       "      <td>82.537127</td>\n",
       "      <td>94.013006</td>\n",
       "      <td>84.735302</td>\n",
       "      <td>93.838453</td>\n",
       "      <td>-1.133656</td>\n",
       "      <td>-1.133656</td>\n",
       "      <td>-1.133656</td>\n",
       "      <td>-1.133656</td>\n",
       "      <td>-1.133656</td>\n",
       "      <td>-1.133656</td>\n",
       "      <td>0.0</td>\n",
       "      <td>0.0</td>\n",
       "      <td>0.0</td>\n",
       "      <td>88.076113</td>\n",
       "    </tr>\n",
       "    <tr>\n",
       "      <th>436</th>\n",
       "      <td>2020-08-28</td>\n",
       "      <td>89.242017</td>\n",
       "      <td>82.164774</td>\n",
       "      <td>93.972255</td>\n",
       "      <td>84.731622</td>\n",
       "      <td>93.884730</td>\n",
       "      <td>-1.158284</td>\n",
       "      <td>-1.158284</td>\n",
       "      <td>-1.158284</td>\n",
       "      <td>-1.158284</td>\n",
       "      <td>-1.158284</td>\n",
       "      <td>-1.158284</td>\n",
       "      <td>0.0</td>\n",
       "      <td>0.0</td>\n",
       "      <td>0.0</td>\n",
       "      <td>88.083732</td>\n",
       "    </tr>\n",
       "  </tbody>\n",
       "</table>\n",
       "</div>"
      ],
      "text/plain": [
       "            ds      trend  yhat_lower  yhat_upper  trend_lower  trend_upper  \\\n",
       "432 2020-08-24  89.113026   82.314120   93.612094    84.738317    93.664701   \n",
       "433 2020-08-25  89.145274   82.642248   93.724036    84.751817    93.742072   \n",
       "434 2020-08-26  89.177521   82.553188   94.314676    84.748883    93.790262   \n",
       "435 2020-08-27  89.209769   82.537127   94.013006    84.735302    93.838453   \n",
       "436 2020-08-28  89.242017   82.164774   93.972255    84.731622    93.884730   \n",
       "\n",
       "     additive_terms  additive_terms_lower  additive_terms_upper    yearly  \\\n",
       "432       -1.042195             -1.042195             -1.042195 -1.042195   \n",
       "433       -1.074792             -1.074792             -1.074792 -1.074792   \n",
       "434       -1.105550             -1.105550             -1.105550 -1.105550   \n",
       "435       -1.133656             -1.133656             -1.133656 -1.133656   \n",
       "436       -1.158284             -1.158284             -1.158284 -1.158284   \n",
       "\n",
       "     yearly_lower  yearly_upper  multiplicative_terms  \\\n",
       "432     -1.042195     -1.042195                   0.0   \n",
       "433     -1.074792     -1.074792                   0.0   \n",
       "434     -1.105550     -1.105550                   0.0   \n",
       "435     -1.133656     -1.133656                   0.0   \n",
       "436     -1.158284     -1.158284                   0.0   \n",
       "\n",
       "     multiplicative_terms_lower  multiplicative_terms_upper       yhat  \n",
       "432                         0.0                         0.0  88.070831  \n",
       "433                         0.0                         0.0  88.070481  \n",
       "434                         0.0                         0.0  88.071971  \n",
       "435                         0.0                         0.0  88.076113  \n",
       "436                         0.0                         0.0  88.083732  "
      ]
     },
     "execution_count": 11,
     "metadata": {},
     "output_type": "execute_result"
    }
   ],
   "source": [
    "forecast.tail()"
   ]
  },
  {
   "cell_type": "code",
   "execution_count": 14,
   "metadata": {},
   "outputs": [
    {
     "name": "stdout",
     "output_type": "stream",
     "text": [
      "Hyatt's stocks have been impacted by Covid-19(from the date when the first case was reported in the USA) against the normal flow by\n",
      " -31.894345711873335 % as of 09/05/2020\n"
     ]
    }
   ],
   "source": [
    "hyatt_impact = (59.990002 - 88.083732)/88.083732 * 100\n",
    "print(\"Hyatt's stocks have been impacted by Covid-19(from the date when the first case was reported in the USA) against the normal flow by\\n\", hyatt_impact, \"% as of 09/05/2020\")"
   ]
  },
  {
   "cell_type": "code",
   "execution_count": null,
   "metadata": {},
   "outputs": [],
   "source": []
  }
 ],
 "metadata": {
  "kernelspec": {
   "display_name": "Python",
   "language": "python",
   "name": "conda-env-python-py"
  },
  "language_info": {
   "codemirror_mode": {
    "name": "ipython",
    "version": 3
   },
   "file_extension": ".py",
   "mimetype": "text/x-python",
   "name": "python",
   "nbconvert_exporter": "python",
   "pygments_lexer": "ipython3",
   "version": "3.6.11"
  }
 },
 "nbformat": 4,
 "nbformat_minor": 4
}
