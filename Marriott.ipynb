{
 "cells": [
  {
   "cell_type": "code",
   "execution_count": 1,
   "metadata": {},
   "outputs": [
    {
     "name": "stdout",
     "output_type": "stream",
     "text": [
      "Requirement already satisfied: pandas in /home/jupyterlab/conda/envs/python/lib/python3.6/site-packages (1.1.1)\n",
      "Requirement already satisfied: python-dateutil>=2.7.3 in /home/jupyterlab/conda/envs/python/lib/python3.6/site-packages (from pandas) (2.8.1)\n",
      "Requirement already satisfied: pytz>=2017.2 in /home/jupyterlab/conda/envs/python/lib/python3.6/site-packages (from pandas) (2020.1)\n",
      "Requirement already satisfied: numpy>=1.15.4 in /home/jupyterlab/conda/envs/python/lib/python3.6/site-packages (from pandas) (1.19.1)\n",
      "Requirement already satisfied: six>=1.5 in /home/jupyterlab/conda/envs/python/lib/python3.6/site-packages (from python-dateutil>=2.7.3->pandas) (1.15.0)\n"
     ]
    }
   ],
   "source": [
    "!pip install pandas\n",
    "import pandas as pd"
   ]
  },
  {
   "cell_type": "code",
   "execution_count": 2,
   "metadata": {},
   "outputs": [
    {
     "name": "stdout",
     "output_type": "stream",
     "text": [
      "Collecting package metadata (current_repodata.json): done\n",
      "Solving environment: done\n",
      "\n",
      "\n",
      "==> WARNING: A newer version of conda exists. <==\n",
      "  current version: 4.8.3\n",
      "  latest version: 4.8.4\n",
      "\n",
      "Please update conda by running\n",
      "\n",
      "    $ conda update -n base -c defaults conda\n",
      "\n",
      "\n",
      "\n",
      "# All requested packages already installed.\n",
      "\n"
     ]
    }
   ],
   "source": [
    "!conda install -c conda-forge fbprophet --yes"
   ]
  },
  {
   "cell_type": "code",
   "execution_count": 3,
   "metadata": {},
   "outputs": [
    {
     "name": "stderr",
     "output_type": "stream",
     "text": [
      "Importing plotly failed. Interactive plots will not work.\n"
     ]
    }
   ],
   "source": [
    "from fbprophet import Prophet"
   ]
  },
  {
   "cell_type": "code",
   "execution_count": 4,
   "metadata": {},
   "outputs": [],
   "source": [
    "data3 = pd.read_csv(\"MAR (1).csv\")\n",
    "data4 = pd.read_csv(\"MAR.csv\")\n",
    "\n",
    "from fbprophet.plot import plot_plotly, plot_components_plotly\n",
    "\n",
    "data3=data3.rename(columns={'Date':'ds', 'Close':'y'})\n",
    "data4=data4.rename(columns={'Date':'ds', 'Close':'y'})"
   ]
  },
  {
   "cell_type": "code",
   "execution_count": 5,
   "metadata": {},
   "outputs": [
    {
     "data": {
      "text/html": [
       "<div>\n",
       "<style scoped>\n",
       "    .dataframe tbody tr th:only-of-type {\n",
       "        vertical-align: middle;\n",
       "    }\n",
       "\n",
       "    .dataframe tbody tr th {\n",
       "        vertical-align: top;\n",
       "    }\n",
       "\n",
       "    .dataframe thead th {\n",
       "        text-align: right;\n",
       "    }\n",
       "</style>\n",
       "<table border=\"1\" class=\"dataframe\">\n",
       "  <thead>\n",
       "    <tr style=\"text-align: right;\">\n",
       "      <th></th>\n",
       "      <th>ds</th>\n",
       "      <th>Open</th>\n",
       "      <th>High</th>\n",
       "      <th>Low</th>\n",
       "      <th>y</th>\n",
       "      <th>Adj Close</th>\n",
       "      <th>Volume</th>\n",
       "    </tr>\n",
       "  </thead>\n",
       "  <tbody>\n",
       "    <tr>\n",
       "      <th>0</th>\n",
       "      <td>2016-01-18</td>\n",
       "      <td>60.439999</td>\n",
       "      <td>63.610001</td>\n",
       "      <td>56.430000</td>\n",
       "      <td>62.459999</td>\n",
       "      <td>58.866291</td>\n",
       "      <td>24342400</td>\n",
       "    </tr>\n",
       "    <tr>\n",
       "      <th>1</th>\n",
       "      <td>2016-01-25</td>\n",
       "      <td>62.400002</td>\n",
       "      <td>62.450001</td>\n",
       "      <td>58.799999</td>\n",
       "      <td>61.279999</td>\n",
       "      <td>57.754189</td>\n",
       "      <td>18330700</td>\n",
       "    </tr>\n",
       "    <tr>\n",
       "      <th>2</th>\n",
       "      <td>2016-02-01</td>\n",
       "      <td>60.320000</td>\n",
       "      <td>61.900002</td>\n",
       "      <td>57.689999</td>\n",
       "      <td>60.009998</td>\n",
       "      <td>56.557247</td>\n",
       "      <td>19019800</td>\n",
       "    </tr>\n",
       "    <tr>\n",
       "      <th>3</th>\n",
       "      <td>2016-02-08</td>\n",
       "      <td>59.590000</td>\n",
       "      <td>63.889999</td>\n",
       "      <td>57.889999</td>\n",
       "      <td>63.799999</td>\n",
       "      <td>60.129192</td>\n",
       "      <td>22511800</td>\n",
       "    </tr>\n",
       "    <tr>\n",
       "      <th>4</th>\n",
       "      <td>2016-02-15</td>\n",
       "      <td>64.269997</td>\n",
       "      <td>67.879997</td>\n",
       "      <td>63.980000</td>\n",
       "      <td>65.709999</td>\n",
       "      <td>61.929295</td>\n",
       "      <td>21991000</td>\n",
       "    </tr>\n",
       "  </tbody>\n",
       "</table>\n",
       "</div>"
      ],
      "text/plain": [
       "           ds       Open       High        Low          y  Adj Close    Volume\n",
       "0  2016-01-18  60.439999  63.610001  56.430000  62.459999  58.866291  24342400\n",
       "1  2016-01-25  62.400002  62.450001  58.799999  61.279999  57.754189  18330700\n",
       "2  2016-02-01  60.320000  61.900002  57.689999  60.009998  56.557247  19019800\n",
       "3  2016-02-08  59.590000  63.889999  57.889999  63.799999  60.129192  22511800\n",
       "4  2016-02-15  64.269997  67.879997  63.980000  65.709999  61.929295  21991000"
      ]
     },
     "execution_count": 5,
     "metadata": {},
     "output_type": "execute_result"
    }
   ],
   "source": [
    "data3.head()"
   ]
  },
  {
   "cell_type": "code",
   "execution_count": 6,
   "metadata": {},
   "outputs": [
    {
     "name": "stderr",
     "output_type": "stream",
     "text": [
      "INFO:fbprophet:Disabling weekly seasonality. Run prophet with weekly_seasonality=True to override this.\n",
      "INFO:fbprophet:Disabling daily seasonality. Run prophet with daily_seasonality=True to override this.\n"
     ]
    },
    {
     "data": {
      "text/plain": [
       "<fbprophet.forecaster.Prophet at 0x7f81bea5c860>"
      ]
     },
     "execution_count": 6,
     "metadata": {},
     "output_type": "execute_result"
    }
   ],
   "source": [
    "m4 = Prophet(yearly_seasonality = True)\n",
    "\n",
    "m4.fit(data3)"
   ]
  },
  {
   "cell_type": "code",
   "execution_count": 7,
   "metadata": {},
   "outputs": [
    {
     "data": {
      "text/html": [
       "<div>\n",
       "<style scoped>\n",
       "    .dataframe tbody tr th:only-of-type {\n",
       "        vertical-align: middle;\n",
       "    }\n",
       "\n",
       "    .dataframe tbody tr th {\n",
       "        vertical-align: top;\n",
       "    }\n",
       "\n",
       "    .dataframe thead th {\n",
       "        text-align: right;\n",
       "    }\n",
       "</style>\n",
       "<table border=\"1\" class=\"dataframe\">\n",
       "  <thead>\n",
       "    <tr style=\"text-align: right;\">\n",
       "      <th></th>\n",
       "      <th>ds</th>\n",
       "      <th>yhat</th>\n",
       "      <th>yhat_lower</th>\n",
       "      <th>yhat_upper</th>\n",
       "    </tr>\n",
       "  </thead>\n",
       "  <tbody>\n",
       "    <tr>\n",
       "      <th>432</th>\n",
       "      <td>2020-08-24</td>\n",
       "      <td>156.207447</td>\n",
       "      <td>147.031823</td>\n",
       "      <td>165.642119</td>\n",
       "    </tr>\n",
       "    <tr>\n",
       "      <th>433</th>\n",
       "      <td>2020-08-25</td>\n",
       "      <td>156.376707</td>\n",
       "      <td>146.382428</td>\n",
       "      <td>166.161064</td>\n",
       "    </tr>\n",
       "    <tr>\n",
       "      <th>434</th>\n",
       "      <td>2020-08-26</td>\n",
       "      <td>156.549548</td>\n",
       "      <td>147.117652</td>\n",
       "      <td>166.129735</td>\n",
       "    </tr>\n",
       "    <tr>\n",
       "      <th>435</th>\n",
       "      <td>2020-08-27</td>\n",
       "      <td>156.724059</td>\n",
       "      <td>146.791281</td>\n",
       "      <td>166.068546</td>\n",
       "    </tr>\n",
       "    <tr>\n",
       "      <th>436</th>\n",
       "      <td>2020-08-28</td>\n",
       "      <td>156.898501</td>\n",
       "      <td>147.554674</td>\n",
       "      <td>166.729455</td>\n",
       "    </tr>\n",
       "  </tbody>\n",
       "</table>\n",
       "</div>"
      ],
      "text/plain": [
       "            ds        yhat  yhat_lower  yhat_upper\n",
       "432 2020-08-24  156.207447  147.031823  165.642119\n",
       "433 2020-08-25  156.376707  146.382428  166.161064\n",
       "434 2020-08-26  156.549548  147.117652  166.129735\n",
       "435 2020-08-27  156.724059  146.791281  166.068546\n",
       "436 2020-08-28  156.898501  147.554674  166.729455"
      ]
     },
     "execution_count": 7,
     "metadata": {},
     "output_type": "execute_result"
    }
   ],
   "source": [
    "future = m4.make_future_dataframe(periods = 228)\n",
    "forecast = m4.predict(future)\n",
    "forecast[['ds', 'yhat', 'yhat_lower', 'yhat_upper']].tail()"
   ]
  },
  {
   "cell_type": "code",
   "execution_count": 8,
   "metadata": {},
   "outputs": [
    {
     "name": "stderr",
     "output_type": "stream",
     "text": [
      "INFO:matplotlib.category:Using categorical units to plot a list of strings that are all parsable as floats or dates. If these strings should be plotted as numbers, cast to the appropriate data type before plotting.\n",
      "INFO:matplotlib.category:Using categorical units to plot a list of strings that are all parsable as floats or dates. If these strings should be plotted as numbers, cast to the appropriate data type before plotting.\n"
     ]
    },
    {
     "data": {
      "text/plain": [
       "Text(0, 0.5, 'Close of stock')"
      ]
     },
     "execution_count": 8,
     "metadata": {},
     "output_type": "execute_result"
    },
    {
     "data": {
      "image/png": "[encoded data removed]",
      "text/plain": [
       "<Figure size 432x288 with 1 Axes>"
      ]
     },
     "metadata": {
      "needs_background": "light"
     },
     "output_type": "display_data"
    }
   ],
   "source": [
    "import matplotlib.pyplot as plt\n",
    "\n",
    "plt.plot(data4.ds,data4.y)\n",
    "plt.xlabel('01/20/2020 - 09/05/2020')\n",
    "plt.ylabel('Close of stock')"
   ]
  },
  {
   "cell_type": "code",
   "execution_count": 9,
   "metadata": {},
   "outputs": [
    {
     "data": {
      "image/png": "[encoded data removed]",
      "text/plain": [
       "<Figure size 720x432 with 1 Axes>"
      ]
     },
     "metadata": {},
     "output_type": "display_data"
    }
   ],
   "source": [
    "fig1 = m4.plot(forecast)"
   ]
  },
  {
   "cell_type": "code",
   "execution_count": 10,
   "metadata": {},
   "outputs": [
    {
     "data": {
      "text/html": [
       "<div>\n",
       "<style scoped>\n",
       "    .dataframe tbody tr th:only-of-type {\n",
       "        vertical-align: middle;\n",
       "    }\n",
       "\n",
       "    .dataframe tbody tr th {\n",
       "        vertical-align: top;\n",
       "    }\n",
       "\n",
       "    .dataframe thead th {\n",
       "        text-align: right;\n",
       "    }\n",
       "</style>\n",
       "<table border=\"1\" class=\"dataframe\">\n",
       "  <thead>\n",
       "    <tr style=\"text-align: right;\">\n",
       "      <th></th>\n",
       "      <th>ds</th>\n",
       "      <th>Open</th>\n",
       "      <th>High</th>\n",
       "      <th>Low</th>\n",
       "      <th>y</th>\n",
       "      <th>Adj Close</th>\n",
       "      <th>Volume</th>\n",
       "    </tr>\n",
       "  </thead>\n",
       "  <tbody>\n",
       "    <tr>\n",
       "      <th>29</th>\n",
       "      <td>2020-08-10</td>\n",
       "      <td>94.250000</td>\n",
       "      <td>101.620003</td>\n",
       "      <td>93.300003</td>\n",
       "      <td>96.010002</td>\n",
       "      <td>96.010002</td>\n",
       "      <td>20632500</td>\n",
       "    </tr>\n",
       "    <tr>\n",
       "      <th>30</th>\n",
       "      <td>2020-08-17</td>\n",
       "      <td>97.220001</td>\n",
       "      <td>97.500000</td>\n",
       "      <td>92.070000</td>\n",
       "      <td>95.269997</td>\n",
       "      <td>95.269997</td>\n",
       "      <td>9660400</td>\n",
       "    </tr>\n",
       "    <tr>\n",
       "      <th>31</th>\n",
       "      <td>2020-08-24</td>\n",
       "      <td>96.010002</td>\n",
       "      <td>106.610001</td>\n",
       "      <td>95.000000</td>\n",
       "      <td>106.260002</td>\n",
       "      <td>106.260002</td>\n",
       "      <td>14770600</td>\n",
       "    </tr>\n",
       "    <tr>\n",
       "      <th>32</th>\n",
       "      <td>2020-08-31</td>\n",
       "      <td>105.250000</td>\n",
       "      <td>107.900002</td>\n",
       "      <td>100.760002</td>\n",
       "      <td>103.089996</td>\n",
       "      <td>103.089996</td>\n",
       "      <td>9853100</td>\n",
       "    </tr>\n",
       "    <tr>\n",
       "      <th>33</th>\n",
       "      <td>2020-09-04</td>\n",
       "      <td>104.889999</td>\n",
       "      <td>107.040001</td>\n",
       "      <td>103.239998</td>\n",
       "      <td>104.820000</td>\n",
       "      <td>104.820000</td>\n",
       "      <td>2701155</td>\n",
       "    </tr>\n",
       "  </tbody>\n",
       "</table>\n",
       "</div>"
      ],
      "text/plain": [
       "            ds        Open        High         Low           y   Adj Close  \\\n",
       "29  2020-08-10   94.250000  101.620003   93.300003   96.010002   96.010002   \n",
       "30  2020-08-17   97.220001   97.500000   92.070000   95.269997   95.269997   \n",
       "31  2020-08-24   96.010002  106.610001   95.000000  106.260002  106.260002   \n",
       "32  2020-08-31  105.250000  107.900002  100.760002  103.089996  103.089996   \n",
       "33  2020-09-04  104.889999  107.040001  103.239998  104.820000  104.820000   \n",
       "\n",
       "      Volume  \n",
       "29  20632500  \n",
       "30   9660400  \n",
       "31  14770600  \n",
       "32   9853100  \n",
       "33   2701155  "
      ]
     },
     "execution_count": 10,
     "metadata": {},
     "output_type": "execute_result"
    }
   ],
   "source": [
    "data4.tail()"
   ]
  },
  {
   "cell_type": "code",
   "execution_count": 11,
   "metadata": {},
   "outputs": [
    {
     "data": {
      "text/html": [
       "<div>\n",
       "<style scoped>\n",
       "    .dataframe tbody tr th:only-of-type {\n",
       "        vertical-align: middle;\n",
       "    }\n",
       "\n",
       "    .dataframe tbody tr th {\n",
       "        vertical-align: top;\n",
       "    }\n",
       "\n",
       "    .dataframe thead th {\n",
       "        text-align: right;\n",
       "    }\n",
       "</style>\n",
       "<table border=\"1\" class=\"dataframe\">\n",
       "  <thead>\n",
       "    <tr style=\"text-align: right;\">\n",
       "      <th></th>\n",
       "      <th>ds</th>\n",
       "      <th>trend</th>\n",
       "      <th>yhat_lower</th>\n",
       "      <th>yhat_upper</th>\n",
       "      <th>trend_lower</th>\n",
       "      <th>trend_upper</th>\n",
       "      <th>additive_terms</th>\n",
       "      <th>additive_terms_lower</th>\n",
       "      <th>additive_terms_upper</th>\n",
       "      <th>yearly</th>\n",
       "      <th>yearly_lower</th>\n",
       "      <th>yearly_upper</th>\n",
       "      <th>multiplicative_terms</th>\n",
       "      <th>multiplicative_terms_lower</th>\n",
       "      <th>multiplicative_terms_upper</th>\n",
       "      <th>yhat</th>\n",
       "    </tr>\n",
       "  </thead>\n",
       "  <tbody>\n",
       "    <tr>\n",
       "      <th>432</th>\n",
       "      <td>2020-08-24</td>\n",
       "      <td>161.326132</td>\n",
       "      <td>147.031823</td>\n",
       "      <td>165.642119</td>\n",
       "      <td>154.016462</td>\n",
       "      <td>168.208021</td>\n",
       "      <td>-5.118685</td>\n",
       "      <td>-5.118685</td>\n",
       "      <td>-5.118685</td>\n",
       "      <td>-5.118685</td>\n",
       "      <td>-5.118685</td>\n",
       "      <td>-5.118685</td>\n",
       "      <td>0.0</td>\n",
       "      <td>0.0</td>\n",
       "      <td>0.0</td>\n",
       "      <td>156.207447</td>\n",
       "    </tr>\n",
       "    <tr>\n",
       "      <th>433</th>\n",
       "      <td>2020-08-25</td>\n",
       "      <td>161.399501</td>\n",
       "      <td>146.382428</td>\n",
       "      <td>166.161064</td>\n",
       "      <td>154.041977</td>\n",
       "      <td>168.324047</td>\n",
       "      <td>-5.022794</td>\n",
       "      <td>-5.022794</td>\n",
       "      <td>-5.022794</td>\n",
       "      <td>-5.022794</td>\n",
       "      <td>-5.022794</td>\n",
       "      <td>-5.022794</td>\n",
       "      <td>0.0</td>\n",
       "      <td>0.0</td>\n",
       "      <td>0.0</td>\n",
       "      <td>156.376707</td>\n",
       "    </tr>\n",
       "    <tr>\n",
       "      <th>434</th>\n",
       "      <td>2020-08-26</td>\n",
       "      <td>161.472869</td>\n",
       "      <td>147.117652</td>\n",
       "      <td>166.129735</td>\n",
       "      <td>154.055551</td>\n",
       "      <td>168.455360</td>\n",
       "      <td>-4.923322</td>\n",
       "      <td>-4.923322</td>\n",
       "      <td>-4.923322</td>\n",
       "      <td>-4.923322</td>\n",
       "      <td>-4.923322</td>\n",
       "      <td>-4.923322</td>\n",
       "      <td>0.0</td>\n",
       "      <td>0.0</td>\n",
       "      <td>0.0</td>\n",
       "      <td>156.549548</td>\n",
       "    </tr>\n",
       "    <tr>\n",
       "      <th>435</th>\n",
       "      <td>2020-08-27</td>\n",
       "      <td>161.546238</td>\n",
       "      <td>146.791281</td>\n",
       "      <td>166.068546</td>\n",
       "      <td>154.082199</td>\n",
       "      <td>168.601978</td>\n",
       "      <td>-4.822179</td>\n",
       "      <td>-4.822179</td>\n",
       "      <td>-4.822179</td>\n",
       "      <td>-4.822179</td>\n",
       "      <td>-4.822179</td>\n",
       "      <td>-4.822179</td>\n",
       "      <td>0.0</td>\n",
       "      <td>0.0</td>\n",
       "      <td>0.0</td>\n",
       "      <td>156.724059</td>\n",
       "    </tr>\n",
       "    <tr>\n",
       "      <th>436</th>\n",
       "      <td>2020-08-28</td>\n",
       "      <td>161.619606</td>\n",
       "      <td>147.554674</td>\n",
       "      <td>166.729455</td>\n",
       "      <td>154.117606</td>\n",
       "      <td>168.748597</td>\n",
       "      <td>-4.721106</td>\n",
       "      <td>-4.721106</td>\n",
       "      <td>-4.721106</td>\n",
       "      <td>-4.721106</td>\n",
       "      <td>-4.721106</td>\n",
       "      <td>-4.721106</td>\n",
       "      <td>0.0</td>\n",
       "      <td>0.0</td>\n",
       "      <td>0.0</td>\n",
       "      <td>156.898501</td>\n",
       "    </tr>\n",
       "  </tbody>\n",
       "</table>\n",
       "</div>"
      ],
      "text/plain": [
       "            ds       trend  yhat_lower  yhat_upper  trend_lower  trend_upper  \\\n",
       "432 2020-08-24  161.326132  147.031823  165.642119   154.016462   168.208021   \n",
       "433 2020-08-25  161.399501  146.382428  166.161064   154.041977   168.324047   \n",
       "434 2020-08-26  161.472869  147.117652  166.129735   154.055551   168.455360   \n",
       "435 2020-08-27  161.546238  146.791281  166.068546   154.082199   168.601978   \n",
       "436 2020-08-28  161.619606  147.554674  166.729455   154.117606   168.748597   \n",
       "\n",
       "     additive_terms  additive_terms_lower  additive_terms_upper    yearly  \\\n",
       "432       -5.118685             -5.118685             -5.118685 -5.118685   \n",
       "433       -5.022794             -5.022794             -5.022794 -5.022794   \n",
       "434       -4.923322             -4.923322             -4.923322 -4.923322   \n",
       "435       -4.822179             -4.822179             -4.822179 -4.822179   \n",
       "436       -4.721106             -4.721106             -4.721106 -4.721106   \n",
       "\n",
       "     yearly_lower  yearly_upper  multiplicative_terms  \\\n",
       "432     -5.118685     -5.118685                   0.0   \n",
       "433     -5.022794     -5.022794                   0.0   \n",
       "434     -4.923322     -4.923322                   0.0   \n",
       "435     -4.822179     -4.822179                   0.0   \n",
       "436     -4.721106     -4.721106                   0.0   \n",
       "\n",
       "     multiplicative_terms_lower  multiplicative_terms_upper        yhat  \n",
       "432                         0.0                         0.0  156.207447  \n",
       "433                         0.0                         0.0  156.376707  \n",
       "434                         0.0                         0.0  156.549548  \n",
       "435                         0.0                         0.0  156.724059  \n",
       "436                         0.0                         0.0  156.898501  "
      ]
     },
     "execution_count": 11,
     "metadata": {},
     "output_type": "execute_result"
    }
   ],
   "source": [
    "forecast.tail()"
   ]
  },
  {
   "cell_type": "code",
   "execution_count": 1,
   "metadata": {},
   "outputs": [
    {
     "name": "stdout",
     "output_type": "stream",
     "text": [
      "Marriott's stocks have been impacted by Covid-19(from the date when the first case was reported in the USA) against the normal flow by\n",
      " -33.19247836536056 % as of \n",
      "09/05/2020\n"
     ]
    }
   ],
   "source": [
    "marriott_impact = (104.820000 - 156.898501)/156.898501 * 100\n",
    "print(\"Marriott's stocks have been impacted by Covid-19(from the date when the first case was reported in the USA) against the normal flow by\\n\", marriott_impact, \"% as of \\n09/05/2020\")"
   ]
  },
  {
   "cell_type": "code",
   "execution_count": null,
   "metadata": {},
   "outputs": [],
   "source": []
  }
 ],
 "metadata": {
  "kernelspec": {
   "display_name": "Python",
   "language": "python",
   "name": "conda-env-python-py"
  },
  "language_info": {
   "codemirror_mode": {
    "name": "ipython",
    "version": 3
   },
   "file_extension": ".py",
   "mimetype": "text/x-python",
   "name": "python",
   "nbconvert_exporter": "python",
   "pygments_lexer": "ipython3",
   "version": "3.6.11"
  }
 },
 "nbformat": 4,
 "nbformat_minor": 4
}
