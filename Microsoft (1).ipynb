{
 "cells": [
  {
   "cell_type": "code",
   "execution_count": 82,
   "metadata": {},
   "outputs": [
    {
     "name": "stdout",
     "output_type": "stream",
     "text": [
      "Requirement already satisfied: pandas in /home/jupyterlab/conda/envs/python/lib/python3.6/site-packages (1.1.1)\n",
      "Requirement already satisfied: python-dateutil>=2.7.3 in /home/jupyterlab/conda/envs/python/lib/python3.6/site-packages (from pandas) (2.8.1)\n",
      "Requirement already satisfied: pytz>=2017.2 in /home/jupyterlab/conda/envs/python/lib/python3.6/site-packages (from pandas) (2020.1)\n",
      "Requirement already satisfied: numpy>=1.15.4 in /home/jupyterlab/conda/envs/python/lib/python3.6/site-packages (from pandas) (1.19.1)\n",
      "Requirement already satisfied: six>=1.5 in /home/jupyterlab/conda/envs/python/lib/python3.6/site-packages (from python-dateutil>=2.7.3->pandas) (1.15.0)\n"
     ]
    }
   ],
   "source": [
    "!pip install pandas\n",
    "\n",
    "import pandas as pd"
   ]
  },
  {
   "cell_type": "code",
   "execution_count": 90,
   "metadata": {},
   "outputs": [
    {
     "name": "stdout",
     "output_type": "stream",
     "text": [
      "Collecting package metadata (current_repodata.json): done\n",
      "Solving environment: done\n",
      "\n",
      "\n",
      "==> WARNING: A newer version of conda exists. <==\n",
      "  current version: 4.8.3\n",
      "  latest version: 4.8.4\n",
      "\n",
      "Please update conda by running\n",
      "\n",
      "    $ conda update -n base -c defaults conda\n",
      "\n",
      "\n",
      "\n",
      "# All requested packages already installed.\n",
      "\n"
     ]
    }
   ],
   "source": [
    "  \n",
    "  !conda install -c conda-forge fbprophet --yes\n",
    " \n"
   ]
  },
  {
   "cell_type": "code",
   "execution_count": 107,
   "metadata": {},
   "outputs": [],
   "source": [
    "from fbprophet import Prophet\n"
   ]
  },
  {
   "cell_type": "code",
   "execution_count": 139,
   "metadata": {},
   "outputs": [],
   "source": [
    "data = pd.read_csv(\"MSFT (2).csv\")      #predictive model file, data taken from 01/20/2016 - 01/20/2020\n",
    "data2 = pd.read_csv(\"MSFT (3).csv\")     #actual model file, data taken from 01/20/2020 - 09/05/2020\n",
    "\n",
    "from fbprophet.plot import plot_plotly, plot_components_plotly\n",
    "\n",
    "data=data.rename(columns={'Date':'ds', 'Close':'y'})\n",
    "data2=data2.rename(columns={'Date':'ds', 'Close':'y'})"
   ]
  },
  {
   "cell_type": "code",
   "execution_count": 140,
   "metadata": {},
   "outputs": [
    {
     "data": {
      "text/html": [
       "<div>\n",
       "<style scoped>\n",
       "    .dataframe tbody tr th:only-of-type {\n",
       "        vertical-align: middle;\n",
       "    }\n",
       "\n",
       "    .dataframe tbody tr th {\n",
       "        vertical-align: top;\n",
       "    }\n",
       "\n",
       "    .dataframe thead th {\n",
       "        text-align: right;\n",
       "    }\n",
       "</style>\n",
       "<table border=\"1\" class=\"dataframe\">\n",
       "  <thead>\n",
       "    <tr style=\"text-align: right;\">\n",
       "      <th></th>\n",
       "      <th>ds</th>\n",
       "      <th>Open</th>\n",
       "      <th>High</th>\n",
       "      <th>Low</th>\n",
       "      <th>y</th>\n",
       "      <th>Adj Close</th>\n",
       "      <th>Volume</th>\n",
       "    </tr>\n",
       "  </thead>\n",
       "  <tbody>\n",
       "    <tr>\n",
       "      <th>0</th>\n",
       "      <td>2016-01-18</td>\n",
       "      <td>51.480000</td>\n",
       "      <td>52.330002</td>\n",
       "      <td>49.099998</td>\n",
       "      <td>52.290001</td>\n",
       "      <td>47.841209</td>\n",
       "      <td>184584500</td>\n",
       "    </tr>\n",
       "    <tr>\n",
       "      <th>1</th>\n",
       "      <td>2016-01-25</td>\n",
       "      <td>51.939999</td>\n",
       "      <td>55.090000</td>\n",
       "      <td>51.020000</td>\n",
       "      <td>55.090000</td>\n",
       "      <td>50.402992</td>\n",
       "      <td>246509200</td>\n",
       "    </tr>\n",
       "    <tr>\n",
       "      <th>2</th>\n",
       "      <td>2016-02-01</td>\n",
       "      <td>54.880001</td>\n",
       "      <td>55.090000</td>\n",
       "      <td>49.560001</td>\n",
       "      <td>50.160000</td>\n",
       "      <td>45.892437</td>\n",
       "      <td>267078200</td>\n",
       "    </tr>\n",
       "    <tr>\n",
       "      <th>3</th>\n",
       "      <td>2016-02-08</td>\n",
       "      <td>49.549999</td>\n",
       "      <td>50.680000</td>\n",
       "      <td>48.189999</td>\n",
       "      <td>50.500000</td>\n",
       "      <td>46.203510</td>\n",
       "      <td>227389900</td>\n",
       "    </tr>\n",
       "    <tr>\n",
       "      <th>4</th>\n",
       "      <td>2016-02-15</td>\n",
       "      <td>50.900002</td>\n",
       "      <td>52.950001</td>\n",
       "      <td>50.130001</td>\n",
       "      <td>51.820000</td>\n",
       "      <td>47.411190</td>\n",
       "      <td>138815300</td>\n",
       "    </tr>\n",
       "  </tbody>\n",
       "</table>\n",
       "</div>"
      ],
      "text/plain": [
       "           ds       Open       High        Low          y  Adj Close  \\\n",
       "0  2016-01-18  51.480000  52.330002  49.099998  52.290001  47.841209   \n",
       "1  2016-01-25  51.939999  55.090000  51.020000  55.090000  50.402992   \n",
       "2  2016-02-01  54.880001  55.090000  49.560001  50.160000  45.892437   \n",
       "3  2016-02-08  49.549999  50.680000  48.189999  50.500000  46.203510   \n",
       "4  2016-02-15  50.900002  52.950001  50.130001  51.820000  47.411190   \n",
       "\n",
       "      Volume  \n",
       "0  184584500  \n",
       "1  246509200  \n",
       "2  267078200  \n",
       "3  227389900  \n",
       "4  138815300  "
      ]
     },
     "execution_count": 140,
     "metadata": {},
     "output_type": "execute_result"
    }
   ],
   "source": [
    "\n",
    "data.head()\n"
   ]
  },
  {
   "cell_type": "code",
   "execution_count": 166,
   "metadata": {},
   "outputs": [
    {
     "name": "stderr",
     "output_type": "stream",
     "text": [
      "INFO:fbprophet:Disabling weekly seasonality. Run prophet with weekly_seasonality=True to override this.\n",
      "INFO:fbprophet:Disabling daily seasonality. Run prophet with daily_seasonality=True to override this.\n"
     ]
    },
    {
     "data": {
      "text/plain": [
       "<fbprophet.forecaster.Prophet at 0x7f0fc753edd8>"
      ]
     },
     "execution_count": 166,
     "metadata": {},
     "output_type": "execute_result"
    }
   ],
   "source": [
    "m = Prophet(yearly_seasonality = True)\n",
    "m.fit(data)\n"
   ]
  },
  {
   "cell_type": "code",
   "execution_count": 167,
   "metadata": {},
   "outputs": [
    {
     "data": {
      "text/html": [
       "<div>\n",
       "<style scoped>\n",
       "    .dataframe tbody tr th:only-of-type {\n",
       "        vertical-align: middle;\n",
       "    }\n",
       "\n",
       "    .dataframe tbody tr th {\n",
       "        vertical-align: top;\n",
       "    }\n",
       "\n",
       "    .dataframe thead th {\n",
       "        text-align: right;\n",
       "    }\n",
       "</style>\n",
       "<table border=\"1\" class=\"dataframe\">\n",
       "  <thead>\n",
       "    <tr style=\"text-align: right;\">\n",
       "      <th></th>\n",
       "      <th>ds</th>\n",
       "      <th>yhat</th>\n",
       "      <th>yhat_lower</th>\n",
       "      <th>yhat_upper</th>\n",
       "    </tr>\n",
       "  </thead>\n",
       "  <tbody>\n",
       "    <tr>\n",
       "      <th>432</th>\n",
       "      <td>2020-08-24</td>\n",
       "      <td>190.030379</td>\n",
       "      <td>184.117885</td>\n",
       "      <td>195.912257</td>\n",
       "    </tr>\n",
       "    <tr>\n",
       "      <th>433</th>\n",
       "      <td>2020-08-25</td>\n",
       "      <td>190.168876</td>\n",
       "      <td>184.436895</td>\n",
       "      <td>196.093299</td>\n",
       "    </tr>\n",
       "    <tr>\n",
       "      <th>434</th>\n",
       "      <td>2020-08-26</td>\n",
       "      <td>190.306390</td>\n",
       "      <td>184.228997</td>\n",
       "      <td>196.199505</td>\n",
       "    </tr>\n",
       "    <tr>\n",
       "      <th>435</th>\n",
       "      <td>2020-08-27</td>\n",
       "      <td>190.442924</td>\n",
       "      <td>184.417019</td>\n",
       "      <td>196.424777</td>\n",
       "    </tr>\n",
       "    <tr>\n",
       "      <th>436</th>\n",
       "      <td>2020-08-28</td>\n",
       "      <td>190.578623</td>\n",
       "      <td>184.666990</td>\n",
       "      <td>196.405632</td>\n",
       "    </tr>\n",
       "  </tbody>\n",
       "</table>\n",
       "</div>"
      ],
      "text/plain": [
       "            ds        yhat  yhat_lower  yhat_upper\n",
       "432 2020-08-24  190.030379  184.117885  195.912257\n",
       "433 2020-08-25  190.168876  184.436895  196.093299\n",
       "434 2020-08-26  190.306390  184.228997  196.199505\n",
       "435 2020-08-27  190.442924  184.417019  196.424777\n",
       "436 2020-08-28  190.578623  184.666990  196.405632"
      ]
     },
     "execution_count": 167,
     "metadata": {},
     "output_type": "execute_result"
    }
   ],
   "source": [
    "future = m.make_future_dataframe(periods = 228)\n",
    "forecast = m.predict(future)\n",
    "forecast[['ds', 'yhat', 'yhat_lower', 'yhat_upper']].tail()\n",
    "\n"
   ]
  },
  {
   "cell_type": "code",
   "execution_count": 168,
   "metadata": {},
   "outputs": [
    {
     "name": "stderr",
     "output_type": "stream",
     "text": [
      "INFO:matplotlib.category:Using categorical units to plot a list of strings that are all parsable as floats or dates. If these strings should be plotted as numbers, cast to the appropriate data type before plotting.\n",
      "INFO:matplotlib.category:Using categorical units to plot a list of strings that are all parsable as floats or dates. If these strings should be plotted as numbers, cast to the appropriate data type before plotting.\n"
     ]
    },
    {
     "data": {
      "text/plain": [
       "Text(0, 0.5, 'Close of stock')"
      ]
     },
     "execution_count": 168,
     "metadata": {},
     "output_type": "execute_result"
    },
    {
     "data": {
      "image/png": "[encoded data removed]",
      "text/plain": [
       "<Figure size 432x288 with 1 Axes>"
      ]
     },
     "metadata": {
      "needs_background": "light"
     },
     "output_type": "display_data"
    }
   ],
   "source": [
    "#plots actual stock values from the day, the first case of coronavirus was reported in the US.\n",
    "import matplotlib.pyplot as plt\n",
    "\n",
    "plt.plot(data2.ds,data2.y)\n",
    "plt.xlabel('01/20/2020 - 09/05/2020')\n",
    "plt.ylabel('Close of stock')"
   ]
  },
  {
   "cell_type": "code",
   "execution_count": 169,
   "metadata": {},
   "outputs": [
    {
     "data": {
      "image/png": "[encoded data removed]",
      "text/plain": [
       "<Figure size 720x432 with 1 Axes>"
      ]
     },
     "metadata": {},
     "output_type": "display_data"
    }
   ],
   "source": [
    "#predictive model graped (shows how it predicts stock values up till 5th september 2020, if we were to graph this hypothetically on 20th Jan 2020.)\n",
    "fig1 = m.plot(forecast)\n"
   ]
  },
  {
   "cell_type": "code",
   "execution_count": 170,
   "metadata": {},
   "outputs": [
    {
     "data": {
      "text/html": [
       "<div>\n",
       "<style scoped>\n",
       "    .dataframe tbody tr th:only-of-type {\n",
       "        vertical-align: middle;\n",
       "    }\n",
       "\n",
       "    .dataframe tbody tr th {\n",
       "        vertical-align: top;\n",
       "    }\n",
       "\n",
       "    .dataframe thead th {\n",
       "        text-align: right;\n",
       "    }\n",
       "</style>\n",
       "<table border=\"1\" class=\"dataframe\">\n",
       "  <thead>\n",
       "    <tr style=\"text-align: right;\">\n",
       "      <th></th>\n",
       "      <th>ds</th>\n",
       "      <th>Open</th>\n",
       "      <th>High</th>\n",
       "      <th>Low</th>\n",
       "      <th>y</th>\n",
       "      <th>Adj Close</th>\n",
       "      <th>Volume</th>\n",
       "    </tr>\n",
       "  </thead>\n",
       "  <tbody>\n",
       "    <tr>\n",
       "      <th>29</th>\n",
       "      <td>2020-08-10</td>\n",
       "      <td>211.669998</td>\n",
       "      <td>211.880005</td>\n",
       "      <td>203.139999</td>\n",
       "      <td>208.899994</td>\n",
       "      <td>208.396240</td>\n",
       "      <td>141752200</td>\n",
       "    </tr>\n",
       "    <tr>\n",
       "      <th>30</th>\n",
       "      <td>2020-08-17</td>\n",
       "      <td>209.600006</td>\n",
       "      <td>216.250000</td>\n",
       "      <td>208.910004</td>\n",
       "      <td>213.020004</td>\n",
       "      <td>212.506317</td>\n",
       "      <td>132379400</td>\n",
       "    </tr>\n",
       "    <tr>\n",
       "      <th>31</th>\n",
       "      <td>2020-08-24</td>\n",
       "      <td>214.789993</td>\n",
       "      <td>231.149994</td>\n",
       "      <td>212.429993</td>\n",
       "      <td>228.910004</td>\n",
       "      <td>228.910004</td>\n",
       "      <td>171999700</td>\n",
       "    </tr>\n",
       "    <tr>\n",
       "      <th>32</th>\n",
       "      <td>2020-08-31</td>\n",
       "      <td>227.000000</td>\n",
       "      <td>232.860001</td>\n",
       "      <td>214.960007</td>\n",
       "      <td>217.300003</td>\n",
       "      <td>217.300003</td>\n",
       "      <td>146795100</td>\n",
       "    </tr>\n",
       "    <tr>\n",
       "      <th>33</th>\n",
       "      <td>2020-09-04</td>\n",
       "      <td>215.100006</td>\n",
       "      <td>218.359894</td>\n",
       "      <td>205.190002</td>\n",
       "      <td>214.250000</td>\n",
       "      <td>214.250000</td>\n",
       "      <td>56783337</td>\n",
       "    </tr>\n",
       "  </tbody>\n",
       "</table>\n",
       "</div>"
      ],
      "text/plain": [
       "            ds        Open        High         Low           y   Adj Close  \\\n",
       "29  2020-08-10  211.669998  211.880005  203.139999  208.899994  208.396240   \n",
       "30  2020-08-17  209.600006  216.250000  208.910004  213.020004  212.506317   \n",
       "31  2020-08-24  214.789993  231.149994  212.429993  228.910004  228.910004   \n",
       "32  2020-08-31  227.000000  232.860001  214.960007  217.300003  217.300003   \n",
       "33  2020-09-04  215.100006  218.359894  205.190002  214.250000  214.250000   \n",
       "\n",
       "       Volume  \n",
       "29  141752200  \n",
       "30  132379400  \n",
       "31  171999700  \n",
       "32  146795100  \n",
       "33   56783337  "
      ]
     },
     "execution_count": 170,
     "metadata": {},
     "output_type": "execute_result"
    }
   ],
   "source": [
    "data2.tail()"
   ]
  },
  {
   "cell_type": "code",
   "execution_count": 171,
   "metadata": {},
   "outputs": [
    {
     "data": {
      "text/html": [
       "<div>\n",
       "<style scoped>\n",
       "    .dataframe tbody tr th:only-of-type {\n",
       "        vertical-align: middle;\n",
       "    }\n",
       "\n",
       "    .dataframe tbody tr th {\n",
       "        vertical-align: top;\n",
       "    }\n",
       "\n",
       "    .dataframe thead th {\n",
       "        text-align: right;\n",
       "    }\n",
       "</style>\n",
       "<table border=\"1\" class=\"dataframe\">\n",
       "  <thead>\n",
       "    <tr style=\"text-align: right;\">\n",
       "      <th></th>\n",
       "      <th>ds</th>\n",
       "      <th>trend</th>\n",
       "      <th>yhat_lower</th>\n",
       "      <th>yhat_upper</th>\n",
       "      <th>trend_lower</th>\n",
       "      <th>trend_upper</th>\n",
       "      <th>additive_terms</th>\n",
       "      <th>additive_terms_lower</th>\n",
       "      <th>additive_terms_upper</th>\n",
       "      <th>yearly</th>\n",
       "      <th>yearly_lower</th>\n",
       "      <th>yearly_upper</th>\n",
       "      <th>multiplicative_terms</th>\n",
       "      <th>multiplicative_terms_lower</th>\n",
       "      <th>multiplicative_terms_upper</th>\n",
       "      <th>yhat</th>\n",
       "    </tr>\n",
       "  </thead>\n",
       "  <tbody>\n",
       "    <tr>\n",
       "      <th>432</th>\n",
       "      <td>2020-08-24</td>\n",
       "      <td>190.084363</td>\n",
       "      <td>184.117885</td>\n",
       "      <td>195.912257</td>\n",
       "      <td>185.495902</td>\n",
       "      <td>194.402690</td>\n",
       "      <td>-0.053984</td>\n",
       "      <td>-0.053984</td>\n",
       "      <td>-0.053984</td>\n",
       "      <td>-0.053984</td>\n",
       "      <td>-0.053984</td>\n",
       "      <td>-0.053984</td>\n",
       "      <td>0.0</td>\n",
       "      <td>0.0</td>\n",
       "      <td>0.0</td>\n",
       "      <td>190.030379</td>\n",
       "    </tr>\n",
       "    <tr>\n",
       "      <th>433</th>\n",
       "      <td>2020-08-25</td>\n",
       "      <td>190.223759</td>\n",
       "      <td>184.436895</td>\n",
       "      <td>196.093299</td>\n",
       "      <td>185.617221</td>\n",
       "      <td>194.582877</td>\n",
       "      <td>-0.054883</td>\n",
       "      <td>-0.054883</td>\n",
       "      <td>-0.054883</td>\n",
       "      <td>-0.054883</td>\n",
       "      <td>-0.054883</td>\n",
       "      <td>-0.054883</td>\n",
       "      <td>0.0</td>\n",
       "      <td>0.0</td>\n",
       "      <td>0.0</td>\n",
       "      <td>190.168876</td>\n",
       "    </tr>\n",
       "    <tr>\n",
       "      <th>434</th>\n",
       "      <td>2020-08-26</td>\n",
       "      <td>190.363156</td>\n",
       "      <td>184.228997</td>\n",
       "      <td>196.199505</td>\n",
       "      <td>185.726422</td>\n",
       "      <td>194.760990</td>\n",
       "      <td>-0.056766</td>\n",
       "      <td>-0.056766</td>\n",
       "      <td>-0.056766</td>\n",
       "      <td>-0.056766</td>\n",
       "      <td>-0.056766</td>\n",
       "      <td>-0.056766</td>\n",
       "      <td>0.0</td>\n",
       "      <td>0.0</td>\n",
       "      <td>0.0</td>\n",
       "      <td>190.306390</td>\n",
       "    </tr>\n",
       "    <tr>\n",
       "      <th>435</th>\n",
       "      <td>2020-08-27</td>\n",
       "      <td>190.502553</td>\n",
       "      <td>184.417019</td>\n",
       "      <td>196.424777</td>\n",
       "      <td>185.828127</td>\n",
       "      <td>194.938068</td>\n",
       "      <td>-0.059629</td>\n",
       "      <td>-0.059629</td>\n",
       "      <td>-0.059629</td>\n",
       "      <td>-0.059629</td>\n",
       "      <td>-0.059629</td>\n",
       "      <td>-0.059629</td>\n",
       "      <td>0.0</td>\n",
       "      <td>0.0</td>\n",
       "      <td>0.0</td>\n",
       "      <td>190.442924</td>\n",
       "    </tr>\n",
       "    <tr>\n",
       "      <th>436</th>\n",
       "      <td>2020-08-28</td>\n",
       "      <td>190.641950</td>\n",
       "      <td>184.666990</td>\n",
       "      <td>196.405632</td>\n",
       "      <td>185.941048</td>\n",
       "      <td>195.113708</td>\n",
       "      <td>-0.063327</td>\n",
       "      <td>-0.063327</td>\n",
       "      <td>-0.063327</td>\n",
       "      <td>-0.063327</td>\n",
       "      <td>-0.063327</td>\n",
       "      <td>-0.063327</td>\n",
       "      <td>0.0</td>\n",
       "      <td>0.0</td>\n",
       "      <td>0.0</td>\n",
       "      <td>190.578623</td>\n",
       "    </tr>\n",
       "  </tbody>\n",
       "</table>\n",
       "</div>"
      ],
      "text/plain": [
       "            ds       trend  yhat_lower  yhat_upper  trend_lower  trend_upper  \\\n",
       "432 2020-08-24  190.084363  184.117885  195.912257   185.495902   194.402690   \n",
       "433 2020-08-25  190.223759  184.436895  196.093299   185.617221   194.582877   \n",
       "434 2020-08-26  190.363156  184.228997  196.199505   185.726422   194.760990   \n",
       "435 2020-08-27  190.502553  184.417019  196.424777   185.828127   194.938068   \n",
       "436 2020-08-28  190.641950  184.666990  196.405632   185.941048   195.113708   \n",
       "\n",
       "     additive_terms  additive_terms_lower  additive_terms_upper    yearly  \\\n",
       "432       -0.053984             -0.053984             -0.053984 -0.053984   \n",
       "433       -0.054883             -0.054883             -0.054883 -0.054883   \n",
       "434       -0.056766             -0.056766             -0.056766 -0.056766   \n",
       "435       -0.059629             -0.059629             -0.059629 -0.059629   \n",
       "436       -0.063327             -0.063327             -0.063327 -0.063327   \n",
       "\n",
       "     yearly_lower  yearly_upper  multiplicative_terms  \\\n",
       "432     -0.053984     -0.053984                   0.0   \n",
       "433     -0.054883     -0.054883                   0.0   \n",
       "434     -0.056766     -0.056766                   0.0   \n",
       "435     -0.059629     -0.059629                   0.0   \n",
       "436     -0.063327     -0.063327                   0.0   \n",
       "\n",
       "     multiplicative_terms_lower  multiplicative_terms_upper        yhat  \n",
       "432                         0.0                         0.0  190.030379  \n",
       "433                         0.0                         0.0  190.168876  \n",
       "434                         0.0                         0.0  190.306390  \n",
       "435                         0.0                         0.0  190.442924  \n",
       "436                         0.0                         0.0  190.578623  "
      ]
     },
     "execution_count": 171,
     "metadata": {},
     "output_type": "execute_result"
    }
   ],
   "source": [
    "forecast.tail()\n"
   ]
  },
  {
   "cell_type": "code",
   "execution_count": 1,
   "metadata": {},
   "outputs": [
    {
     "name": "stdout",
     "output_type": "stream",
     "text": [
      "Microsoft's stocks have been impacted against the normal flow by Covid-19(from when the first case was reported in the USA) by\n",
      " 12.420793385625421 %\n"
     ]
    }
   ],
   "source": [
    "msft_impact = (214.250000-190.578623)/190.578623 * 100\n",
    "print(\"Microsoft's stocks have been impacted against the normal flow by Covid-19(from when the first case was reported in the USA) by\\n\",msft_impact,\"%\")\n",
    "\n"
   ]
  },
  {
   "cell_type": "code",
   "execution_count": null,
   "metadata": {},
   "outputs": [],
   "source": []
  },
  {
   "cell_type": "code",
   "execution_count": null,
   "metadata": {},
   "outputs": [],
   "source": []
  },
  {
   "cell_type": "code",
   "execution_count": null,
   "metadata": {},
   "outputs": [],
   "source": []
  },
  {
   "cell_type": "code",
   "execution_count": null,
   "metadata": {},
   "outputs": [],
   "source": [
    "\n"
   ]
  },
  {
   "cell_type": "code",
   "execution_count": null,
   "metadata": {},
   "outputs": [],
   "source": [
    "\n"
   ]
  },
  {
   "cell_type": "code",
   "execution_count": null,
   "metadata": {},
   "outputs": [],
   "source": [
    "\n"
   ]
  },
  {
   "cell_type": "code",
   "execution_count": null,
   "metadata": {},
   "outputs": [],
   "source": []
  },
  {
   "cell_type": "code",
   "execution_count": null,
   "metadata": {},
   "outputs": [],
   "source": []
  },
  {
   "cell_type": "code",
   "execution_count": null,
   "metadata": {},
   "outputs": [],
   "source": []
  },
  {
   "cell_type": "code",
   "execution_count": null,
   "metadata": {},
   "outputs": [],
   "source": []
  },
  {
   "cell_type": "code",
   "execution_count": null,
   "metadata": {},
   "outputs": [],
   "source": []
  },
  {
   "cell_type": "code",
   "execution_count": null,
   "metadata": {},
   "outputs": [],
   "source": []
  },
  {
   "cell_type": "code",
   "execution_count": null,
   "metadata": {},
   "outputs": [],
   "source": []
  },
  {
   "cell_type": "code",
   "execution_count": null,
   "metadata": {},
   "outputs": [],
   "source": []
  },
  {
   "cell_type": "code",
   "execution_count": null,
   "metadata": {},
   "outputs": [],
   "source": []
  }
 ],
 "metadata": {
  "kernelspec": {
   "display_name": "Python",
   "language": "python",
   "name": "conda-env-python-py"
  },
  "language_info": {
   "codemirror_mode": {
    "name": "ipython",
    "version": 3
   },
   "file_extension": ".py",
   "mimetype": "text/x-python",
   "name": "python",
   "nbconvert_exporter": "python",
   "pygments_lexer": "ipython3",
   "version": "3.6.11"
  }
 },
 "nbformat": 4,
 "nbformat_minor": 4
}
