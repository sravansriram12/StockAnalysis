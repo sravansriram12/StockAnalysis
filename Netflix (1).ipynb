{
 "cells": [
  {
   "cell_type": "code",
   "execution_count": 1,
   "metadata": {},
   "outputs": [
    {
     "name": "stdout",
     "output_type": "stream",
     "text": [
      "Requirement already satisfied: pandas in /home/jupyterlab/conda/envs/python/lib/python3.6/site-packages (1.1.1)\n",
      "Requirement already satisfied: python-dateutil>=2.7.3 in /home/jupyterlab/conda/envs/python/lib/python3.6/site-packages (from pandas) (2.8.1)\n",
      "Requirement already satisfied: pytz>=2017.2 in /home/jupyterlab/conda/envs/python/lib/python3.6/site-packages (from pandas) (2020.1)\n",
      "Requirement already satisfied: numpy>=1.15.4 in /home/jupyterlab/conda/envs/python/lib/python3.6/site-packages (from pandas) (1.19.1)\n",
      "Requirement already satisfied: six>=1.5 in /home/jupyterlab/conda/envs/python/lib/python3.6/site-packages (from python-dateutil>=2.7.3->pandas) (1.15.0)\n"
     ]
    }
   ],
   "source": [
    "!pip install pandas\n",
    "import pandas as pd"
   ]
  },
  {
   "cell_type": "code",
   "execution_count": 6,
   "metadata": {},
   "outputs": [
    {
     "name": "stdout",
     "output_type": "stream",
     "text": [
      "Collecting package metadata (current_repodata.json): done\n",
      "Solving environment: done\n",
      "\n",
      "\n",
      "==> WARNING: A newer version of conda exists. <==\n",
      "  current version: 4.8.3\n",
      "  latest version: 4.8.4\n",
      "\n",
      "Please update conda by running\n",
      "\n",
      "    $ conda update -n base -c defaults conda\n",
      "\n",
      "\n",
      "\n",
      "# All requested packages already installed.\n",
      "\n"
     ]
    }
   ],
   "source": [
    "\n",
    "!conda install -c conda-forge fbprophet --yes\n",
    "\n",
    "\n"
   ]
  },
  {
   "cell_type": "code",
   "execution_count": 3,
   "metadata": {},
   "outputs": [
    {
     "name": "stderr",
     "output_type": "stream",
     "text": [
      "Importing plotly failed. Interactive plots will not work.\n"
     ]
    }
   ],
   "source": [
    "from fbprophet import Prophet"
   ]
  },
  {
   "cell_type": "code",
   "execution_count": 24,
   "metadata": {},
   "outputs": [],
   "source": [
    "data = pd.read_csv(\"NFLX (4).csv\")\n",
    "data2 = pd.read_csv(\"NFLX (3).csv\")\n",
    "\n",
    "from fbprophet.plot import plot_plotly, plot_components_plotly\n",
    "\n",
    "data=data.rename(columns={'Date':'ds', 'Close':'y'})\n",
    "data2=data2.rename(columns={'Date':'ds', 'Close':'y'})"
   ]
  },
  {
   "cell_type": "code",
   "execution_count": 25,
   "metadata": {},
   "outputs": [
    {
     "name": "stderr",
     "output_type": "stream",
     "text": [
      "INFO:fbprophet:Disabling weekly seasonality. Run prophet with weekly_seasonality=True to override this.\n",
      "INFO:fbprophet:Disabling daily seasonality. Run prophet with daily_seasonality=True to override this.\n"
     ]
    },
    {
     "data": {
      "text/plain": [
       "<fbprophet.forecaster.Prophet at 0x7f343dc47128>"
      ]
     },
     "execution_count": 25,
     "metadata": {},
     "output_type": "execute_result"
    }
   ],
   "source": [
    "m3 = Prophet(yearly_seasonality = True)\n",
    "\n",
    "m3.fit(data)"
   ]
  },
  {
   "cell_type": "code",
   "execution_count": 36,
   "metadata": {},
   "outputs": [
    {
     "data": {
      "text/html": [
       "<div>\n",
       "<style scoped>\n",
       "    .dataframe tbody tr th:only-of-type {\n",
       "        vertical-align: middle;\n",
       "    }\n",
       "\n",
       "    .dataframe tbody tr th {\n",
       "        vertical-align: top;\n",
       "    }\n",
       "\n",
       "    .dataframe thead th {\n",
       "        text-align: right;\n",
       "    }\n",
       "</style>\n",
       "<table border=\"1\" class=\"dataframe\">\n",
       "  <thead>\n",
       "    <tr style=\"text-align: right;\">\n",
       "      <th></th>\n",
       "      <th>ds</th>\n",
       "      <th>yhat</th>\n",
       "      <th>yhat_lower</th>\n",
       "      <th>yhat_upper</th>\n",
       "    </tr>\n",
       "  </thead>\n",
       "  <tbody>\n",
       "    <tr>\n",
       "      <th>432</th>\n",
       "      <td>2020-08-24</td>\n",
       "      <td>301.603191</td>\n",
       "      <td>271.054322</td>\n",
       "      <td>332.365611</td>\n",
       "    </tr>\n",
       "    <tr>\n",
       "      <th>433</th>\n",
       "      <td>2020-08-25</td>\n",
       "      <td>301.710366</td>\n",
       "      <td>270.912858</td>\n",
       "      <td>333.006186</td>\n",
       "    </tr>\n",
       "    <tr>\n",
       "      <th>434</th>\n",
       "      <td>2020-08-26</td>\n",
       "      <td>301.824504</td>\n",
       "      <td>274.409572</td>\n",
       "      <td>333.412649</td>\n",
       "    </tr>\n",
       "    <tr>\n",
       "      <th>435</th>\n",
       "      <td>2020-08-27</td>\n",
       "      <td>301.940686</td>\n",
       "      <td>271.853352</td>\n",
       "      <td>334.159085</td>\n",
       "    </tr>\n",
       "    <tr>\n",
       "      <th>436</th>\n",
       "      <td>2020-08-28</td>\n",
       "      <td>302.054001</td>\n",
       "      <td>270.239963</td>\n",
       "      <td>332.847228</td>\n",
       "    </tr>\n",
       "  </tbody>\n",
       "</table>\n",
       "</div>"
      ],
      "text/plain": [
       "            ds        yhat  yhat_lower  yhat_upper\n",
       "432 2020-08-24  301.603191  271.054322  332.365611\n",
       "433 2020-08-25  301.710366  270.912858  333.006186\n",
       "434 2020-08-26  301.824504  274.409572  333.412649\n",
       "435 2020-08-27  301.940686  271.853352  334.159085\n",
       "436 2020-08-28  302.054001  270.239963  332.847228"
      ]
     },
     "execution_count": 36,
     "metadata": {},
     "output_type": "execute_result"
    }
   ],
   "source": [
    "future = m3.make_future_dataframe(periods = 228)\n",
    "forecast = m3.predict(future)\n",
    "forecast[['ds', 'yhat', 'yhat_lower', 'yhat_upper']].tail()\n"
   ]
  },
  {
   "cell_type": "code",
   "execution_count": 37,
   "metadata": {},
   "outputs": [
    {
     "name": "stderr",
     "output_type": "stream",
     "text": [
      "INFO:matplotlib.category:Using categorical units to plot a list of strings that are all parsable as floats or dates. If these strings should be plotted as numbers, cast to the appropriate data type before plotting.\n",
      "INFO:matplotlib.category:Using categorical units to plot a list of strings that are all parsable as floats or dates. If these strings should be plotted as numbers, cast to the appropriate data type before plotting.\n"
     ]
    },
    {
     "data": {
      "text/plain": [
       "Text(0, 0.5, 'Close of stock')"
      ]
     },
     "execution_count": 37,
     "metadata": {},
     "output_type": "execute_result"
    },
    {
     "data": {
      "image/png": "[encoded data removed]",
      "text/plain": [
       "<Figure size 432x288 with 1 Axes>"
      ]
     },
     "metadata": {
      "needs_background": "light"
     },
     "output_type": "display_data"
    }
   ],
   "source": [
    "import matplotlib.pyplot as plt\n",
    "\n",
    "plt.plot(data2.ds,data2.y)\n",
    "plt.xlabel('01/20/2020 - 09/05/2020')\n",
    "plt.ylabel('Close of stock')\n",
    "\n"
   ]
  },
  {
   "cell_type": "code",
   "execution_count": 38,
   "metadata": {},
   "outputs": [
    {
     "data": {
      "image/png": "[encoded data removed]",
      "text/plain": [
       "<Figure size 720x432 with 1 Axes>"
      ]
     },
     "metadata": {},
     "output_type": "display_data"
    }
   ],
   "source": [
    "fig1 = m3.plot(forecast)\n"
   ]
  },
  {
   "cell_type": "code",
   "execution_count": 39,
   "metadata": {},
   "outputs": [
    {
     "data": {
      "text/html": [
       "<div>\n",
       "<style scoped>\n",
       "    .dataframe tbody tr th:only-of-type {\n",
       "        vertical-align: middle;\n",
       "    }\n",
       "\n",
       "    .dataframe tbody tr th {\n",
       "        vertical-align: top;\n",
       "    }\n",
       "\n",
       "    .dataframe thead th {\n",
       "        text-align: right;\n",
       "    }\n",
       "</style>\n",
       "<table border=\"1\" class=\"dataframe\">\n",
       "  <thead>\n",
       "    <tr style=\"text-align: right;\">\n",
       "      <th></th>\n",
       "      <th>ds</th>\n",
       "      <th>Open</th>\n",
       "      <th>High</th>\n",
       "      <th>Low</th>\n",
       "      <th>y</th>\n",
       "      <th>Adj Close</th>\n",
       "      <th>Volume</th>\n",
       "    </tr>\n",
       "  </thead>\n",
       "  <tbody>\n",
       "    <tr>\n",
       "      <th>29</th>\n",
       "      <td>2020-08-10</td>\n",
       "      <td>493.350006</td>\n",
       "      <td>497.459991</td>\n",
       "      <td>466.549988</td>\n",
       "      <td>482.679993</td>\n",
       "      <td>482.679993</td>\n",
       "      <td>23414000</td>\n",
       "    </tr>\n",
       "    <tr>\n",
       "      <th>30</th>\n",
       "      <td>2020-08-17</td>\n",
       "      <td>484.190002</td>\n",
       "      <td>498.940002</td>\n",
       "      <td>479.100006</td>\n",
       "      <td>492.309998</td>\n",
       "      <td>492.309998</td>\n",
       "      <td>18139000</td>\n",
       "    </tr>\n",
       "    <tr>\n",
       "      <th>31</th>\n",
       "      <td>2020-08-24</td>\n",
       "      <td>495.440002</td>\n",
       "      <td>549.039978</td>\n",
       "      <td>483.160004</td>\n",
       "      <td>523.890015</td>\n",
       "      <td>523.890015</td>\n",
       "      <td>44344000</td>\n",
       "    </tr>\n",
       "    <tr>\n",
       "      <th>32</th>\n",
       "      <td>2020-08-31</td>\n",
       "      <td>521.159973</td>\n",
       "      <td>557.390015</td>\n",
       "      <td>517.580017</td>\n",
       "      <td>525.750000</td>\n",
       "      <td>525.750000</td>\n",
       "      <td>29462500</td>\n",
       "    </tr>\n",
       "    <tr>\n",
       "      <th>33</th>\n",
       "      <td>2020-09-04</td>\n",
       "      <td>520.179993</td>\n",
       "      <td>527.359985</td>\n",
       "      <td>485.980011</td>\n",
       "      <td>516.049988</td>\n",
       "      <td>516.049988</td>\n",
       "      <td>8270118</td>\n",
       "    </tr>\n",
       "  </tbody>\n",
       "</table>\n",
       "</div>"
      ],
      "text/plain": [
       "            ds        Open        High         Low           y   Adj Close  \\\n",
       "29  2020-08-10  493.350006  497.459991  466.549988  482.679993  482.679993   \n",
       "30  2020-08-17  484.190002  498.940002  479.100006  492.309998  492.309998   \n",
       "31  2020-08-24  495.440002  549.039978  483.160004  523.890015  523.890015   \n",
       "32  2020-08-31  521.159973  557.390015  517.580017  525.750000  525.750000   \n",
       "33  2020-09-04  520.179993  527.359985  485.980011  516.049988  516.049988   \n",
       "\n",
       "      Volume  \n",
       "29  23414000  \n",
       "30  18139000  \n",
       "31  44344000  \n",
       "32  29462500  \n",
       "33   8270118  "
      ]
     },
     "execution_count": 39,
     "metadata": {},
     "output_type": "execute_result"
    }
   ],
   "source": [
    "data2.tail()\n"
   ]
  },
  {
   "cell_type": "code",
   "execution_count": 40,
   "metadata": {},
   "outputs": [
    {
     "data": {
      "text/html": [
       "<div>\n",
       "<style scoped>\n",
       "    .dataframe tbody tr th:only-of-type {\n",
       "        vertical-align: middle;\n",
       "    }\n",
       "\n",
       "    .dataframe tbody tr th {\n",
       "        vertical-align: top;\n",
       "    }\n",
       "\n",
       "    .dataframe thead th {\n",
       "        text-align: right;\n",
       "    }\n",
       "</style>\n",
       "<table border=\"1\" class=\"dataframe\">\n",
       "  <thead>\n",
       "    <tr style=\"text-align: right;\">\n",
       "      <th></th>\n",
       "      <th>ds</th>\n",
       "      <th>trend</th>\n",
       "      <th>yhat_lower</th>\n",
       "      <th>yhat_upper</th>\n",
       "      <th>trend_lower</th>\n",
       "      <th>trend_upper</th>\n",
       "      <th>additive_terms</th>\n",
       "      <th>additive_terms_lower</th>\n",
       "      <th>additive_terms_upper</th>\n",
       "      <th>yearly</th>\n",
       "      <th>yearly_lower</th>\n",
       "      <th>yearly_upper</th>\n",
       "      <th>multiplicative_terms</th>\n",
       "      <th>multiplicative_terms_lower</th>\n",
       "      <th>multiplicative_terms_upper</th>\n",
       "      <th>yhat</th>\n",
       "    </tr>\n",
       "  </thead>\n",
       "  <tbody>\n",
       "    <tr>\n",
       "      <th>432</th>\n",
       "      <td>2020-08-24</td>\n",
       "      <td>313.433335</td>\n",
       "      <td>271.054322</td>\n",
       "      <td>332.365611</td>\n",
       "      <td>300.295676</td>\n",
       "      <td>328.175679</td>\n",
       "      <td>-11.830144</td>\n",
       "      <td>-11.830144</td>\n",
       "      <td>-11.830144</td>\n",
       "      <td>-11.830144</td>\n",
       "      <td>-11.830144</td>\n",
       "      <td>-11.830144</td>\n",
       "      <td>0.0</td>\n",
       "      <td>0.0</td>\n",
       "      <td>0.0</td>\n",
       "      <td>301.603191</td>\n",
       "    </tr>\n",
       "    <tr>\n",
       "      <th>433</th>\n",
       "      <td>2020-08-25</td>\n",
       "      <td>313.393983</td>\n",
       "      <td>270.912858</td>\n",
       "      <td>333.006186</td>\n",
       "      <td>300.230973</td>\n",
       "      <td>328.201124</td>\n",
       "      <td>-11.683617</td>\n",
       "      <td>-11.683617</td>\n",
       "      <td>-11.683617</td>\n",
       "      <td>-11.683617</td>\n",
       "      <td>-11.683617</td>\n",
       "      <td>-11.683617</td>\n",
       "      <td>0.0</td>\n",
       "      <td>0.0</td>\n",
       "      <td>0.0</td>\n",
       "      <td>301.710366</td>\n",
       "    </tr>\n",
       "    <tr>\n",
       "      <th>434</th>\n",
       "      <td>2020-08-26</td>\n",
       "      <td>313.354631</td>\n",
       "      <td>274.409572</td>\n",
       "      <td>333.412649</td>\n",
       "      <td>300.166271</td>\n",
       "      <td>328.267570</td>\n",
       "      <td>-11.530127</td>\n",
       "      <td>-11.530127</td>\n",
       "      <td>-11.530127</td>\n",
       "      <td>-11.530127</td>\n",
       "      <td>-11.530127</td>\n",
       "      <td>-11.530127</td>\n",
       "      <td>0.0</td>\n",
       "      <td>0.0</td>\n",
       "      <td>0.0</td>\n",
       "      <td>301.824504</td>\n",
       "    </tr>\n",
       "    <tr>\n",
       "      <th>435</th>\n",
       "      <td>2020-08-27</td>\n",
       "      <td>313.315279</td>\n",
       "      <td>271.853352</td>\n",
       "      <td>334.159085</td>\n",
       "      <td>300.080965</td>\n",
       "      <td>328.380909</td>\n",
       "      <td>-11.374593</td>\n",
       "      <td>-11.374593</td>\n",
       "      <td>-11.374593</td>\n",
       "      <td>-11.374593</td>\n",
       "      <td>-11.374593</td>\n",
       "      <td>-11.374593</td>\n",
       "      <td>0.0</td>\n",
       "      <td>0.0</td>\n",
       "      <td>0.0</td>\n",
       "      <td>301.940686</td>\n",
       "    </tr>\n",
       "    <tr>\n",
       "      <th>436</th>\n",
       "      <td>2020-08-28</td>\n",
       "      <td>313.275927</td>\n",
       "      <td>270.239963</td>\n",
       "      <td>332.847228</td>\n",
       "      <td>299.942300</td>\n",
       "      <td>328.484897</td>\n",
       "      <td>-11.221927</td>\n",
       "      <td>-11.221927</td>\n",
       "      <td>-11.221927</td>\n",
       "      <td>-11.221927</td>\n",
       "      <td>-11.221927</td>\n",
       "      <td>-11.221927</td>\n",
       "      <td>0.0</td>\n",
       "      <td>0.0</td>\n",
       "      <td>0.0</td>\n",
       "      <td>302.054001</td>\n",
       "    </tr>\n",
       "  </tbody>\n",
       "</table>\n",
       "</div>"
      ],
      "text/plain": [
       "            ds       trend  yhat_lower  yhat_upper  trend_lower  trend_upper  \\\n",
       "432 2020-08-24  313.433335  271.054322  332.365611   300.295676   328.175679   \n",
       "433 2020-08-25  313.393983  270.912858  333.006186   300.230973   328.201124   \n",
       "434 2020-08-26  313.354631  274.409572  333.412649   300.166271   328.267570   \n",
       "435 2020-08-27  313.315279  271.853352  334.159085   300.080965   328.380909   \n",
       "436 2020-08-28  313.275927  270.239963  332.847228   299.942300   328.484897   \n",
       "\n",
       "     additive_terms  additive_terms_lower  additive_terms_upper     yearly  \\\n",
       "432      -11.830144            -11.830144            -11.830144 -11.830144   \n",
       "433      -11.683617            -11.683617            -11.683617 -11.683617   \n",
       "434      -11.530127            -11.530127            -11.530127 -11.530127   \n",
       "435      -11.374593            -11.374593            -11.374593 -11.374593   \n",
       "436      -11.221927            -11.221927            -11.221927 -11.221927   \n",
       "\n",
       "     yearly_lower  yearly_upper  multiplicative_terms  \\\n",
       "432    -11.830144    -11.830144                   0.0   \n",
       "433    -11.683617    -11.683617                   0.0   \n",
       "434    -11.530127    -11.530127                   0.0   \n",
       "435    -11.374593    -11.374593                   0.0   \n",
       "436    -11.221927    -11.221927                   0.0   \n",
       "\n",
       "     multiplicative_terms_lower  multiplicative_terms_upper        yhat  \n",
       "432                         0.0                         0.0  301.603191  \n",
       "433                         0.0                         0.0  301.710366  \n",
       "434                         0.0                         0.0  301.824504  \n",
       "435                         0.0                         0.0  301.940686  \n",
       "436                         0.0                         0.0  302.054001  "
      ]
     },
     "execution_count": 40,
     "metadata": {},
     "output_type": "execute_result"
    }
   ],
   "source": [
    "forecast.tail()\n"
   ]
  },
  {
   "cell_type": "code",
   "execution_count": 1,
   "metadata": {},
   "outputs": [
    {
     "name": "stdout",
     "output_type": "stream",
     "text": [
      "Netflix's stocks have been impacted by Covid-19(from the date when the first case was reported in the USA) against the normal flow by\n",
      " 70.84693011565172 % as of 09/05/2020\n"
     ]
    }
   ],
   "source": [
    "netflix_impact = (516.049988 - 302.054001)/302.054001 * 100\n",
    "print(\"Netflix's stocks have been impacted by Covid-19(from the date when the first case was reported in the USA) against the normal flow by\\n\", netflix_impact, \"% as of 09/05/2020\")"
   ]
  },
  {
   "cell_type": "code",
   "execution_count": null,
   "metadata": {},
   "outputs": [],
   "source": []
  },
  {
   "cell_type": "code",
   "execution_count": null,
   "metadata": {},
   "outputs": [],
   "source": []
  },
  {
   "cell_type": "code",
   "execution_count": null,
   "metadata": {},
   "outputs": [],
   "source": []
  }
 ],
 "metadata": {
  "kernelspec": {
   "display_name": "Python",
   "language": "python",
   "name": "conda-env-python-py"
  },
  "language_info": {
   "codemirror_mode": {
    "name": "ipython",
    "version": 3
   },
   "file_extension": ".py",
   "mimetype": "text/x-python",
   "name": "python",
   "nbconvert_exporter": "python",
   "pygments_lexer": "ipython3",
   "version": "3.6.11"
  }
 },
 "nbformat": 4,
 "nbformat_minor": 4
}
