{
 "cells": [
  {
   "cell_type": "code",
   "execution_count": 1,
   "metadata": {},
   "outputs": [
    {
     "name": "stdout",
     "output_type": "stream",
     "text": [
      "Requirement already satisfied: pandas in /home/jupyterlab/conda/envs/python/lib/python3.6/site-packages (1.1.1)\n",
      "Requirement already satisfied: numpy>=1.15.4 in /home/jupyterlab/conda/envs/python/lib/python3.6/site-packages (from pandas) (1.19.1)\n",
      "Requirement already satisfied: python-dateutil>=2.7.3 in /home/jupyterlab/conda/envs/python/lib/python3.6/site-packages (from pandas) (2.8.1)\n",
      "Requirement already satisfied: pytz>=2017.2 in /home/jupyterlab/conda/envs/python/lib/python3.6/site-packages (from pandas) (2020.1)\n",
      "Requirement already satisfied: six>=1.5 in /home/jupyterlab/conda/envs/python/lib/python3.6/site-packages (from python-dateutil>=2.7.3->pandas) (1.15.0)\n"
     ]
    }
   ],
   "source": [
    "!pip install pandas\n",
    "import pandas as pd"
   ]
  },
  {
   "cell_type": "code",
   "execution_count": 2,
   "metadata": {},
   "outputs": [
    {
     "name": "stdout",
     "output_type": "stream",
     "text": [
      "Collecting package metadata (current_repodata.json): done\n",
      "Solving environment: done\n",
      "\n",
      "\n",
      "==> WARNING: A newer version of conda exists. <==\n",
      "  current version: 4.8.3\n",
      "  latest version: 4.8.4\n",
      "\n",
      "Please update conda by running\n",
      "\n",
      "    $ conda update -n base -c defaults conda\n",
      "\n",
      "\n",
      "\n",
      "# All requested packages already installed.\n",
      "\n"
     ]
    }
   ],
   "source": [
    "!conda install -c conda-forge fbprophet --yes"
   ]
  },
  {
   "cell_type": "code",
   "execution_count": 3,
   "metadata": {},
   "outputs": [
    {
     "name": "stderr",
     "output_type": "stream",
     "text": [
      "Importing plotly failed. Interactive plots will not work.\n"
     ]
    }
   ],
   "source": [
    "from fbprophet import Prophet"
   ]
  },
  {
   "cell_type": "code",
   "execution_count": 4,
   "metadata": {},
   "outputs": [],
   "source": [
    "data3 = pd.read_csv(\"SHOP (1).csv\")\n",
    "data4 = pd.read_csv(\"SHOP.csv\")\n",
    "\n",
    "from fbprophet.plot import plot_plotly, plot_components_plotly\n",
    "\n",
    "data3=data3.rename(columns={'Date':'ds', 'Close':'y'})\n",
    "data4=data4.rename(columns={'Date':'ds', 'Close':'y'})"
   ]
  },
  {
   "cell_type": "code",
   "execution_count": 5,
   "metadata": {},
   "outputs": [
    {
     "data": {
      "text/html": [
       "<div>\n",
       "<style scoped>\n",
       "    .dataframe tbody tr th:only-of-type {\n",
       "        vertical-align: middle;\n",
       "    }\n",
       "\n",
       "    .dataframe tbody tr th {\n",
       "        vertical-align: top;\n",
       "    }\n",
       "\n",
       "    .dataframe thead th {\n",
       "        text-align: right;\n",
       "    }\n",
       "</style>\n",
       "<table border=\"1\" class=\"dataframe\">\n",
       "  <thead>\n",
       "    <tr style=\"text-align: right;\">\n",
       "      <th></th>\n",
       "      <th>ds</th>\n",
       "      <th>Open</th>\n",
       "      <th>High</th>\n",
       "      <th>Low</th>\n",
       "      <th>y</th>\n",
       "      <th>Adj Close</th>\n",
       "      <th>Volume</th>\n",
       "    </tr>\n",
       "  </thead>\n",
       "  <tbody>\n",
       "    <tr>\n",
       "      <th>0</th>\n",
       "      <td>2016-01-18</td>\n",
       "      <td>21.430000</td>\n",
       "      <td>23.709999</td>\n",
       "      <td>18.610001</td>\n",
       "      <td>23.070000</td>\n",
       "      <td>23.070000</td>\n",
       "      <td>3270900</td>\n",
       "    </tr>\n",
       "    <tr>\n",
       "      <th>1</th>\n",
       "      <td>2016-01-25</td>\n",
       "      <td>23.129999</td>\n",
       "      <td>23.680000</td>\n",
       "      <td>22.000000</td>\n",
       "      <td>23.219999</td>\n",
       "      <td>23.219999</td>\n",
       "      <td>1656300</td>\n",
       "    </tr>\n",
       "    <tr>\n",
       "      <th>2</th>\n",
       "      <td>2016-02-01</td>\n",
       "      <td>23.260000</td>\n",
       "      <td>23.790001</td>\n",
       "      <td>21.270000</td>\n",
       "      <td>21.870001</td>\n",
       "      <td>21.870001</td>\n",
       "      <td>3223400</td>\n",
       "    </tr>\n",
       "    <tr>\n",
       "      <th>3</th>\n",
       "      <td>2016-02-08</td>\n",
       "      <td>21.520000</td>\n",
       "      <td>21.750000</td>\n",
       "      <td>18.580000</td>\n",
       "      <td>19.330000</td>\n",
       "      <td>19.330000</td>\n",
       "      <td>1884400</td>\n",
       "    </tr>\n",
       "    <tr>\n",
       "      <th>4</th>\n",
       "      <td>2016-02-15</td>\n",
       "      <td>20.540001</td>\n",
       "      <td>24.809999</td>\n",
       "      <td>19.820000</td>\n",
       "      <td>20.570000</td>\n",
       "      <td>20.570000</td>\n",
       "      <td>6773600</td>\n",
       "    </tr>\n",
       "  </tbody>\n",
       "</table>\n",
       "</div>"
      ],
      "text/plain": [
       "           ds       Open       High        Low          y  Adj Close   Volume\n",
       "0  2016-01-18  21.430000  23.709999  18.610001  23.070000  23.070000  3270900\n",
       "1  2016-01-25  23.129999  23.680000  22.000000  23.219999  23.219999  1656300\n",
       "2  2016-02-01  23.260000  23.790001  21.270000  21.870001  21.870001  3223400\n",
       "3  2016-02-08  21.520000  21.750000  18.580000  19.330000  19.330000  1884400\n",
       "4  2016-02-15  20.540001  24.809999  19.820000  20.570000  20.570000  6773600"
      ]
     },
     "execution_count": 5,
     "metadata": {},
     "output_type": "execute_result"
    }
   ],
   "source": [
    "data3.head()"
   ]
  },
  {
   "cell_type": "code",
   "execution_count": 6,
   "metadata": {},
   "outputs": [
    {
     "name": "stderr",
     "output_type": "stream",
     "text": [
      "INFO:fbprophet:Disabling weekly seasonality. Run prophet with weekly_seasonality=True to override this.\n",
      "INFO:fbprophet:Disabling daily seasonality. Run prophet with daily_seasonality=True to override this.\n"
     ]
    },
    {
     "data": {
      "text/plain": [
       "<fbprophet.forecaster.Prophet at 0x7fec1560b6d8>"
      ]
     },
     "execution_count": 6,
     "metadata": {},
     "output_type": "execute_result"
    }
   ],
   "source": [
    "m4 = Prophet(yearly_seasonality = True)\n",
    "\n",
    "m4.fit(data3)"
   ]
  },
  {
   "cell_type": "code",
   "execution_count": 7,
   "metadata": {},
   "outputs": [
    {
     "data": {
      "text/html": [
       "<div>\n",
       "<style scoped>\n",
       "    .dataframe tbody tr th:only-of-type {\n",
       "        vertical-align: middle;\n",
       "    }\n",
       "\n",
       "    .dataframe tbody tr th {\n",
       "        vertical-align: top;\n",
       "    }\n",
       "\n",
       "    .dataframe thead th {\n",
       "        text-align: right;\n",
       "    }\n",
       "</style>\n",
       "<table border=\"1\" class=\"dataframe\">\n",
       "  <thead>\n",
       "    <tr style=\"text-align: right;\">\n",
       "      <th></th>\n",
       "      <th>ds</th>\n",
       "      <th>yhat</th>\n",
       "      <th>yhat_lower</th>\n",
       "      <th>yhat_upper</th>\n",
       "    </tr>\n",
       "  </thead>\n",
       "  <tbody>\n",
       "    <tr>\n",
       "      <th>432</th>\n",
       "      <td>2020-08-24</td>\n",
       "      <td>587.105829</td>\n",
       "      <td>564.783445</td>\n",
       "      <td>607.229060</td>\n",
       "    </tr>\n",
       "    <tr>\n",
       "      <th>433</th>\n",
       "      <td>2020-08-25</td>\n",
       "      <td>587.651120</td>\n",
       "      <td>564.649591</td>\n",
       "      <td>610.004949</td>\n",
       "    </tr>\n",
       "    <tr>\n",
       "      <th>434</th>\n",
       "      <td>2020-08-26</td>\n",
       "      <td>588.109611</td>\n",
       "      <td>565.216935</td>\n",
       "      <td>610.584379</td>\n",
       "    </tr>\n",
       "    <tr>\n",
       "      <th>435</th>\n",
       "      <td>2020-08-27</td>\n",
       "      <td>588.483406</td>\n",
       "      <td>565.674926</td>\n",
       "      <td>610.096895</td>\n",
       "    </tr>\n",
       "    <tr>\n",
       "      <th>436</th>\n",
       "      <td>2020-08-28</td>\n",
       "      <td>588.776075</td>\n",
       "      <td>564.996566</td>\n",
       "      <td>610.741022</td>\n",
       "    </tr>\n",
       "  </tbody>\n",
       "</table>\n",
       "</div>"
      ],
      "text/plain": [
       "            ds        yhat  yhat_lower  yhat_upper\n",
       "432 2020-08-24  587.105829  564.783445  607.229060\n",
       "433 2020-08-25  587.651120  564.649591  610.004949\n",
       "434 2020-08-26  588.109611  565.216935  610.584379\n",
       "435 2020-08-27  588.483406  565.674926  610.096895\n",
       "436 2020-08-28  588.776075  564.996566  610.741022"
      ]
     },
     "execution_count": 7,
     "metadata": {},
     "output_type": "execute_result"
    }
   ],
   "source": [
    "future = m4.make_future_dataframe(periods = 228)\n",
    "forecast = m4.predict(future)\n",
    "forecast[['ds', 'yhat', 'yhat_lower', 'yhat_upper']].tail()"
   ]
  },
  {
   "cell_type": "code",
   "execution_count": 8,
   "metadata": {},
   "outputs": [
    {
     "name": "stderr",
     "output_type": "stream",
     "text": [
      "INFO:matplotlib.category:Using categorical units to plot a list of strings that are all parsable as floats or dates. If these strings should be plotted as numbers, cast to the appropriate data type before plotting.\n",
      "INFO:matplotlib.category:Using categorical units to plot a list of strings that are all parsable as floats or dates. If these strings should be plotted as numbers, cast to the appropriate data type before plotting.\n"
     ]
    },
    {
     "data": {
      "text/plain": [
       "Text(0, 0.5, 'Close of stock')"
      ]
     },
     "execution_count": 8,
     "metadata": {},
     "output_type": "execute_result"
    },
    {
     "data": {
      "image/png": "[encoded data removed]",
      "text/plain": [
       "<Figure size 432x288 with 1 Axes>"
      ]
     },
     "metadata": {
      "needs_background": "light"
     },
     "output_type": "display_data"
    }
   ],
   "source": [
    "import matplotlib.pyplot as plt\n",
    "\n",
    "plt.plot(data4.ds,data4.y)\n",
    "plt.xlabel('01/20/2020 - 09/05/2020')\n",
    "plt.ylabel('Close of stock')"
   ]
  },
  {
   "cell_type": "code",
   "execution_count": 9,
   "metadata": {},
   "outputs": [
    {
     "data": {
      "image/png": "[encoded data removed]",
      "text/plain": [
       "<Figure size 720x432 with 1 Axes>"
      ]
     },
     "metadata": {},
     "output_type": "display_data"
    }
   ],
   "source": [
    "fig1 = m4.plot(forecast)"
   ]
  },
  {
   "cell_type": "code",
   "execution_count": 10,
   "metadata": {},
   "outputs": [
    {
     "data": {
      "text/html": [
       "<div>\n",
       "<style scoped>\n",
       "    .dataframe tbody tr th:only-of-type {\n",
       "        vertical-align: middle;\n",
       "    }\n",
       "\n",
       "    .dataframe tbody tr th {\n",
       "        vertical-align: top;\n",
       "    }\n",
       "\n",
       "    .dataframe thead th {\n",
       "        text-align: right;\n",
       "    }\n",
       "</style>\n",
       "<table border=\"1\" class=\"dataframe\">\n",
       "  <thead>\n",
       "    <tr style=\"text-align: right;\">\n",
       "      <th></th>\n",
       "      <th>ds</th>\n",
       "      <th>Open</th>\n",
       "      <th>High</th>\n",
       "      <th>Low</th>\n",
       "      <th>y</th>\n",
       "      <th>Adj Close</th>\n",
       "      <th>Volume</th>\n",
       "    </tr>\n",
       "  </thead>\n",
       "  <tbody>\n",
       "    <tr>\n",
       "      <th>29</th>\n",
       "      <td>2020-08-10</td>\n",
       "      <td>1055.000000</td>\n",
       "      <td>1064.000000</td>\n",
       "      <td>964.739990</td>\n",
       "      <td>987.900024</td>\n",
       "      <td>987.900024</td>\n",
       "      <td>9383400</td>\n",
       "    </tr>\n",
       "    <tr>\n",
       "      <th>30</th>\n",
       "      <td>2020-08-17</td>\n",
       "      <td>999.000000</td>\n",
       "      <td>1046.979980</td>\n",
       "      <td>993.169983</td>\n",
       "      <td>1021.119995</td>\n",
       "      <td>1021.119995</td>\n",
       "      <td>6408700</td>\n",
       "    </tr>\n",
       "    <tr>\n",
       "      <th>31</th>\n",
       "      <td>2020-08-24</td>\n",
       "      <td>1032.000000</td>\n",
       "      <td>1115.989990</td>\n",
       "      <td>988.880005</td>\n",
       "      <td>1042.060059</td>\n",
       "      <td>1042.060059</td>\n",
       "      <td>9212100</td>\n",
       "    </tr>\n",
       "    <tr>\n",
       "      <th>32</th>\n",
       "      <td>2020-08-31</td>\n",
       "      <td>1048.510010</td>\n",
       "      <td>1146.910034</td>\n",
       "      <td>993.859985</td>\n",
       "      <td>1015.700012</td>\n",
       "      <td>1015.700012</td>\n",
       "      <td>8838900</td>\n",
       "    </tr>\n",
       "    <tr>\n",
       "      <th>33</th>\n",
       "      <td>2020-09-04</td>\n",
       "      <td>996.190002</td>\n",
       "      <td>1018.979980</td>\n",
       "      <td>896.479980</td>\n",
       "      <td>973.020020</td>\n",
       "      <td>973.020020</td>\n",
       "      <td>3461003</td>\n",
       "    </tr>\n",
       "  </tbody>\n",
       "</table>\n",
       "</div>"
      ],
      "text/plain": [
       "            ds         Open         High         Low            y  \\\n",
       "29  2020-08-10  1055.000000  1064.000000  964.739990   987.900024   \n",
       "30  2020-08-17   999.000000  1046.979980  993.169983  1021.119995   \n",
       "31  2020-08-24  1032.000000  1115.989990  988.880005  1042.060059   \n",
       "32  2020-08-31  1048.510010  1146.910034  993.859985  1015.700012   \n",
       "33  2020-09-04   996.190002  1018.979980  896.479980   973.020020   \n",
       "\n",
       "      Adj Close   Volume  \n",
       "29   987.900024  9383400  \n",
       "30  1021.119995  6408700  \n",
       "31  1042.060059  9212100  \n",
       "32  1015.700012  8838900  \n",
       "33   973.020020  3461003  "
      ]
     },
     "execution_count": 10,
     "metadata": {},
     "output_type": "execute_result"
    }
   ],
   "source": [
    "data4.tail()"
   ]
  },
  {
   "cell_type": "code",
   "execution_count": 11,
   "metadata": {},
   "outputs": [
    {
     "data": {
      "text/html": [
       "<div>\n",
       "<style scoped>\n",
       "    .dataframe tbody tr th:only-of-type {\n",
       "        vertical-align: middle;\n",
       "    }\n",
       "\n",
       "    .dataframe tbody tr th {\n",
       "        vertical-align: top;\n",
       "    }\n",
       "\n",
       "    .dataframe thead th {\n",
       "        text-align: right;\n",
       "    }\n",
       "</style>\n",
       "<table border=\"1\" class=\"dataframe\">\n",
       "  <thead>\n",
       "    <tr style=\"text-align: right;\">\n",
       "      <th></th>\n",
       "      <th>ds</th>\n",
       "      <th>trend</th>\n",
       "      <th>yhat_lower</th>\n",
       "      <th>yhat_upper</th>\n",
       "      <th>trend_lower</th>\n",
       "      <th>trend_upper</th>\n",
       "      <th>additive_terms</th>\n",
       "      <th>additive_terms_lower</th>\n",
       "      <th>additive_terms_upper</th>\n",
       "      <th>yearly</th>\n",
       "      <th>yearly_lower</th>\n",
       "      <th>yearly_upper</th>\n",
       "      <th>multiplicative_terms</th>\n",
       "      <th>multiplicative_terms_lower</th>\n",
       "      <th>multiplicative_terms_upper</th>\n",
       "      <th>yhat</th>\n",
       "    </tr>\n",
       "  </thead>\n",
       "  <tbody>\n",
       "    <tr>\n",
       "      <th>432</th>\n",
       "      <td>2020-08-24</td>\n",
       "      <td>569.416552</td>\n",
       "      <td>564.783445</td>\n",
       "      <td>607.229060</td>\n",
       "      <td>559.653366</td>\n",
       "      <td>578.681702</td>\n",
       "      <td>17.689278</td>\n",
       "      <td>17.689278</td>\n",
       "      <td>17.689278</td>\n",
       "      <td>17.689278</td>\n",
       "      <td>17.689278</td>\n",
       "      <td>17.689278</td>\n",
       "      <td>0.0</td>\n",
       "      <td>0.0</td>\n",
       "      <td>0.0</td>\n",
       "      <td>587.105829</td>\n",
       "    </tr>\n",
       "    <tr>\n",
       "      <th>433</th>\n",
       "      <td>2020-08-25</td>\n",
       "      <td>570.095093</td>\n",
       "      <td>564.649591</td>\n",
       "      <td>610.004949</td>\n",
       "      <td>560.277847</td>\n",
       "      <td>579.428825</td>\n",
       "      <td>17.556027</td>\n",
       "      <td>17.556027</td>\n",
       "      <td>17.556027</td>\n",
       "      <td>17.556027</td>\n",
       "      <td>17.556027</td>\n",
       "      <td>17.556027</td>\n",
       "      <td>0.0</td>\n",
       "      <td>0.0</td>\n",
       "      <td>0.0</td>\n",
       "      <td>587.651120</td>\n",
       "    </tr>\n",
       "    <tr>\n",
       "      <th>434</th>\n",
       "      <td>2020-08-26</td>\n",
       "      <td>570.773635</td>\n",
       "      <td>565.216935</td>\n",
       "      <td>610.584379</td>\n",
       "      <td>560.877976</td>\n",
       "      <td>580.170687</td>\n",
       "      <td>17.335976</td>\n",
       "      <td>17.335976</td>\n",
       "      <td>17.335976</td>\n",
       "      <td>17.335976</td>\n",
       "      <td>17.335976</td>\n",
       "      <td>17.335976</td>\n",
       "      <td>0.0</td>\n",
       "      <td>0.0</td>\n",
       "      <td>0.0</td>\n",
       "      <td>588.109611</td>\n",
       "    </tr>\n",
       "    <tr>\n",
       "      <th>435</th>\n",
       "      <td>2020-08-27</td>\n",
       "      <td>571.452176</td>\n",
       "      <td>565.674926</td>\n",
       "      <td>610.096895</td>\n",
       "      <td>561.488227</td>\n",
       "      <td>580.912356</td>\n",
       "      <td>17.031230</td>\n",
       "      <td>17.031230</td>\n",
       "      <td>17.031230</td>\n",
       "      <td>17.031230</td>\n",
       "      <td>17.031230</td>\n",
       "      <td>17.031230</td>\n",
       "      <td>0.0</td>\n",
       "      <td>0.0</td>\n",
       "      <td>0.0</td>\n",
       "      <td>588.483406</td>\n",
       "    </tr>\n",
       "    <tr>\n",
       "      <th>436</th>\n",
       "      <td>2020-08-28</td>\n",
       "      <td>572.130718</td>\n",
       "      <td>564.996566</td>\n",
       "      <td>610.741022</td>\n",
       "      <td>562.151298</td>\n",
       "      <td>581.651488</td>\n",
       "      <td>16.645357</td>\n",
       "      <td>16.645357</td>\n",
       "      <td>16.645357</td>\n",
       "      <td>16.645357</td>\n",
       "      <td>16.645357</td>\n",
       "      <td>16.645357</td>\n",
       "      <td>0.0</td>\n",
       "      <td>0.0</td>\n",
       "      <td>0.0</td>\n",
       "      <td>588.776075</td>\n",
       "    </tr>\n",
       "  </tbody>\n",
       "</table>\n",
       "</div>"
      ],
      "text/plain": [
       "            ds       trend  yhat_lower  yhat_upper  trend_lower  trend_upper  \\\n",
       "432 2020-08-24  569.416552  564.783445  607.229060   559.653366   578.681702   \n",
       "433 2020-08-25  570.095093  564.649591  610.004949   560.277847   579.428825   \n",
       "434 2020-08-26  570.773635  565.216935  610.584379   560.877976   580.170687   \n",
       "435 2020-08-27  571.452176  565.674926  610.096895   561.488227   580.912356   \n",
       "436 2020-08-28  572.130718  564.996566  610.741022   562.151298   581.651488   \n",
       "\n",
       "     additive_terms  additive_terms_lower  additive_terms_upper     yearly  \\\n",
       "432       17.689278             17.689278             17.689278  17.689278   \n",
       "433       17.556027             17.556027             17.556027  17.556027   \n",
       "434       17.335976             17.335976             17.335976  17.335976   \n",
       "435       17.031230             17.031230             17.031230  17.031230   \n",
       "436       16.645357             16.645357             16.645357  16.645357   \n",
       "\n",
       "     yearly_lower  yearly_upper  multiplicative_terms  \\\n",
       "432     17.689278     17.689278                   0.0   \n",
       "433     17.556027     17.556027                   0.0   \n",
       "434     17.335976     17.335976                   0.0   \n",
       "435     17.031230     17.031230                   0.0   \n",
       "436     16.645357     16.645357                   0.0   \n",
       "\n",
       "     multiplicative_terms_lower  multiplicative_terms_upper        yhat  \n",
       "432                         0.0                         0.0  587.105829  \n",
       "433                         0.0                         0.0  587.651120  \n",
       "434                         0.0                         0.0  588.109611  \n",
       "435                         0.0                         0.0  588.483406  \n",
       "436                         0.0                         0.0  588.776075  "
      ]
     },
     "execution_count": 11,
     "metadata": {},
     "output_type": "execute_result"
    }
   ],
   "source": [
    "forecast.tail()"
   ]
  },
  {
   "cell_type": "code",
   "execution_count": 13,
   "metadata": {},
   "outputs": [
    {
     "name": "stdout",
     "output_type": "stream",
     "text": [
      "Shopify's stocks have been impacted by Covid-19(from the date when the first case was reported in the USA) against the normal flow by \n",
      " 65.26147398227756 % as of 09/05/2020\n"
     ]
    }
   ],
   "source": [
    "shopify_impact = (973.020020 - 588.776075)/588.776075 * 100\n",
    "print(\"Shopify's stocks have been impacted by Covid-19(from the date when the first case was reported in the USA) against the normal flow by \\n\", shopify_impact, \"% as of 09/05/2020\")"
   ]
  },
  {
   "cell_type": "code",
   "execution_count": null,
   "metadata": {},
   "outputs": [],
   "source": []
  }
 ],
 "metadata": {
  "kernelspec": {
   "display_name": "Python",
   "language": "python",
   "name": "conda-env-python-py"
  },
  "language_info": {
   "codemirror_mode": {
    "name": "ipython",
    "version": 3
   },
   "file_extension": ".py",
   "mimetype": "text/x-python",
   "name": "python",
   "nbconvert_exporter": "python",
   "pygments_lexer": "ipython3",
   "version": "3.6.11"
  }
 },
 "nbformat": 4,
 "nbformat_minor": 4
}
